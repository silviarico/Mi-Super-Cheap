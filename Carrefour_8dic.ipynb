{
 "cells": [
  {
   "cell_type": "code",
   "execution_count": 2,
   "id": "580ae1d3",
   "metadata": {},
   "outputs": [],
   "source": [
    "import pandas as pd\n",
    "import numpy as np\n",
    "import re\n",
    "import requests\n",
    "from bs4 import BeautifulSoup\n",
    "from selenium import webdriver\n",
    "from selenium.webdriver.chrome.service import Service\n",
    "from selenium import webdriver\n",
    "from selenium.webdriver.chrome.options import Options\n",
    "import time\n",
    "from selenium.webdriver.support.ui import Select\n",
    "from webdriver_manager.chrome import ChromeDriverManager\n",
    "from selenium.webdriver.support.ui import Select\n",
    "import math"
   ]
  },
  {
   "cell_type": "code",
   "execution_count": 3,
   "id": "be09985c",
   "metadata": {},
   "outputs": [],
   "source": [
    "s=Service(\"/mnt/c/Users/silvi/Desktop/ironhack/proyectos/proyecto2/pipeline_proyecto1-2/jupyter/chromedriver.exe\")\n",
    "driver = webdriver.Chrome(service=s)\n",
    "opciones=Options()\n",
    "\n",
    "opciones.add_experimental_option('excludeSwitches', ['enable-automation'])\n",
    "opciones.add_experimental_option('useAutomationExtension', False)\n",
    "\n",
    "opciones.headless=False    # si True, no aperece la ventana (headless=no visible)\n",
    "\n",
    "opciones.add_argument('--start-maximized')         # comienza maximizado\n",
    "\n",
    "opciones.add_argument('user-data-dir=selenium')    # mantiene las cookies\n",
    "\n",
    "#opciones.add_extension('driver_folder/adblock.crx')       # adblocker\n",
    "\n",
    "opciones.add_argument('--incognito')              # incognito"
   ]
  },
  {
   "cell_type": "code",
   "execution_count": 4,
   "id": "94676fca",
   "metadata": {},
   "outputs": [
    {
     "name": "stderr",
     "output_type": "stream",
     "text": [
      "<ipython-input-4-240fb0e18c45>:5: DeprecationWarning: find_element_by_* commands are deprecated. Please use find_element() instead\n",
      "  driver.find_element_by_css_selector('#onetrust-accept-btn-handler').click()\n"
     ]
    }
   ],
   "source": [
    "url = ('https://www.carrefour.es/supermercado/')\n",
    "driver.get(url)\n",
    "time.sleep(5)\n",
    "\n",
    "driver.find_element_by_css_selector('#onetrust-accept-btn-handler').click()"
   ]
  },
  {
   "cell_type": "code",
   "execution_count": 5,
   "id": "19aa311c",
   "metadata": {},
   "outputs": [],
   "source": [
    "body = driver.execute_script(\"return document.body\")\n",
    "source = body.get_attribute('innerHTML') \n",
    "soup_sc = BeautifulSoup(source, \"html.parser\")\n"
   ]
  },
  {
   "cell_type": "markdown",
   "id": "ffcf4736",
   "metadata": {},
   "source": [
    "https://www.carrefour.es/supermercado/el-mercado/cat20002/c?ic_source=portal-y-corporativo&ic_medium=category-food-box&ic_content=ns&offset=24"
   ]
  },
  {
   "cell_type": "markdown",
   "id": "01bff01d",
   "metadata": {},
   "source": [
    "https://www.carrefour.es/supermercado/el-mercado/cat20002/c?ic_source=portal-y-corporativo&ic_medium=category-food-box&ic_content=ns"
   ]
  },
  {
   "cell_type": "code",
   "execution_count": 6,
   "id": "8e993186",
   "metadata": {},
   "outputs": [],
   "source": [
    "paginas=soup_sc.findAll(\"a\",{\"class\": \"nav-first-level-categories__list-element ripple\"})\n"
   ]
  },
  {
   "cell_type": "code",
   "execution_count": 7,
   "id": "97933519",
   "metadata": {},
   "outputs": [],
   "source": [
    "lista_enlaces=[f\"https://www.carrefour.es{elemento.get('href')}\" for elemento in paginas]"
   ]
  },
  {
   "cell_type": "code",
   "execution_count": 8,
   "id": "c92d53d4",
   "metadata": {},
   "outputs": [],
   "source": [
    "lista_enlaces.remove('https://www.carrefour.es/supermercado/editOnlineList')"
   ]
  },
  {
   "cell_type": "code",
   "execution_count": 9,
   "id": "5986489b",
   "metadata": {},
   "outputs": [
    {
     "data": {
      "text/plain": [
       "['https://www.carrefour.es/supermercado/la-despensa/cat20001/c',\n",
       " 'https://www.carrefour.es/supermercado/productos-frescos/cat20002/c',\n",
       " 'https://www.carrefour.es/supermercado/bebidas/cat20003/c',\n",
       " 'https://www.carrefour.es/supermercado/perfumeria-e-higiene/cat20004/c',\n",
       " 'https://www.carrefour.es/supermercado/limpieza-y-hogar/cat20005/c',\n",
       " 'https://www.carrefour.es/supermercado/bebe/cat20006/c',\n",
       " 'https://www.carrefour.es/supermercado/mascotas/cat20007/c',\n",
       " 'https://www.carrefour.es/supermercado/parafarmacia/cat20008/c']"
      ]
     },
     "execution_count": 9,
     "metadata": {},
     "output_type": "execute_result"
    }
   ],
   "source": [
    "lista_enlaces"
   ]
  },
  {
   "cell_type": "code",
   "execution_count": 10,
   "id": "ccc7bbf7",
   "metadata": {},
   "outputs": [],
   "source": [
    "url = 'https://www.carrefour.es/supermercado/la-despensa/cat20001/c'\n",
    "driver.get(url)\n",
    "driver.implicitly_wait(2)\n",
    "body = driver.execute_script(\"return document.body\")\n",
    "source = body.get_attribute('innerHTML') \n",
    "soup_sc = BeautifulSoup(source, \"html.parser\")\n",
    "N=soup_sc.findAll(\"span\",{\"class\": \"pagination__results-item\"})\n",
    "text=[p.getText() for p in N][2]\n",
    "num = math.floor(int(text)/24)\n",
    "\n"
   ]
  },
  {
   "cell_type": "code",
   "execution_count": 44,
   "id": "8a6679b5",
   "metadata": {},
   "outputs": [
    {
     "data": {
      "text/plain": [
       "'lista_links=[]\\nx=24\\nfor i in range(num-1):\\n    lista_links.append(f\"https://www.carrefour.es/supermercado/la-despensa/cat20001/c?offset={x}\")\\n    x+=24\\nlista_links'"
      ]
     },
     "execution_count": 44,
     "metadata": {},
     "output_type": "execute_result"
    }
   ],
   "source": [
    "\"\"\"lista_links=[]\n",
    "x=24\n",
    "for i in range(num-1):\n",
    "    lista_links.append(f\"https://www.carrefour.es/supermercado/la-despensa/cat20001/c?offset={x}\")\n",
    "    x+=24\n",
    "lista_links\"\"\""
   ]
  },
  {
   "cell_type": "code",
   "execution_count": 11,
   "id": "ed4adbcd",
   "metadata": {},
   "outputs": [],
   "source": [
    "lista_all=[]\n",
    "for i in lista_enlaces:\n",
    "    url = i\n",
    "    driver.get(url)\n",
    "    driver.implicitly_wait(2)\n",
    "    body = driver.execute_script(\"return document.body\")\n",
    "    source = body.get_attribute('innerHTML') \n",
    "    soup_sc = BeautifulSoup(source, \"html.parser\")\n",
    "    N=soup_sc.findAll(\"span\",{\"class\": \"pagination__results-item\"})\n",
    "    text=[p.getText() for p in N][2]\n",
    "    num = math.floor(int(text)/24)\n",
    "    x=24\n",
    "    for z in range(num-1):\n",
    "        lista_all.append(f\"{i}?offset={x}\")\n",
    "        x+=24\n",
    "    "
   ]
  },
  {
   "cell_type": "code",
   "execution_count": 12,
   "id": "a076db9a",
   "metadata": {},
   "outputs": [],
   "source": [
    "lista_all=lista_all+lista_enlaces"
   ]
  },
  {
   "cell_type": "code",
   "execution_count": 13,
   "id": "e0f04eaa",
   "metadata": {},
   "outputs": [
    {
     "name": "stdout",
     "output_type": "stream",
     "text": [
      "End of page\n",
      "End of page\n",
      "End of page\n",
      "End of page\n",
      "End of page\n",
      "End of page\n",
      "End of page\n",
      "End of page\n",
      "End of page\n",
      "End of page\n",
      "End of page\n",
      "End of page\n",
      "End of page\n",
      "End of page\n",
      "End of page\n",
      "End of page\n",
      "End of page\n",
      "End of page\n",
      "End of page\n",
      "End of page\n",
      "End of page\n",
      "End of page\n",
      "End of page\n",
      "End of page\n",
      "End of page\n",
      "End of page\n",
      "End of page\n",
      "End of page\n",
      "End of page\n",
      "End of page\n",
      "End of page\n",
      "End of page\n",
      "End of page\n",
      "End of page\n",
      "End of page\n",
      "End of page\n",
      "End of page\n",
      "End of page\n",
      "End of page\n",
      "End of page\n",
      "End of page\n",
      "End of page\n",
      "End of page\n",
      "End of page\n",
      "End of page\n",
      "End of page\n",
      "End of page\n",
      "End of page\n",
      "End of page\n",
      "End of page\n",
      "End of page\n",
      "End of page\n",
      "End of page\n",
      "End of page\n",
      "End of page\n",
      "End of page\n",
      "End of page\n",
      "End of page\n",
      "End of page\n",
      "End of page\n",
      "End of page\n",
      "End of page\n",
      "End of page\n",
      "End of page\n",
      "End of page\n",
      "End of page\n",
      "End of page\n",
      "End of page\n",
      "End of page\n",
      "End of page\n",
      "End of page\n",
      "End of page\n",
      "End of page\n",
      "End of page\n",
      "End of page\n",
      "End of page\n",
      "End of page\n",
      "End of page\n",
      "End of page\n",
      "End of page\n",
      "End of page\n",
      "End of page\n",
      "End of page\n",
      "End of page\n",
      "End of page\n",
      "End of page\n",
      "End of page\n",
      "End of page\n",
      "End of page\n",
      "End of page\n",
      "End of page\n",
      "End of page\n",
      "End of page\n",
      "End of page\n",
      "End of page\n",
      "End of page\n",
      "End of page\n",
      "End of page\n",
      "End of page\n",
      "End of page\n",
      "End of page\n",
      "End of page\n",
      "End of page\n",
      "End of page\n",
      "End of page\n",
      "End of page\n",
      "End of page\n",
      "End of page\n",
      "End of page\n",
      "End of page\n",
      "End of page\n",
      "End of page\n",
      "End of page\n",
      "End of page\n",
      "End of page\n",
      "End of page\n",
      "End of page\n",
      "End of page\n",
      "End of page\n",
      "End of page\n",
      "End of page\n",
      "End of page\n",
      "End of page\n",
      "End of page\n",
      "End of page\n",
      "End of page\n",
      "End of page\n",
      "End of page\n",
      "End of page\n",
      "End of page\n",
      "End of page\n",
      "End of page\n",
      "End of page\n",
      "End of page\n",
      "End of page\n",
      "End of page\n",
      "End of page\n",
      "End of page\n",
      "End of page\n",
      "End of page\n",
      "End of page\n",
      "End of page\n",
      "End of page\n",
      "End of page\n",
      "End of page\n",
      "End of page\n",
      "End of page\n",
      "End of page\n",
      "End of page\n",
      "End of page\n",
      "End of page\n",
      "End of page\n",
      "End of page\n",
      "End of page\n",
      "End of page\n",
      "End of page\n",
      "End of page\n",
      "End of page\n",
      "End of page\n",
      "End of page\n",
      "End of page\n",
      "End of page\n",
      "End of page\n",
      "End of page\n",
      "End of page\n",
      "End of page\n",
      "End of page\n",
      "End of page\n",
      "End of page\n",
      "End of page\n",
      "End of page\n",
      "End of page\n",
      "End of page\n",
      "End of page\n",
      "End of page\n",
      "End of page\n",
      "End of page\n",
      "End of page\n",
      "End of page\n",
      "End of page\n",
      "End of page\n",
      "End of page\n",
      "End of page\n",
      "End of page\n",
      "End of page\n",
      "End of page\n",
      "End of page\n",
      "End of page\n",
      "End of page\n",
      "End of page\n",
      "End of page\n",
      "End of page\n",
      "End of page\n",
      "End of page\n",
      "End of page\n",
      "End of page\n",
      "End of page\n",
      "End of page\n",
      "End of page\n",
      "End of page\n",
      "End of page\n",
      "End of page\n",
      "End of page\n",
      "End of page\n",
      "End of page\n",
      "End of page\n",
      "End of page\n",
      "End of page\n",
      "End of page\n",
      "End of page\n",
      "End of page\n",
      "End of page\n",
      "End of page\n",
      "End of page\n",
      "End of page\n",
      "End of page\n",
      "End of page\n",
      "End of page\n",
      "End of page\n",
      "End of page\n",
      "End of page\n",
      "End of page\n",
      "End of page\n",
      "End of page\n",
      "End of page\n",
      "End of page\n",
      "End of page\n",
      "End of page\n",
      "End of page\n",
      "End of page\n",
      "End of page\n",
      "End of page\n",
      "End of page\n",
      "End of page\n",
      "End of page\n",
      "End of page\n",
      "End of page\n",
      "End of page\n",
      "End of page\n",
      "End of page\n",
      "End of page\n",
      "End of page\n",
      "End of page\n",
      "End of page\n",
      "End of page\n",
      "End of page\n",
      "End of page\n",
      "End of page\n",
      "End of page\n",
      "End of page\n",
      "End of page\n",
      "End of page\n",
      "End of page\n",
      "End of page\n",
      "End of page\n",
      "End of page\n",
      "End of page\n",
      "End of page\n",
      "End of page\n",
      "End of page\n",
      "End of page\n",
      "End of page\n",
      "End of page\n",
      "End of page\n",
      "End of page\n",
      "End of page\n",
      "End of page\n",
      "End of page\n",
      "End of page\n",
      "End of page\n",
      "End of page\n",
      "End of page\n",
      "End of page\n",
      "End of page\n",
      "End of page\n",
      "End of page\n",
      "End of page\n",
      "End of page\n",
      "End of page\n",
      "End of page\n",
      "End of page\n",
      "End of page\n"
     ]
    }
   ],
   "source": [
    "dic_parseado={}\n",
    "lista_productos=[]\n",
    "for i in lista_all:\n",
    "    url = i\n",
    "    driver.get(url)\n",
    "    time.sleep(1)\n",
    "    iter=1\n",
    "    while True:\n",
    "    \n",
    "        scrollHeight = driver.execute_script(\"return document.documentElement.scrollHeight\")\n",
    "        Height=250*iter\n",
    "        driver.execute_script(\"window.scrollTo(0, \" + str(Height) + \");\")\n",
    "        if Height > scrollHeight:\n",
    "            print('End of page')\n",
    "            break\n",
    "        time.sleep(0.5)\n",
    "        iter+=1\n",
    "    body = driver.execute_script(\"return document.body\")\n",
    "    source = body.get_attribute('innerHTML') \n",
    "    soup_sc = BeautifulSoup(source, \"html.parser\")\n",
    "    dic_parseado[f\"{i}\"]=soup_sc\n",
    "    productos=soup_sc.findAll(\"div\",{\"class\": \"product-card__detail\"})\n",
    "    text=[p.getText() for p in productos]\n",
    "    for x in text:\n",
    "        c=x.replace(\"              \",\"\")\n",
    "        c=x.replace(\"            \",\"\")\n",
    "        c=x.replace(\"          \",\"\")\n",
    "        c=x.replace(\"        \",\"\")\n",
    "        c=x.replace(\"      \",\"\")\n",
    "        c=x.replace(\"    \",\"\")\n",
    "        c=x.replace(\"  \",\"\")\n",
    "        lista=c.split(\"\\n\\n\")\n",
    "        lista.append(i)\n",
    "        lista_productos.append(lista)"
   ]
  },
  {
   "cell_type": "code",
   "execution_count": 14,
   "id": "6e15a2b6",
   "metadata": {},
   "outputs": [
    {
     "data": {
      "text/plain": [
       "{5, 6, 7, 8, 9}"
      ]
     },
     "execution_count": 14,
     "metadata": {},
     "output_type": "execute_result"
    }
   ],
   "source": [
    "largo=[]\n",
    "for i in lista_productos:\n",
    "    largo.append(len(i))\n",
    "x=set(largo)\n",
    "x"
   ]
  },
  {
   "cell_type": "code",
   "execution_count": 24,
   "id": "dd9ba67a",
   "metadata": {},
   "outputs": [
    {
     "data": {
      "text/plain": [
       "7574"
      ]
     },
     "execution_count": 24,
     "metadata": {},
     "output_type": "execute_result"
    }
   ],
   "source": [
    "len(lista_productos)"
   ]
  },
  {
   "cell_type": "code",
   "execution_count": 17,
   "id": "c8dd7380",
   "metadata": {},
   "outputs": [
    {
     "data": {
      "text/plain": [
       "\"with open('parrot.pkl', 'rb') as f:\\n    mynewlist = pickle.load(f)\""
      ]
     },
     "execution_count": 17,
     "metadata": {},
     "output_type": "execute_result"
    }
   ],
   "source": [
    "\n",
    "import pickle\n",
    "\n",
    "with open('parrot.pkl', 'wb') as f:\n",
    "    pickle.dump(lista_productos, f)\n",
    "\"\"\"with open('parrot.pkl', 'rb') as f:\n",
    "    mynewlist = pickle.load(f)\"\"\""
   ]
  },
  {
   "cell_type": "code",
   "execution_count": 18,
   "id": "5f1962d6",
   "metadata": {},
   "outputs": [
    {
     "data": {
      "text/plain": [
       "['\\n19,39 €',\n",
       " '2,59 €/100ml',\n",
       " 'Fluido hidratante Lipikar La Roche-Posay 750 ml.',\n",
       " 'Añadir\\n',\n",
       " 'https://www.carrefour.es/supermercado/parafarmacia/cat20008/c?offset=384']"
      ]
     },
     "execution_count": 18,
     "metadata": {},
     "output_type": "execute_result"
    }
   ],
   "source": [
    "lista_productos[7000]"
   ]
  },
  {
   "cell_type": "code",
   "execution_count": 45,
   "id": "05d1508e",
   "metadata": {},
   "outputs": [],
   "source": [
    "lista_borrar=['Entero limpio',\n",
    "  'Rodajas',\n",
    "  'Filetes',\n",
    "  'Espalda con espina',\n",
    "  'Añadir\\n','Sin lactosa','Sin gluten',\n",
    "  'Ver productos de la promoción',\n",
    "  'Agotado temporalmente\\n','Bio','Rebanada gruesa',\n",
    "  'Rebanada mediana','Rebanada fina',\n",
    "  'Pieza','Cuña de 1/8',\n",
    "  'Medio queso',\n",
    "  'Queso entero','Congelado','Loncha gruesa 3/4mm',\n",
    "  'Loncha normal 2/3mm','Sin lactosa\\nTipo de corte:\\nLoncha fina 1mm','Filete normal 1 cm',\n",
    "  '- Sin entrega: lunes','\\nVer productos de la promoción','Varias promociones.\\n Ver todas \\nAñadir\\n','Tipo de corte:\\nEntero limpio',\n",
    "   'Limpio sin cabeza']"
   ]
  },
  {
   "cell_type": "code",
   "execution_count": 46,
   "id": "9db75bc3",
   "metadata": {},
   "outputs": [],
   "source": [
    "lista_prueba=lista_productos\n",
    "\n",
    "for i in lista_borrar:\n",
    "    for x in lista_prueba:\n",
    "        if i in x:\n",
    "            x.remove(i)"
   ]
  },
  {
   "cell_type": "code",
   "execution_count": 47,
   "id": "38f6198f",
   "metadata": {},
   "outputs": [
    {
     "data": {
      "text/plain": [
       "{4, 5}"
      ]
     },
     "execution_count": 47,
     "metadata": {},
     "output_type": "execute_result"
    }
   ],
   "source": [
    "largo2=[]\n",
    "for i in lista_prueba:\n",
    "    largo2.append(len(i))\n",
    "x2=set(largo2)\n",
    "x2"
   ]
  },
  {
   "cell_type": "code",
   "execution_count": 59,
   "id": "3bf9bc0a",
   "metadata": {},
   "outputs": [],
   "source": [
    "carr_4=[]\n",
    "carr_5=[]\n",
    "\n",
    "for i in lista_prueba:\n",
    "    if len(i)==4:\n",
    "        carr_4.append(i)\n",
    "    elif len(i)==5:\n",
    "        carr_5.append(i)\n"
   ]
  },
  {
   "cell_type": "code",
   "execution_count": 60,
   "id": "3c96f476",
   "metadata": {},
   "outputs": [],
   "source": [
    "carr_sin=pd.DataFrame(carr_4, columns=[\"precio\",\"precio_rel\",\"producto\",\"link\"])"
   ]
  },
  {
   "cell_type": "code",
   "execution_count": 49,
   "id": "e22f7ecb",
   "metadata": {},
   "outputs": [
    {
     "data": {
      "text/plain": [
       "['\\n3,35 €',\n",
       " '1,67 €/l',\n",
       " 'Caldo casero de pollo Gallina Blanca sin gluten pack de 2 briks de 1 l.',\n",
       " 'https://www.carrefour.es/supermercado/la-despensa/cat20001/c?offset=24']"
      ]
     },
     "execution_count": 49,
     "metadata": {},
     "output_type": "execute_result"
    }
   ],
   "source": [
    "carr_4[0]"
   ]
  },
  {
   "cell_type": "code",
   "execution_count": null,
   "id": "04e6323a",
   "metadata": {},
   "outputs": [],
   "source": []
  },
  {
   "cell_type": "code",
   "execution_count": 61,
   "id": "a8c3d75a",
   "metadata": {},
   "outputs": [],
   "source": [
    "carr_sin[\"Q\"]=carr_sin[\"producto\"].str.extract(r\"( \\d+ .+)\",)"
   ]
  },
  {
   "cell_type": "code",
   "execution_count": 55,
   "id": "84944199",
   "metadata": {},
   "outputs": [
    {
     "data": {
      "text/html": [
       "<div>\n",
       "<style scoped>\n",
       "    .dataframe tbody tr th:only-of-type {\n",
       "        vertical-align: middle;\n",
       "    }\n",
       "\n",
       "    .dataframe tbody tr th {\n",
       "        vertical-align: top;\n",
       "    }\n",
       "\n",
       "    .dataframe thead th {\n",
       "        text-align: right;\n",
       "    }\n",
       "</style>\n",
       "<table border=\"1\" class=\"dataframe\">\n",
       "  <thead>\n",
       "    <tr style=\"text-align: right;\">\n",
       "      <th></th>\n",
       "      <th>precio</th>\n",
       "      <th>precio_rel</th>\n",
       "      <th>producto</th>\n",
       "      <th>link</th>\n",
       "      <th>Q</th>\n",
       "    </tr>\n",
       "  </thead>\n",
       "  <tbody>\n",
       "    <tr>\n",
       "      <th>0</th>\n",
       "      <td>\\n3,35 €</td>\n",
       "      <td>1,67 €/l</td>\n",
       "      <td>Caldo casero de pollo Gallina Blanca sin glute...</td>\n",
       "      <td>https://www.carrefour.es/supermercado/la-despe...</td>\n",
       "      <td>2 briks de 1 l.</td>\n",
       "    </tr>\n",
       "    <tr>\n",
       "      <th>1</th>\n",
       "      <td>\\n3,95 €</td>\n",
       "      <td>3,95 €/l</td>\n",
       "      <td>Aceite de oliva virgen extra Carrefour 1 l.</td>\n",
       "      <td>https://www.carrefour.es/supermercado/la-despe...</td>\n",
       "      <td>1 l.</td>\n",
       "    </tr>\n",
       "    <tr>\n",
       "      <th>2</th>\n",
       "      <td>\\n0,22 €</td>\n",
       "      <td>0,22 €/kg</td>\n",
       "      <td>Sal marina fina Carrefour 1 kg.</td>\n",
       "      <td>https://www.carrefour.es/supermercado/la-despe...</td>\n",
       "      <td>1 kg.</td>\n",
       "    </tr>\n",
       "    <tr>\n",
       "      <th>3</th>\n",
       "      <td>\\n1,80 €</td>\n",
       "      <td>0,90 €/kg</td>\n",
       "      <td>Yogur de fresa, de macedonia, de limón y de fr...</td>\n",
       "      <td>https://www.carrefour.es/supermercado/la-despe...</td>\n",
       "      <td>16 unidades de 125 g.</td>\n",
       "    </tr>\n",
       "    <tr>\n",
       "      <th>4</th>\n",
       "      <td>\\n3,20 €</td>\n",
       "      <td>3,20 €/l</td>\n",
       "      <td>Aceite de oliva suave 0,4º Carrefour 1 l.</td>\n",
       "      <td>https://www.carrefour.es/supermercado/la-despe...</td>\n",
       "      <td>1 l.</td>\n",
       "    </tr>\n",
       "    <tr>\n",
       "      <th>...</th>\n",
       "      <td>...</td>\n",
       "      <td>...</td>\n",
       "      <td>...</td>\n",
       "      <td>...</td>\n",
       "      <td>...</td>\n",
       "    </tr>\n",
       "    <tr>\n",
       "      <th>6533</th>\n",
       "      <td>\\n8,29 €</td>\n",
       "      <td>5,53 €/100ml</td>\n",
       "      <td>Dentífrico menta fresca Repair &amp; Protect Senso...</td>\n",
       "      <td>https://www.carrefour.es/supermercado/parafarm...</td>\n",
       "      <td>2 unidades de 75 ml.</td>\n",
       "    </tr>\n",
       "    <tr>\n",
       "      <th>6534</th>\n",
       "      <td>\\n0,99 €</td>\n",
       "      <td>4,21 €/kg</td>\n",
       "      <td>Tarrito de menestra de cordero desde 6 meses N...</td>\n",
       "      <td>https://www.carrefour.es/supermercado/parafarm...</td>\n",
       "      <td>6 meses Nutribén 235 g.</td>\n",
       "    </tr>\n",
       "    <tr>\n",
       "      <th>6535</th>\n",
       "      <td>\\n9,39 €</td>\n",
       "      <td>6,26 €/100ml</td>\n",
       "      <td>Dentífrico para el cuidado de las encias herba...</td>\n",
       "      <td>https://www.carrefour.es/supermercado/parafarm...</td>\n",
       "      <td>2 unidades de 75 ml.</td>\n",
       "    </tr>\n",
       "    <tr>\n",
       "      <th>6536</th>\n",
       "      <td>\\n7,65 €</td>\n",
       "      <td>1,53 €/100ml</td>\n",
       "      <td>Colutorio diario para el cuidado de encías Par...</td>\n",
       "      <td>https://www.carrefour.es/supermercado/parafarm...</td>\n",
       "      <td>500 ml.</td>\n",
       "    </tr>\n",
       "    <tr>\n",
       "      <th>6537</th>\n",
       "      <td>\\n0,99 €</td>\n",
       "      <td>4,21 €/kg</td>\n",
       "      <td>Tarrito de pollo con guisantes y zanahorias de...</td>\n",
       "      <td>https://www.carrefour.es/supermercado/parafarm...</td>\n",
       "      <td>6 meses Nutribén 235 g.</td>\n",
       "    </tr>\n",
       "  </tbody>\n",
       "</table>\n",
       "<p>6538 rows × 5 columns</p>\n",
       "</div>"
      ],
      "text/plain": [
       "        precio    precio_rel  \\\n",
       "0     \\n3,35 €      1,67 €/l   \n",
       "1     \\n3,95 €      3,95 €/l   \n",
       "2     \\n0,22 €     0,22 €/kg   \n",
       "3     \\n1,80 €     0,90 €/kg   \n",
       "4     \\n3,20 €      3,20 €/l   \n",
       "...        ...           ...   \n",
       "6533  \\n8,29 €  5,53 €/100ml   \n",
       "6534  \\n0,99 €     4,21 €/kg   \n",
       "6535  \\n9,39 €  6,26 €/100ml   \n",
       "6536  \\n7,65 €  1,53 €/100ml   \n",
       "6537  \\n0,99 €     4,21 €/kg   \n",
       "\n",
       "                                               producto  \\\n",
       "0     Caldo casero de pollo Gallina Blanca sin glute...   \n",
       "1           Aceite de oliva virgen extra Carrefour 1 l.   \n",
       "2                       Sal marina fina Carrefour 1 kg.   \n",
       "3     Yogur de fresa, de macedonia, de limón y de fr...   \n",
       "4             Aceite de oliva suave 0,4º Carrefour 1 l.   \n",
       "...                                                 ...   \n",
       "6533  Dentífrico menta fresca Repair & Protect Senso...   \n",
       "6534  Tarrito de menestra de cordero desde 6 meses N...   \n",
       "6535  Dentífrico para el cuidado de las encias herba...   \n",
       "6536  Colutorio diario para el cuidado de encías Par...   \n",
       "6537  Tarrito de pollo con guisantes y zanahorias de...   \n",
       "\n",
       "                                                   link  \\\n",
       "0     https://www.carrefour.es/supermercado/la-despe...   \n",
       "1     https://www.carrefour.es/supermercado/la-despe...   \n",
       "2     https://www.carrefour.es/supermercado/la-despe...   \n",
       "3     https://www.carrefour.es/supermercado/la-despe...   \n",
       "4     https://www.carrefour.es/supermercado/la-despe...   \n",
       "...                                                 ...   \n",
       "6533  https://www.carrefour.es/supermercado/parafarm...   \n",
       "6534  https://www.carrefour.es/supermercado/parafarm...   \n",
       "6535  https://www.carrefour.es/supermercado/parafarm...   \n",
       "6536  https://www.carrefour.es/supermercado/parafarm...   \n",
       "6537  https://www.carrefour.es/supermercado/parafarm...   \n",
       "\n",
       "                             Q  \n",
       "0              2 briks de 1 l.  \n",
       "1                         1 l.  \n",
       "2                        1 kg.  \n",
       "3        16 unidades de 125 g.  \n",
       "4                         1 l.  \n",
       "...                        ...  \n",
       "6533      2 unidades de 75 ml.  \n",
       "6534   6 meses Nutribén 235 g.  \n",
       "6535      2 unidades de 75 ml.  \n",
       "6536                   500 ml.  \n",
       "6537   6 meses Nutribén 235 g.  \n",
       "\n",
       "[6538 rows x 5 columns]"
      ]
     },
     "execution_count": 55,
     "metadata": {},
     "output_type": "execute_result"
    }
   ],
   "source": []
  },
  {
   "cell_type": "code",
   "execution_count": 62,
   "id": "7293c45f",
   "metadata": {},
   "outputs": [],
   "source": [
    "carr_sin = carr_sin.replace(to_replace ='[\\n]', value = '', regex = True)\n",
    "carr_sin = carr_sin.replace(to_replace ='[€]', value = '', regex = True)\n",
    "carr_sin = carr_sin.replace(to_replace ='[,]', value = '.', regex = True)\n",
    "carr_sin = carr_sin.replace(to_replace ='[ó]', value = 'o', regex = True) \n",
    "carr_sin = carr_sin.replace(to_replace ='[á]', value = 'a', regex = True)\n",
    "carr_sin = carr_sin.replace(to_replace ='[é]', value = 'e', regex = True)\n",
    "carr_sin = carr_sin.replace(to_replace ='[ó]', value = 'o', regex = True) \n",
    "carr_sin = carr_sin.replace(to_replace ='[í]', value = 'i', regex = True)\n",
    "carr_sin = carr_sin.replace(to_replace ='[ú]', value = 'u', regex = True) \n",
    "carr_sin = carr_sin.replace(to_replace ='[ñ]', value = 'n', regex = True) "
   ]
  },
  {
   "cell_type": "code",
   "execution_count": 65,
   "id": "2249c415",
   "metadata": {},
   "outputs": [
    {
     "data": {
      "text/html": [
       "<div>\n",
       "<style scoped>\n",
       "    .dataframe tbody tr th:only-of-type {\n",
       "        vertical-align: middle;\n",
       "    }\n",
       "\n",
       "    .dataframe tbody tr th {\n",
       "        vertical-align: top;\n",
       "    }\n",
       "\n",
       "    .dataframe thead th {\n",
       "        text-align: right;\n",
       "    }\n",
       "</style>\n",
       "<table border=\"1\" class=\"dataframe\">\n",
       "  <thead>\n",
       "    <tr style=\"text-align: right;\">\n",
       "      <th></th>\n",
       "      <th>precio</th>\n",
       "      <th>precio_rel</th>\n",
       "      <th>producto</th>\n",
       "      <th>link</th>\n",
       "      <th>Q</th>\n",
       "      <th>precio_medida</th>\n",
       "      <th>medida</th>\n",
       "    </tr>\n",
       "  </thead>\n",
       "  <tbody>\n",
       "    <tr>\n",
       "      <th>0</th>\n",
       "      <td>3.35</td>\n",
       "      <td>1.67 /l</td>\n",
       "      <td>Caldo casero de pollo Gallina Blanca sin glute...</td>\n",
       "      <td>https://www.carrefour.es/supermercado/la-despe...</td>\n",
       "      <td>2 briks de 1 l.</td>\n",
       "      <td>1.67</td>\n",
       "      <td>l</td>\n",
       "    </tr>\n",
       "    <tr>\n",
       "      <th>1</th>\n",
       "      <td>3.95</td>\n",
       "      <td>3.95 /l</td>\n",
       "      <td>Aceite de oliva virgen extra Carrefour 1 l.</td>\n",
       "      <td>https://www.carrefour.es/supermercado/la-despe...</td>\n",
       "      <td>1 l.</td>\n",
       "      <td>3.95</td>\n",
       "      <td>l</td>\n",
       "    </tr>\n",
       "    <tr>\n",
       "      <th>2</th>\n",
       "      <td>0.22</td>\n",
       "      <td>0.22 /kg</td>\n",
       "      <td>Sal marina fina Carrefour 1 kg.</td>\n",
       "      <td>https://www.carrefour.es/supermercado/la-despe...</td>\n",
       "      <td>1 kg.</td>\n",
       "      <td>0.22</td>\n",
       "      <td>kg</td>\n",
       "    </tr>\n",
       "    <tr>\n",
       "      <th>3</th>\n",
       "      <td>1.80</td>\n",
       "      <td>0.90 /kg</td>\n",
       "      <td>Yogur de fresa. de macedonia. de limon y de fr...</td>\n",
       "      <td>https://www.carrefour.es/supermercado/la-despe...</td>\n",
       "      <td>16 unidades de 125 g.</td>\n",
       "      <td>0.90</td>\n",
       "      <td>kg</td>\n",
       "    </tr>\n",
       "    <tr>\n",
       "      <th>4</th>\n",
       "      <td>3.20</td>\n",
       "      <td>3.20 /l</td>\n",
       "      <td>Aceite de oliva suave 0.4º Carrefour 1 l.</td>\n",
       "      <td>https://www.carrefour.es/supermercado/la-despe...</td>\n",
       "      <td>1 l.</td>\n",
       "      <td>3.20</td>\n",
       "      <td>l</td>\n",
       "    </tr>\n",
       "    <tr>\n",
       "      <th>...</th>\n",
       "      <td>...</td>\n",
       "      <td>...</td>\n",
       "      <td>...</td>\n",
       "      <td>...</td>\n",
       "      <td>...</td>\n",
       "      <td>...</td>\n",
       "      <td>...</td>\n",
       "    </tr>\n",
       "    <tr>\n",
       "      <th>6533</th>\n",
       "      <td>8.29</td>\n",
       "      <td>5.53 /100ml</td>\n",
       "      <td>Dentifrico menta fresca Repair &amp; Protect Senso...</td>\n",
       "      <td>https://www.carrefour.es/supermercado/parafarm...</td>\n",
       "      <td>2 unidades de 75 ml.</td>\n",
       "      <td>5.53</td>\n",
       "      <td>100ml</td>\n",
       "    </tr>\n",
       "    <tr>\n",
       "      <th>6534</th>\n",
       "      <td>0.99</td>\n",
       "      <td>4.21 /kg</td>\n",
       "      <td>Tarrito de menestra de cordero desde 6 meses N...</td>\n",
       "      <td>https://www.carrefour.es/supermercado/parafarm...</td>\n",
       "      <td>6 meses Nutriben 235 g.</td>\n",
       "      <td>4.21</td>\n",
       "      <td>kg</td>\n",
       "    </tr>\n",
       "    <tr>\n",
       "      <th>6535</th>\n",
       "      <td>9.39</td>\n",
       "      <td>6.26 /100ml</td>\n",
       "      <td>Dentifrico para el cuidado de las encias herba...</td>\n",
       "      <td>https://www.carrefour.es/supermercado/parafarm...</td>\n",
       "      <td>2 unidades de 75 ml.</td>\n",
       "      <td>6.26</td>\n",
       "      <td>100ml</td>\n",
       "    </tr>\n",
       "    <tr>\n",
       "      <th>6536</th>\n",
       "      <td>7.65</td>\n",
       "      <td>1.53 /100ml</td>\n",
       "      <td>Colutorio diario para el cuidado de encias Par...</td>\n",
       "      <td>https://www.carrefour.es/supermercado/parafarm...</td>\n",
       "      <td>500 ml.</td>\n",
       "      <td>1.53</td>\n",
       "      <td>100ml</td>\n",
       "    </tr>\n",
       "    <tr>\n",
       "      <th>6537</th>\n",
       "      <td>0.99</td>\n",
       "      <td>4.21 /kg</td>\n",
       "      <td>Tarrito de pollo con guisantes y zanahorias de...</td>\n",
       "      <td>https://www.carrefour.es/supermercado/parafarm...</td>\n",
       "      <td>6 meses Nutriben 235 g.</td>\n",
       "      <td>4.21</td>\n",
       "      <td>kg</td>\n",
       "    </tr>\n",
       "  </tbody>\n",
       "</table>\n",
       "<p>6538 rows × 7 columns</p>\n",
       "</div>"
      ],
      "text/plain": [
       "     precio   precio_rel                                           producto  \\\n",
       "0     3.35       1.67 /l  Caldo casero de pollo Gallina Blanca sin glute...   \n",
       "1     3.95       3.95 /l        Aceite de oliva virgen extra Carrefour 1 l.   \n",
       "2     0.22      0.22 /kg                    Sal marina fina Carrefour 1 kg.   \n",
       "3     1.80      0.90 /kg  Yogur de fresa. de macedonia. de limon y de fr...   \n",
       "4     3.20       3.20 /l          Aceite de oliva suave 0.4º Carrefour 1 l.   \n",
       "...     ...          ...                                                ...   \n",
       "6533  8.29   5.53 /100ml  Dentifrico menta fresca Repair & Protect Senso...   \n",
       "6534  0.99      4.21 /kg  Tarrito de menestra de cordero desde 6 meses N...   \n",
       "6535  9.39   6.26 /100ml  Dentifrico para el cuidado de las encias herba...   \n",
       "6536  7.65   1.53 /100ml  Colutorio diario para el cuidado de encias Par...   \n",
       "6537  0.99      4.21 /kg  Tarrito de pollo con guisantes y zanahorias de...   \n",
       "\n",
       "                                                   link  \\\n",
       "0     https://www.carrefour.es/supermercado/la-despe...   \n",
       "1     https://www.carrefour.es/supermercado/la-despe...   \n",
       "2     https://www.carrefour.es/supermercado/la-despe...   \n",
       "3     https://www.carrefour.es/supermercado/la-despe...   \n",
       "4     https://www.carrefour.es/supermercado/la-despe...   \n",
       "...                                                 ...   \n",
       "6533  https://www.carrefour.es/supermercado/parafarm...   \n",
       "6534  https://www.carrefour.es/supermercado/parafarm...   \n",
       "6535  https://www.carrefour.es/supermercado/parafarm...   \n",
       "6536  https://www.carrefour.es/supermercado/parafarm...   \n",
       "6537  https://www.carrefour.es/supermercado/parafarm...   \n",
       "\n",
       "                             Q precio_medida medida  \n",
       "0              2 briks de 1 l.         1.67       l  \n",
       "1                         1 l.         3.95       l  \n",
       "2                        1 kg.         0.22      kg  \n",
       "3        16 unidades de 125 g.         0.90      kg  \n",
       "4                         1 l.         3.20       l  \n",
       "...                        ...           ...    ...  \n",
       "6533      2 unidades de 75 ml.         5.53   100ml  \n",
       "6534   6 meses Nutriben 235 g.         4.21      kg  \n",
       "6535      2 unidades de 75 ml.         6.26   100ml  \n",
       "6536                   500 ml.         1.53   100ml  \n",
       "6537   6 meses Nutriben 235 g.         4.21      kg  \n",
       "\n",
       "[6538 rows x 7 columns]"
      ]
     },
     "execution_count": 65,
     "metadata": {},
     "output_type": "execute_result"
    }
   ],
   "source": [
    "carr_sin"
   ]
  },
  {
   "cell_type": "code",
   "execution_count": 64,
   "id": "955860f6",
   "metadata": {},
   "outputs": [],
   "source": [
    "carr_sin[[\"precio_medida\",\"medida\"]]=carr_sin[\"precio_rel\"].str.split(\"/\",expand=True)"
   ]
  },
  {
   "cell_type": "code",
   "execution_count": 101,
   "id": "ef053e3c",
   "metadata": {},
   "outputs": [],
   "source": [
    "def limpiar(a):\n",
    "    if len(a)>5:\n",
    "        return 1\n",
    "    else:\n",
    "        return a"
   ]
  },
  {
   "cell_type": "code",
   "execution_count": 102,
   "id": "b6d0357e",
   "metadata": {},
   "outputs": [],
   "source": []
  },
  {
   "cell_type": "code",
   "execution_count": null,
   "id": "ff52dbf9",
   "metadata": {},
   "outputs": [],
   "source": []
  },
  {
   "cell_type": "code",
   "execution_count": null,
   "id": "8a59d295",
   "metadata": {},
   "outputs": [],
   "source": []
  },
  {
   "cell_type": "code",
   "execution_count": null,
   "id": "edd5456f",
   "metadata": {},
   "outputs": [],
   "source": [
    "carr_sin[\"precio_medida1\"]=carr_sin[\"precio_medida\"].str.extract(r\"(\\d{:3}.\\d{:2})\",)"
   ]
  },
  {
   "cell_type": "code",
   "execution_count": 79,
   "id": "e90d7253",
   "metadata": {},
   "outputs": [],
   "source": [
    "carr_sin[\"precio_medida2\"]=pd.to_numeric(carr_sin[\"precio_medida1\"])"
   ]
  },
  {
   "cell_type": "code",
   "execution_count": 85,
   "id": "0acc07dd",
   "metadata": {},
   "outputs": [],
   "source": [
    "carr_sin.precio=pd.to_numeric(carr_sin.precio.str.replace(\" \",\"\"))"
   ]
  },
  {
   "cell_type": "code",
   "execution_count": 96,
   "id": "7ee28efc",
   "metadata": {},
   "outputs": [],
   "source": [
    "carr_sin[\"Q_medida\"]=round(carr_sin[\"precio\"]/carr_sin[\"precio_medida2\"],3)"
   ]
  },
  {
   "cell_type": "code",
   "execution_count": 104,
   "id": "4b7ad949",
   "metadata": {},
   "outputs": [],
   "source": [
    "carr_sin.to_csv(\"carrefour/carr_sinN.csv\")"
   ]
  },
  {
   "cell_type": "code",
   "execution_count": null,
   "id": "9eba8ace",
   "metadata": {},
   "outputs": [],
   "source": []
  },
  {
   "cell_type": "code",
   "execution_count": null,
   "id": "86d66fe7",
   "metadata": {},
   "outputs": [],
   "source": [
    "carr_sin = carr_sin.replace(to_replace ='[\\n]', value = '', regex = True)\n",
    "carr_sin = carr_sin.replace(to_replace ='[€]', value = '', regex = True)\n",
    "carr_sin = carr_sin.replace(to_replace ='[,]', value = '.', regex = True)\n",
    "carr_sin = carr_sin.replace(to_replace ='[ó]', value = 'o', regex = True) \n",
    "carr_sin = carr_sin.replace(to_replace ='[á]', value = 'a', regex = True)\n",
    "carr_sin = carr_sin.replace(to_replace ='[é]', value = 'e', regex = True)\n",
    "carr_sin = carr_sin.replace(to_replace ='[ó]', value = 'o', regex = True) \n",
    "carr_sin = carr_sin.replace(to_replace ='[í]', value = 'i', regex = True)\n",
    "carr_sin = carr_sin.replace(to_replace ='[ú]', value = 'u', regex = True) \n",
    "carr_sin = carr_sin.replace(to_replace ='[ñ]', value = 'n', regex = True) "
   ]
  },
  {
   "cell_type": "code",
   "execution_count": 106,
   "id": "e01e12c0",
   "metadata": {},
   "outputs": [],
   "source": [
    "carr_con=pd.DataFrame(carr_5, columns=[\"precio\",\"precio_anterior\",\"precio_rel\",\"producto\",\"link\"])"
   ]
  },
  {
   "cell_type": "code",
   "execution_count": 107,
   "id": "5899b544",
   "metadata": {},
   "outputs": [],
   "source": [
    "carr_con = carr_con.replace(to_replace ='[\\n]', value = '', regex = True)\n",
    "carr_con = carr_con.replace(to_replace ='[€]', value = '', regex = True)\n",
    "carr_con = carr_con.replace(to_replace ='[,]', value = '.', regex = True)\n",
    "carr_con = carr_con.replace(to_replace ='[ó]', value = 'o', regex = True) \n",
    "carr_con = carr_con.replace(to_replace ='[á]', value = 'a', regex = True)\n",
    "carr_con = carr_con.replace(to_replace ='[é]', value = 'e', regex = True)\n",
    "carr_con = carr_con.replace(to_replace ='[ó]', value = 'o', regex = True) \n",
    "carr_con = carr_con.replace(to_replace ='[í]', value = 'i', regex = True)\n",
    "carr_con = carr_con.replace(to_replace ='[ú]', value = 'u', regex = True) \n",
    "carr_con = carr_con.replace(to_replace ='[ñ]', value = 'n', regex = True) "
   ]
  },
  {
   "cell_type": "code",
   "execution_count": 109,
   "id": "7ad5027a",
   "metadata": {},
   "outputs": [],
   "source": [
    "carr_con.to_csv(\"carrefour/carr_conN.csv\")"
   ]
  },
  {
   "cell_type": "code",
   "execution_count": null,
   "id": "3a82ed60",
   "metadata": {},
   "outputs": [],
   "source": []
  },
  {
   "cell_type": "code",
   "execution_count": null,
   "id": "da200442",
   "metadata": {},
   "outputs": [],
   "source": []
  },
  {
   "cell_type": "code",
   "execution_count": null,
   "id": "4d725979",
   "metadata": {},
   "outputs": [],
   "source": []
  },
  {
   "cell_type": "code",
   "execution_count": null,
   "id": "79f97f11",
   "metadata": {},
   "outputs": [],
   "source": []
  },
  {
   "cell_type": "code",
   "execution_count": 95,
   "id": "1cdba96c",
   "metadata": {},
   "outputs": [],
   "source": [
    "\"\"\"carr_4=[]\n",
    "carr_5=[]\n",
    "carr_6=[]\n",
    "carr_7=[]\n",
    "carr_8=[]\n",
    "carr_9=[]\n",
    "for i in lista_productos:\n",
    "    if len(i)==4:\n",
    "        carr_4.append(i)\n",
    "    elif len(i)==5:\n",
    "        carr_5.append(i)\n",
    "    elif len(i)==6:\n",
    "        carr_6.append(i)\n",
    "    elif len(i)==7:\n",
    "        carr_7.append(i)\n",
    "    elif len(i)==8:\n",
    "        carr_8.append(i)\n",
    "    elif len(i)==9:\n",
    "        carr_9.append(i)\"\"\"\n"
   ]
  },
  {
   "cell_type": "code",
   "execution_count": 108,
   "id": "6ee8d558",
   "metadata": {},
   "outputs": [],
   "source": [
    "df_9=pd.DataFrame(carr_9, columns=[[\"precio_anterior\",\"precio\",\"precio_rel_\",\"producto\",\"gluten\",\"lactosa\",\"prom\",\"anadir\",\"link\"]])"
   ]
  },
  {
   "cell_type": "code",
   "execution_count": 47,
   "id": "2f6d2460",
   "metadata": {},
   "outputs": [],
   "source": [
    "#carr_9 ahora 5 precio_anterior, precio, precio | precioant,nombre,link"
   ]
  },
  {
   "cell_type": "code",
   "execution_count": 109,
   "id": "1b839ecb",
   "metadata": {},
   "outputs": [],
   "source": [
    "df_carr_9 = df_9.replace(to_replace ='[ó]', value = 'o', regex = True) \n",
    "df_carr_9 = df_carr_9.replace(to_replace ='[á]', value = 'a', regex = True)\n",
    "df_carr_9 = df_carr_9.replace(to_replace ='[é]', value = 'e', regex = True)\n",
    "df_carr_9 = df_carr_9.replace(to_replace ='[ó]', value = 'o', regex = True) \n",
    "df_carr_9 = df_carr_9.replace(to_replace ='[í]', value = 'i', regex = True)\n",
    "df_carr_9 = df_carr_9.replace(to_replace ='[ú]', value = 'u', regex = True) \n",
    "df_carr_9 = df_carr_9.replace(to_replace ='[ñ]', value = 'n', regex = True) "
   ]
  },
  {
   "cell_type": "code",
   "execution_count": 114,
   "id": "17433c0c",
   "metadata": {},
   "outputs": [],
   "source": [
    "df_carr_9.to_csv(\"carrefour/carr_9.csv\")"
   ]
  },
  {
   "cell_type": "code",
   "execution_count": null,
   "id": "5426d94f",
   "metadata": {},
   "outputs": [],
   "source": []
  },
  {
   "cell_type": "code",
   "execution_count": 105,
   "id": "5bc22bda",
   "metadata": {},
   "outputs": [
    {
     "data": {
      "text/plain": [
       "['\\n2,85 €',\n",
       " '2,69 €',\n",
       " '11,40 €/kg\\n | \\n10,76 €/kg',\n",
       " 'Pannini de jamón y queso Dr. Oetker 250 g.',\n",
       " 'Congelado',\n",
       " 'Ver productos de la promoción',\n",
       " 'Añadir\\n',\n",
       " 'https://www.carrefour.es/supermercado/la-despensa/cat20001/c?offset=456']"
      ]
     },
     "execution_count": 105,
     "metadata": {},
     "output_type": "execute_result"
    }
   ],
   "source": [
    "carr_8[4]"
   ]
  },
  {
   "cell_type": "code",
   "execution_count": 110,
   "id": "b9005c8a",
   "metadata": {},
   "outputs": [],
   "source": [
    "df_8=pd.DataFrame(carr_8, columns=[[\"precio_anterior\",\"precio\",\"precio_rel_\",\"producto\",\"gluten\",\"lactosa\",\"prom\",\"link\"]])"
   ]
  },
  {
   "cell_type": "code",
   "execution_count": 111,
   "id": "1f33f932",
   "metadata": {},
   "outputs": [],
   "source": [
    "df_carr_8 = df_8.replace(to_replace ='[ó]', value = 'o', regex = True) \n",
    "df_carr_8 = df_carr_8.replace(to_replace ='[á]', value = 'a', regex = True)\n",
    "df_carr_8 = df_carr_8.replace(to_replace ='[é]', value = 'e', regex = True)\n",
    "df_carr_8 = df_carr_8.replace(to_replace ='[ó]', value = 'o', regex = True) \n",
    "df_carr_8 = df_carr_8.replace(to_replace ='[í]', value = 'i', regex = True)\n",
    "df_carr_8 = df_carr_8.replace(to_replace ='[ú]', value = 'u', regex = True) \n",
    "df_carr_8 = df_carr_8.replace(to_replace ='[ñ]', value = 'n', regex = True) "
   ]
  },
  {
   "cell_type": "code",
   "execution_count": 115,
   "id": "fbf228de",
   "metadata": {},
   "outputs": [],
   "source": [
    "df_carr_8.to_csv(\"carrefour/carr_8.csv\")"
   ]
  },
  {
   "cell_type": "code",
   "execution_count": 116,
   "id": "3e783fe7",
   "metadata": {},
   "outputs": [],
   "source": [
    "df_7=pd.DataFrame(carr_7, columns=[[\"precio_anterior\",\"precio\",\"precio_rel_ojo\",\"producto\",\"gluten\",\"lactosa\",\"link\"]])"
   ]
  },
  {
   "cell_type": "code",
   "execution_count": 117,
   "id": "1009985b",
   "metadata": {},
   "outputs": [],
   "source": [
    "df_carr_7 = df_7.replace(to_replace ='[ó]', value = 'o', regex = True) \n",
    "df_carr_7 = df_carr_7.replace(to_replace ='[á]', value = 'a', regex = True)\n",
    "df_carr_7 = df_carr_7.replace(to_replace ='[é]', value = 'e', regex = True)\n",
    "df_carr_7 = df_carr_7.replace(to_replace ='[ó]', value = 'o', regex = True) \n",
    "df_carr_7 = df_carr_7.replace(to_replace ='[í]', value = 'i', regex = True)\n",
    "df_carr_7 = df_carr_7.replace(to_replace ='[ú]', value = 'u', regex = True) \n",
    "df_carr_7 = df_carr_7.replace(to_replace ='[ñ]', value = 'n', regex = True) "
   ]
  },
  {
   "cell_type": "code",
   "execution_count": 118,
   "id": "ad383dee",
   "metadata": {},
   "outputs": [],
   "source": [
    "df_carr_7.to_csv(\"carrefour/carr_7.csv\")"
   ]
  },
  {
   "cell_type": "code",
   "execution_count": 120,
   "id": "fc7a796c",
   "metadata": {},
   "outputs": [],
   "source": [
    "df_6=pd.DataFrame(carr_6, columns=[[\"precio_anterior\",\"precio\",\"precio_rel_\",\"producto\",\"lactosa\",\"link\"]])"
   ]
  },
  {
   "cell_type": "code",
   "execution_count": 121,
   "id": "89fbabaa",
   "metadata": {},
   "outputs": [],
   "source": [
    "df_carr_6 = df_6.replace(to_replace ='[ó]', value = 'o', regex = True) \n",
    "df_carr_6 = df_carr_6.replace(to_replace ='[á]', value = 'a', regex = True)\n",
    "df_carr_6 = df_carr_6.replace(to_replace ='[é]', value = 'e', regex = True)\n",
    "df_carr_6 = df_carr_6.replace(to_replace ='[ó]', value = 'o', regex = True) \n",
    "df_carr_6 = df_carr_6.replace(to_replace ='[í]', value = 'i', regex = True)\n",
    "df_carr_6 = df_carr_6.replace(to_replace ='[ú]', value = 'u', regex = True) \n",
    "df_carr_6 = df_carr_6.replace(to_replace ='[ñ]', value = 'n', regex = True) "
   ]
  },
  {
   "cell_type": "code",
   "execution_count": null,
   "id": "21d0c158",
   "metadata": {},
   "outputs": [],
   "source": [
    "df_carr_6.to_csv(\"carrefour/carr_6.csv\")"
   ]
  },
  {
   "cell_type": "code",
   "execution_count": 128,
   "id": "a7a2a1b7",
   "metadata": {},
   "outputs": [],
   "source": [
    "df_carr_4.to_csv(\"carrefour/carr_4.csv\")"
   ]
  },
  {
   "cell_type": "code",
   "execution_count": 124,
   "id": "c49020c9",
   "metadata": {},
   "outputs": [],
   "source": [
    "df_5=pd.DataFrame(carr_5, columns=[[\"precio_\",\"precio_rel\",\"producto\",\"lactosa\",\"link\"]])"
   ]
  },
  {
   "cell_type": "code",
   "execution_count": 125,
   "id": "9dc57ebb",
   "metadata": {},
   "outputs": [],
   "source": [
    "df_carr_5 = df_5.replace(to_replace ='[ó]', value = 'o', regex = True) \n",
    "df_carr_5 = df_carr_5.replace(to_replace ='[á]', value = 'a', regex = True)\n",
    "df_carr_5 = df_carr_5.replace(to_replace ='[é]', value = 'e', regex = True)\n",
    "df_carr_5 = df_carr_5.replace(to_replace ='[ó]', value = 'o', regex = True) \n",
    "df_carr_5 = df_carr_5.replace(to_replace ='[í]', value = 'i', regex = True)\n",
    "df_carr_5 = df_carr_5.replace(to_replace ='[ú]', value = 'u', regex = True) \n",
    "df_carr_5 = df_carr_5.replace(to_replace ='[ñ]', value = 'n', regex = True) "
   ]
  },
  {
   "cell_type": "code",
   "execution_count": null,
   "id": "462b12d0",
   "metadata": {},
   "outputs": [],
   "source": [
    "df_carr_5.to_csv(\"carrefour/carr_5.csv\")"
   ]
  },
  {
   "cell_type": "code",
   "execution_count": 126,
   "id": "93f29df8",
   "metadata": {},
   "outputs": [],
   "source": [
    "df_4=pd.DataFrame(carr_4, columns=[[\"precio_\",\"precio_rel\",\"producto\",\"link\"]])"
   ]
  },
  {
   "cell_type": "code",
   "execution_count": 127,
   "id": "52f96027",
   "metadata": {},
   "outputs": [],
   "source": [
    "df_carr_4 = df_4.replace(to_replace ='[ó]', value = 'o', regex = True) \n",
    "df_carr_4 = df_carr_4.replace(to_replace ='[á]', value = 'a', regex = True)\n",
    "df_carr_4 = df_carr_4.replace(to_replace ='[é]', value = 'e', regex = True)\n",
    "df_carr_4 = df_carr_4.replace(to_replace ='[ó]', value = 'o', regex = True) \n",
    "df_carr_4 = df_carr_4.replace(to_replace ='[í]', value = 'i', regex = True)\n",
    "df_carr_4 = df_carr_4.replace(to_replace ='[ú]', value = 'u', regex = True) \n",
    "df_carr_4 = df_carr_4.replace(to_replace ='[ñ]', value = 'n', regex = True) "
   ]
  },
  {
   "cell_type": "code",
   "execution_count": 105,
   "id": "eb3473f3",
   "metadata": {},
   "outputs": [],
   "source": []
  },
  {
   "cell_type": "code",
   "execution_count": null,
   "id": "ef90af1f",
   "metadata": {},
   "outputs": [],
   "source": []
  },
  {
   "cell_type": "code",
   "execution_count": null,
   "id": "4dbbe53e",
   "metadata": {},
   "outputs": [],
   "source": []
  },
  {
   "cell_type": "code",
   "execution_count": null,
   "id": "11da7ec1",
   "metadata": {},
   "outputs": [],
   "source": []
  },
  {
   "cell_type": "code",
   "execution_count": null,
   "id": "20351ce1",
   "metadata": {},
   "outputs": [],
   "source": []
  },
  {
   "cell_type": "code",
   "execution_count": null,
   "id": "0e46e0ce",
   "metadata": {},
   "outputs": [],
   "source": []
  },
  {
   "cell_type": "code",
   "execution_count": null,
   "id": "33b9732c",
   "metadata": {},
   "outputs": [],
   "source": []
  },
  {
   "cell_type": "code",
   "execution_count": null,
   "id": "d7cc965b",
   "metadata": {},
   "outputs": [],
   "source": []
  },
  {
   "cell_type": "code",
   "execution_count": 55,
   "id": "fdb6e6e8",
   "metadata": {},
   "outputs": [
    {
     "data": {
      "text/plain": [
       "\"for i in carr_10:\\n    i.remove('- Sin entrega: lunes')\\n    i.remove('Rodajas')\\n    i.remove('Entero limpio')\\n    i.remove('Añadir\\n')\\n    i.remove('Tipo de corte:\\nEntero')\""
      ]
     },
     "execution_count": 55,
     "metadata": {},
     "output_type": "execute_result"
    }
   ],
   "source": [
    "\"\"\"for i in carr_10:\n",
    "    i.remove('- Sin entrega: lunes')\n",
    "    i.remove('Rodajas')\n",
    "    i.remove('Entero limpio')\n",
    "    i.remove('Añadir\\n')\n",
    "    i.remove('Tipo de corte:\\nEntero')\"\"\""
   ]
  },
  {
   "cell_type": "code",
   "execution_count": 53,
   "id": "a4fdcd3b",
   "metadata": {},
   "outputs": [],
   "source": [
    "for i in carr_10:\n",
    "    i.remove('Tipo de corte:\\nEntero')"
   ]
  },
  {
   "cell_type": "code",
   "execution_count": 57,
   "id": "b00d1f1f",
   "metadata": {},
   "outputs": [],
   "source": [
    "#carr_10 ahora 5 precio_anterior, precio, precio | precioant,nombre,link"
   ]
  },
  {
   "cell_type": "code",
   "execution_count": 20,
   "id": "14a45fcc",
   "metadata": {},
   "outputs": [],
   "source": [
    "df = pd.DataFrame(lista_productos, columns = ['precio','precio/kg','producto','anadir','none','link','m',\"k\",\"s\"])"
   ]
  },
  {
   "cell_type": "code",
   "execution_count": 25,
   "id": "b2cfee31",
   "metadata": {},
   "outputs": [],
   "source": [
    "df_updated = df.replace(to_replace ='[ó]', value = 'o', regex = True) \n",
    "df_updated = df_updated.replace(to_replace ='[á]', value = 'a', regex = True)\n",
    "df_updated = df_updated.replace(to_replace ='[é]', value = 'e', regex = True)\n",
    "df_updated = df_updated.replace(to_replace ='[ó]', value = 'o', regex = True) \n",
    "df_updated = df_updated.replace(to_replace ='[í]', value = 'i', regex = True)\n",
    "df_updated = df_updated.replace(to_replace ='[ú]', value = 'u', regex = True) \n",
    "df_updated = df_updated.replace(to_replace ='[ñ]', value = 'n', regex = True) "
   ]
  },
  {
   "cell_type": "code",
   "execution_count": 69,
   "id": "be46fb7b",
   "metadata": {},
   "outputs": [],
   "source": [
    "#productos=soup_sc.findAll(\"div\",{\"class\": \"product-card__detail\"})"
   ]
  },
  {
   "cell_type": "code",
   "execution_count": 26,
   "id": "f0e9618d",
   "metadata": {},
   "outputs": [
    {
     "data": {
      "text/html": [
       "<div>\n",
       "<style scoped>\n",
       "    .dataframe tbody tr th:only-of-type {\n",
       "        vertical-align: middle;\n",
       "    }\n",
       "\n",
       "    .dataframe tbody tr th {\n",
       "        vertical-align: top;\n",
       "    }\n",
       "\n",
       "    .dataframe thead th {\n",
       "        text-align: right;\n",
       "    }\n",
       "</style>\n",
       "<table border=\"1\" class=\"dataframe\">\n",
       "  <thead>\n",
       "    <tr style=\"text-align: right;\">\n",
       "      <th></th>\n",
       "      <th>precio</th>\n",
       "      <th>precio/kg</th>\n",
       "      <th>producto</th>\n",
       "      <th>anadir</th>\n",
       "      <th>none</th>\n",
       "      <th>link</th>\n",
       "      <th>m</th>\n",
       "      <th>k</th>\n",
       "      <th>s</th>\n",
       "    </tr>\n",
       "  </thead>\n",
       "  <tbody>\n",
       "    <tr>\n",
       "      <th>0</th>\n",
       "      <td>\\n3,35 €</td>\n",
       "      <td>1,67 €/l</td>\n",
       "      <td>Caldo casero de pollo Gallina Blanca sin glute...</td>\n",
       "      <td>Sin gluten</td>\n",
       "      <td>Anadir\\n</td>\n",
       "      <td>https://www.carrefour.es/supermercado/la-despe...</td>\n",
       "      <td>None</td>\n",
       "      <td>None</td>\n",
       "      <td>None</td>\n",
       "    </tr>\n",
       "    <tr>\n",
       "      <th>1</th>\n",
       "      <td>\\n3,95 €</td>\n",
       "      <td>3,95 €/l</td>\n",
       "      <td>Aceite de oliva virgen extra Carrefour 1 l.</td>\n",
       "      <td>Anadir\\n</td>\n",
       "      <td>https://www.carrefour.es/supermercado/la-despe...</td>\n",
       "      <td>None</td>\n",
       "      <td>None</td>\n",
       "      <td>None</td>\n",
       "      <td>None</td>\n",
       "    </tr>\n",
       "    <tr>\n",
       "      <th>2</th>\n",
       "      <td>\\n0,22 €</td>\n",
       "      <td>0,22 €/kg</td>\n",
       "      <td>Sal marina fina Carrefour 1 kg.</td>\n",
       "      <td>Anadir\\n</td>\n",
       "      <td>https://www.carrefour.es/supermercado/la-despe...</td>\n",
       "      <td>None</td>\n",
       "      <td>None</td>\n",
       "      <td>None</td>\n",
       "      <td>None</td>\n",
       "    </tr>\n",
       "    <tr>\n",
       "      <th>3</th>\n",
       "      <td>\\n1,05 €</td>\n",
       "      <td>1,31 €/kg</td>\n",
       "      <td>Galletas Maria dorada Carrefour sin aceite de ...</td>\n",
       "      <td>Anadir\\n</td>\n",
       "      <td>https://www.carrefour.es/supermercado/la-despe...</td>\n",
       "      <td>None</td>\n",
       "      <td>None</td>\n",
       "      <td>None</td>\n",
       "      <td>None</td>\n",
       "    </tr>\n",
       "    <tr>\n",
       "      <th>4</th>\n",
       "      <td>\\n1,80 €</td>\n",
       "      <td>0,90 €/kg</td>\n",
       "      <td>Yogur de fresa, de macedonia, de limon y de fr...</td>\n",
       "      <td>Anadir\\n</td>\n",
       "      <td>https://www.carrefour.es/supermercado/la-despe...</td>\n",
       "      <td>None</td>\n",
       "      <td>None</td>\n",
       "      <td>None</td>\n",
       "      <td>None</td>\n",
       "    </tr>\n",
       "    <tr>\n",
       "      <th>...</th>\n",
       "      <td>...</td>\n",
       "      <td>...</td>\n",
       "      <td>...</td>\n",
       "      <td>...</td>\n",
       "      <td>...</td>\n",
       "      <td>...</td>\n",
       "      <td>...</td>\n",
       "      <td>...</td>\n",
       "      <td>...</td>\n",
       "    </tr>\n",
       "    <tr>\n",
       "      <th>2259</th>\n",
       "      <td>\\n0,99 €</td>\n",
       "      <td>0,10 €/ud</td>\n",
       "      <td>Mascarilla quirurgica desechable tipo IIR infa...</td>\n",
       "      <td>Anadir\\n</td>\n",
       "      <td>https://www.carrefour.es/supermercado/parafarm...</td>\n",
       "      <td>None</td>\n",
       "      <td>None</td>\n",
       "      <td>None</td>\n",
       "      <td>None</td>\n",
       "    </tr>\n",
       "    <tr>\n",
       "      <th>2260</th>\n",
       "      <td>\\n3,29 €</td>\n",
       "      <td>2,19 €/100ml</td>\n",
       "      <td>Suero fisiologico Carrefour 30 ud.</td>\n",
       "      <td>Anadir\\n</td>\n",
       "      <td>https://www.carrefour.es/supermercado/parafarm...</td>\n",
       "      <td>None</td>\n",
       "      <td>None</td>\n",
       "      <td>None</td>\n",
       "      <td>None</td>\n",
       "    </tr>\n",
       "    <tr>\n",
       "      <th>2261</th>\n",
       "      <td>\\n0,61 €</td>\n",
       "      <td>0,24 €/100ml</td>\n",
       "      <td>Agua oxigenada 10 volumenes Carrefour 250 ml.</td>\n",
       "      <td>Anadir\\n</td>\n",
       "      <td>https://www.carrefour.es/supermercado/parafarm...</td>\n",
       "      <td>None</td>\n",
       "      <td>None</td>\n",
       "      <td>None</td>\n",
       "      <td>None</td>\n",
       "    </tr>\n",
       "    <tr>\n",
       "      <th>2262</th>\n",
       "      <td>\\n0,80 €</td>\n",
       "      <td>0,03 €/ud</td>\n",
       "      <td>Tiras adhesivas elasticas transpirables Carref...</td>\n",
       "      <td>Anadir\\n</td>\n",
       "      <td>https://www.carrefour.es/supermercado/parafarm...</td>\n",
       "      <td>None</td>\n",
       "      <td>None</td>\n",
       "      <td>None</td>\n",
       "      <td>None</td>\n",
       "    </tr>\n",
       "    <tr>\n",
       "      <th>2263</th>\n",
       "      <td>\\n0,99 €</td>\n",
       "      <td>0,10 €/ud</td>\n",
       "      <td>Mascarilla quirurgica desechables infantiles I...</td>\n",
       "      <td>Anadir\\n</td>\n",
       "      <td>https://www.carrefour.es/supermercado/parafarm...</td>\n",
       "      <td>None</td>\n",
       "      <td>None</td>\n",
       "      <td>None</td>\n",
       "      <td>None</td>\n",
       "    </tr>\n",
       "  </tbody>\n",
       "</table>\n",
       "<p>2264 rows × 9 columns</p>\n",
       "</div>"
      ],
      "text/plain": [
       "        precio     precio/kg  \\\n",
       "0     \\n3,35 €      1,67 €/l   \n",
       "1     \\n3,95 €      3,95 €/l   \n",
       "2     \\n0,22 €     0,22 €/kg   \n",
       "3     \\n1,05 €     1,31 €/kg   \n",
       "4     \\n1,80 €     0,90 €/kg   \n",
       "...        ...           ...   \n",
       "2259  \\n0,99 €     0,10 €/ud   \n",
       "2260  \\n3,29 €  2,19 €/100ml   \n",
       "2261  \\n0,61 €  0,24 €/100ml   \n",
       "2262  \\n0,80 €     0,03 €/ud   \n",
       "2263  \\n0,99 €     0,10 €/ud   \n",
       "\n",
       "                                               producto      anadir  \\\n",
       "0     Caldo casero de pollo Gallina Blanca sin glute...  Sin gluten   \n",
       "1           Aceite de oliva virgen extra Carrefour 1 l.    Anadir\\n   \n",
       "2                       Sal marina fina Carrefour 1 kg.    Anadir\\n   \n",
       "3     Galletas Maria dorada Carrefour sin aceite de ...    Anadir\\n   \n",
       "4     Yogur de fresa, de macedonia, de limon y de fr...    Anadir\\n   \n",
       "...                                                 ...         ...   \n",
       "2259  Mascarilla quirurgica desechable tipo IIR infa...    Anadir\\n   \n",
       "2260                 Suero fisiologico Carrefour 30 ud.    Anadir\\n   \n",
       "2261      Agua oxigenada 10 volumenes Carrefour 250 ml.    Anadir\\n   \n",
       "2262  Tiras adhesivas elasticas transpirables Carref...    Anadir\\n   \n",
       "2263  Mascarilla quirurgica desechables infantiles I...    Anadir\\n   \n",
       "\n",
       "                                                   none  \\\n",
       "0                                              Anadir\\n   \n",
       "1     https://www.carrefour.es/supermercado/la-despe...   \n",
       "2     https://www.carrefour.es/supermercado/la-despe...   \n",
       "3     https://www.carrefour.es/supermercado/la-despe...   \n",
       "4     https://www.carrefour.es/supermercado/la-despe...   \n",
       "...                                                 ...   \n",
       "2259  https://www.carrefour.es/supermercado/parafarm...   \n",
       "2260  https://www.carrefour.es/supermercado/parafarm...   \n",
       "2261  https://www.carrefour.es/supermercado/parafarm...   \n",
       "2262  https://www.carrefour.es/supermercado/parafarm...   \n",
       "2263  https://www.carrefour.es/supermercado/parafarm...   \n",
       "\n",
       "                                                   link     m     k     s  \n",
       "0     https://www.carrefour.es/supermercado/la-despe...  None  None  None  \n",
       "1                                                  None  None  None  None  \n",
       "2                                                  None  None  None  None  \n",
       "3                                                  None  None  None  None  \n",
       "4                                                  None  None  None  None  \n",
       "...                                                 ...   ...   ...   ...  \n",
       "2259                                               None  None  None  None  \n",
       "2260                                               None  None  None  None  \n",
       "2261                                               None  None  None  None  \n",
       "2262                                               None  None  None  None  \n",
       "2263                                               None  None  None  None  \n",
       "\n",
       "[2264 rows x 9 columns]"
      ]
     },
     "execution_count": 26,
     "metadata": {},
     "output_type": "execute_result"
    }
   ],
   "source": [
    "df_updated"
   ]
  },
  {
   "cell_type": "code",
   "execution_count": 116,
   "id": "a7506f35",
   "metadata": {},
   "outputs": [],
   "source": [
    "nueve=[]\n",
    "for i in lista_productos:\n",
    "    if len(i)==5:\n",
    "        nueve.append(i)"
   ]
  },
  {
   "cell_type": "code",
   "execution_count": 120,
   "id": "3b52ed00",
   "metadata": {},
   "outputs": [
    {
     "name": "stdout",
     "output_type": "stream",
     "text": [
      "-541\n"
     ]
    }
   ],
   "source": [
    "print(len(nueve)-len(lista_productos))"
   ]
  },
  {
   "cell_type": "code",
   "execution_count": 123,
   "id": "1d11757b",
   "metadata": {},
   "outputs": [],
   "source": [
    "df.to_csv(\"carrefour13.csv\")"
   ]
  },
  {
   "cell_type": "code",
   "execution_count": 19,
   "id": "7e30e0d8",
   "metadata": {},
   "outputs": [
    {
     "data": {
      "text/html": [
       "<div>\n",
       "<style scoped>\n",
       "    .dataframe tbody tr th:only-of-type {\n",
       "        vertical-align: middle;\n",
       "    }\n",
       "\n",
       "    .dataframe tbody tr th {\n",
       "        vertical-align: top;\n",
       "    }\n",
       "\n",
       "    .dataframe thead th {\n",
       "        text-align: right;\n",
       "    }\n",
       "</style>\n",
       "<table border=\"1\" class=\"dataframe\">\n",
       "  <thead>\n",
       "    <tr style=\"text-align: right;\">\n",
       "      <th></th>\n",
       "      <th>precio</th>\n",
       "      <th>precio/kg</th>\n",
       "      <th>producto</th>\n",
       "      <th>anadir</th>\n",
       "      <th>none</th>\n",
       "      <th>link</th>\n",
       "      <th>m</th>\n",
       "      <th>k</th>\n",
       "      <th>s</th>\n",
       "    </tr>\n",
       "  </thead>\n",
       "  <tbody>\n",
       "    <tr>\n",
       "      <th>0</th>\n",
       "      <td>\\n3,35 €</td>\n",
       "      <td>1,67 €/l</td>\n",
       "      <td>Caldo casero de pollo Gallina Blanca sin glute...</td>\n",
       "      <td>Sin gluten</td>\n",
       "      <td>Añadir\\n</td>\n",
       "      <td>https://www.carrefour.es/supermercado/la-despe...</td>\n",
       "      <td>None</td>\n",
       "      <td>None</td>\n",
       "      <td>None</td>\n",
       "    </tr>\n",
       "    <tr>\n",
       "      <th>1</th>\n",
       "      <td>\\n3,95 €</td>\n",
       "      <td>3,95 €/l</td>\n",
       "      <td>Aceite de oliva virgen extra Carrefour 1 l.</td>\n",
       "      <td>Añadir\\n</td>\n",
       "      <td>https://www.carrefour.es/supermercado/la-despe...</td>\n",
       "      <td>None</td>\n",
       "      <td>None</td>\n",
       "      <td>None</td>\n",
       "      <td>None</td>\n",
       "    </tr>\n",
       "    <tr>\n",
       "      <th>2</th>\n",
       "      <td>\\n0,22 €</td>\n",
       "      <td>0,22 €/kg</td>\n",
       "      <td>Sal marina fina Carrefour 1 kg.</td>\n",
       "      <td>Añadir\\n</td>\n",
       "      <td>https://www.carrefour.es/supermercado/la-despe...</td>\n",
       "      <td>None</td>\n",
       "      <td>None</td>\n",
       "      <td>None</td>\n",
       "      <td>None</td>\n",
       "    </tr>\n",
       "    <tr>\n",
       "      <th>3</th>\n",
       "      <td>\\n1,05 €</td>\n",
       "      <td>1,31 €/kg</td>\n",
       "      <td>Galletas María dorada Carrefour sin aceite de ...</td>\n",
       "      <td>Añadir\\n</td>\n",
       "      <td>https://www.carrefour.es/supermercado/la-despe...</td>\n",
       "      <td>None</td>\n",
       "      <td>None</td>\n",
       "      <td>None</td>\n",
       "      <td>None</td>\n",
       "    </tr>\n",
       "    <tr>\n",
       "      <th>4</th>\n",
       "      <td>\\n1,80 €</td>\n",
       "      <td>0,90 €/kg</td>\n",
       "      <td>Yogur de fresa, de macedonia, de limón y de fr...</td>\n",
       "      <td>Añadir\\n</td>\n",
       "      <td>https://www.carrefour.es/supermercado/la-despe...</td>\n",
       "      <td>None</td>\n",
       "      <td>None</td>\n",
       "      <td>None</td>\n",
       "      <td>None</td>\n",
       "    </tr>\n",
       "    <tr>\n",
       "      <th>...</th>\n",
       "      <td>...</td>\n",
       "      <td>...</td>\n",
       "      <td>...</td>\n",
       "      <td>...</td>\n",
       "      <td>...</td>\n",
       "      <td>...</td>\n",
       "      <td>...</td>\n",
       "      <td>...</td>\n",
       "      <td>...</td>\n",
       "    </tr>\n",
       "    <tr>\n",
       "      <th>2259</th>\n",
       "      <td>\\n0,99 €</td>\n",
       "      <td>0,10 €/ud</td>\n",
       "      <td>Mascarilla quirúrgica desechable tipo IIR infa...</td>\n",
       "      <td>Añadir\\n</td>\n",
       "      <td>https://www.carrefour.es/supermercado/parafarm...</td>\n",
       "      <td>None</td>\n",
       "      <td>None</td>\n",
       "      <td>None</td>\n",
       "      <td>None</td>\n",
       "    </tr>\n",
       "    <tr>\n",
       "      <th>2260</th>\n",
       "      <td>\\n3,29 €</td>\n",
       "      <td>2,19 €/100ml</td>\n",
       "      <td>Suero fisiológico Carrefour 30 ud.</td>\n",
       "      <td>Añadir\\n</td>\n",
       "      <td>https://www.carrefour.es/supermercado/parafarm...</td>\n",
       "      <td>None</td>\n",
       "      <td>None</td>\n",
       "      <td>None</td>\n",
       "      <td>None</td>\n",
       "    </tr>\n",
       "    <tr>\n",
       "      <th>2261</th>\n",
       "      <td>\\n0,61 €</td>\n",
       "      <td>0,24 €/100ml</td>\n",
       "      <td>Agua oxigenada 10 volúmenes Carrefour 250 ml.</td>\n",
       "      <td>Añadir\\n</td>\n",
       "      <td>https://www.carrefour.es/supermercado/parafarm...</td>\n",
       "      <td>None</td>\n",
       "      <td>None</td>\n",
       "      <td>None</td>\n",
       "      <td>None</td>\n",
       "    </tr>\n",
       "    <tr>\n",
       "      <th>2262</th>\n",
       "      <td>\\n0,80 €</td>\n",
       "      <td>0,03 €/ud</td>\n",
       "      <td>Tiras adhesivas elásticas transpirables Carref...</td>\n",
       "      <td>Añadir\\n</td>\n",
       "      <td>https://www.carrefour.es/supermercado/parafarm...</td>\n",
       "      <td>None</td>\n",
       "      <td>None</td>\n",
       "      <td>None</td>\n",
       "      <td>None</td>\n",
       "    </tr>\n",
       "    <tr>\n",
       "      <th>2263</th>\n",
       "      <td>\\n0,99 €</td>\n",
       "      <td>0,10 €/ud</td>\n",
       "      <td>Mascarilla quirúrgica desechables infantiles I...</td>\n",
       "      <td>Añadir\\n</td>\n",
       "      <td>https://www.carrefour.es/supermercado/parafarm...</td>\n",
       "      <td>None</td>\n",
       "      <td>None</td>\n",
       "      <td>None</td>\n",
       "      <td>None</td>\n",
       "    </tr>\n",
       "  </tbody>\n",
       "</table>\n",
       "<p>2264 rows × 9 columns</p>\n",
       "</div>"
      ],
      "text/plain": [
       "        precio     precio/kg  \\\n",
       "0     \\n3,35 €      1,67 €/l   \n",
       "1     \\n3,95 €      3,95 €/l   \n",
       "2     \\n0,22 €     0,22 €/kg   \n",
       "3     \\n1,05 €     1,31 €/kg   \n",
       "4     \\n1,80 €     0,90 €/kg   \n",
       "...        ...           ...   \n",
       "2259  \\n0,99 €     0,10 €/ud   \n",
       "2260  \\n3,29 €  2,19 €/100ml   \n",
       "2261  \\n0,61 €  0,24 €/100ml   \n",
       "2262  \\n0,80 €     0,03 €/ud   \n",
       "2263  \\n0,99 €     0,10 €/ud   \n",
       "\n",
       "                                               producto      anadir  \\\n",
       "0     Caldo casero de pollo Gallina Blanca sin glute...  Sin gluten   \n",
       "1           Aceite de oliva virgen extra Carrefour 1 l.    Añadir\\n   \n",
       "2                       Sal marina fina Carrefour 1 kg.    Añadir\\n   \n",
       "3     Galletas María dorada Carrefour sin aceite de ...    Añadir\\n   \n",
       "4     Yogur de fresa, de macedonia, de limón y de fr...    Añadir\\n   \n",
       "...                                                 ...         ...   \n",
       "2259  Mascarilla quirúrgica desechable tipo IIR infa...    Añadir\\n   \n",
       "2260                 Suero fisiológico Carrefour 30 ud.    Añadir\\n   \n",
       "2261      Agua oxigenada 10 volúmenes Carrefour 250 ml.    Añadir\\n   \n",
       "2262  Tiras adhesivas elásticas transpirables Carref...    Añadir\\n   \n",
       "2263  Mascarilla quirúrgica desechables infantiles I...    Añadir\\n   \n",
       "\n",
       "                                                   none  \\\n",
       "0                                              Añadir\\n   \n",
       "1     https://www.carrefour.es/supermercado/la-despe...   \n",
       "2     https://www.carrefour.es/supermercado/la-despe...   \n",
       "3     https://www.carrefour.es/supermercado/la-despe...   \n",
       "4     https://www.carrefour.es/supermercado/la-despe...   \n",
       "...                                                 ...   \n",
       "2259  https://www.carrefour.es/supermercado/parafarm...   \n",
       "2260  https://www.carrefour.es/supermercado/parafarm...   \n",
       "2261  https://www.carrefour.es/supermercado/parafarm...   \n",
       "2262  https://www.carrefour.es/supermercado/parafarm...   \n",
       "2263  https://www.carrefour.es/supermercado/parafarm...   \n",
       "\n",
       "                                                   link     m     k     s  \n",
       "0     https://www.carrefour.es/supermercado/la-despe...  None  None  None  \n",
       "1                                                  None  None  None  None  \n",
       "2                                                  None  None  None  None  \n",
       "3                                                  None  None  None  None  \n",
       "4                                                  None  None  None  None  \n",
       "...                                                 ...   ...   ...   ...  \n",
       "2259                                               None  None  None  None  \n",
       "2260                                               None  None  None  None  \n",
       "2261                                               None  None  None  None  \n",
       "2262                                               None  None  None  None  \n",
       "2263                                               None  None  None  None  \n",
       "\n",
       "[2264 rows x 9 columns]"
      ]
     },
     "execution_count": 19,
     "metadata": {},
     "output_type": "execute_result"
    }
   ],
   "source": []
  },
  {
   "cell_type": "code",
   "execution_count": 109,
   "id": "8b2886c3",
   "metadata": {},
   "outputs": [
    {
     "data": {
      "text/plain": [
       "5"
      ]
     },
     "execution_count": 109,
     "metadata": {},
     "output_type": "execute_result"
    }
   ],
   "source": [
    "len(nueve)"
   ]
  },
  {
   "cell_type": "code",
   "execution_count": 110,
   "id": "5d119955",
   "metadata": {},
   "outputs": [
    {
     "data": {
      "text/plain": [
       "20"
      ]
     },
     "execution_count": 110,
     "metadata": {},
     "output_type": "execute_result"
    }
   ],
   "source": [
    "ocho=[]\n",
    "for i in lista_productos:\n",
    "    if len(i)==8:\n",
    "        ocho.append(i)\n",
    "len(ocho)\n"
   ]
  }
 ],
 "metadata": {
  "kernelspec": {
   "display_name": "ironhack",
   "language": "python",
   "name": "ironhack"
  },
  "language_info": {
   "codemirror_mode": {
    "name": "ipython",
    "version": 3
   },
   "file_extension": ".py",
   "mimetype": "text/x-python",
   "name": "python",
   "nbconvert_exporter": "python",
   "pygments_lexer": "ipython3",
   "version": "3.8.5"
  }
 },
 "nbformat": 4,
 "nbformat_minor": 5
}
