{
 "cells": [
  {
   "cell_type": "code",
   "execution_count": 2,
   "id": "5407edc9",
   "metadata": {},
   "outputs": [],
   "source": [
    "import pandas as pd\n",
    "import numpy as np\n",
    "import re\n",
    "import math"
   ]
  },
  {
   "cell_type": "code",
   "execution_count": 342,
   "id": "4fe17b69",
   "metadata": {},
   "outputs": [],
   "source": [
    "mer=pd.read_csv(\"limpieza_stream/mercadona_DEF.csv\",encoding = \"ISO-8859-1\")\n",
    "dia=pd.read_csv(\"limpieza_stream/dia_sinDEF.csv\",encoding = \"ISO-8859-1\")\n",
    "carr=pd.read_csv(\"limpieza_stream/carr_conDEF.csv\",encoding = \"ISO-8859-1\")"
   ]
  },
  {
   "cell_type": "code",
   "execution_count": null,
   "id": "e631f156",
   "metadata": {},
   "outputs": [],
   "source": []
  },
  {
   "cell_type": "code",
   "execution_count": null,
   "id": "a6a53ee0",
   "metadata": {},
   "outputs": [],
   "source": []
  },
  {
   "cell_type": "code",
   "execution_count": 343,
   "id": "9fa3ee1c",
   "metadata": {},
   "outputs": [],
   "source": [
    "mer[\"Q\"]= mer[\"Q\"].replace(to_replace ='[(]', value = 'x ', regex = True)"
   ]
  },
  {
   "cell_type": "code",
   "execution_count": 344,
   "id": "28930c38",
   "metadata": {},
   "outputs": [],
   "source": [
    "mer[\"Q\"]= mer[\"Q\"].replace(to_replace ='1/2 Pieza', value = 'x ', regex = True)"
   ]
  },
  {
   "cell_type": "code",
   "execution_count": 352,
   "id": "b1e026b0",
   "metadata": {},
   "outputs": [],
   "source": [
    " mer[\"Q2\"]=mer[\"Q\"].str.extract(r\"(x +\\d+[\\w.\\-]* [\\w.\\-]*)\",)"
   ]
  },
  {
   "cell_type": "code",
   "execution_count": null,
   "id": "6f89c9b3",
   "metadata": {},
   "outputs": [],
   "source": [
    "#mer[\"Q2\"]=mer[\"Q\"].str.extract(r\"(x \\d+ [\\w.\\-])\",)"
   ]
  },
  {
   "cell_type": "code",
   "execution_count": 353,
   "id": "8b0e17d3",
   "metadata": {},
   "outputs": [],
   "source": [
    "mer[\"Q2\"]= mer[\"Q2\"].replace(to_replace ='[x]', value = '', regex = True)"
   ]
  },
  {
   "cell_type": "code",
   "execution_count": 358,
   "id": "df4e83b2",
   "metadata": {},
   "outputs": [],
   "source": [
    "mer[\"Q2\"]= mer[\"Q2\"].str.strip()\n"
   ]
  },
  {
   "cell_type": "code",
   "execution_count": 359,
   "id": "d4d28ea8",
   "metadata": {},
   "outputs": [],
   "source": [
    "mer[[\"cantidad_sinx\",\"unidad\"]]=mer[\"Q2\"].str.split(r\" \",expand=True)"
   ]
  },
  {
   "cell_type": "code",
   "execution_count": 361,
   "id": "8ea5d1dd",
   "metadata": {},
   "outputs": [],
   "source": [
    "mer[\"cantidad_sinx\"]=pd.to_numeric(mer[\"cantidad_sinx\"])\n",
    "mer[\"q_medida\"]=pd.to_numeric(mer[\"q_medida\"])"
   ]
  },
  {
   "cell_type": "code",
   "execution_count": 362,
   "id": "3f6cf16c",
   "metadata": {},
   "outputs": [],
   "source": [
    "mer[\"cantidad_sinx\"]=mer[\"cantidad_sinx\"].fillna(1)"
   ]
  },
  {
   "cell_type": "code",
   "execution_count": null,
   "id": "e15bb212",
   "metadata": {},
   "outputs": [],
   "source": [
    "#meto cambio la Q de las medias piezas-- se ha sacado el precio por kilo \n"
   ]
  },
  {
   "cell_type": "code",
   "execution_count": 364,
   "id": "9e26b4c6",
   "metadata": {},
   "outputs": [],
   "source": [
    "filtrado_ud = mer.loc[(mer[\"medida_rel\"]== '2 Pieza')]\n",
    "lista_medias=list(filtrado_ud.index)"
   ]
  },
  {
   "cell_type": "code",
   "execution_count": 365,
   "id": "c060c17f",
   "metadata": {},
   "outputs": [],
   "source": [
    "for i in lista_medios:\n",
    "    mer.loc[i, 'q_medida'] = 1"
   ]
  },
  {
   "cell_type": "code",
   "execution_count": 366,
   "id": "adaeddb9",
   "metadata": {},
   "outputs": [],
   "source": [
    "mer[\"cantidad\"]=mer[\"cantidad_sinx\"]*mer[\"q_medida\"]"
   ]
  },
  {
   "cell_type": "code",
   "execution_count": 367,
   "id": "77bb04fb",
   "metadata": {},
   "outputs": [],
   "source": [
    "mer[\"medida_2\"]=mer[\"unidad\"].fillna(mer[\"medida_\"])"
   ]
  },
  {
   "cell_type": "code",
   "execution_count": 368,
   "id": "ce274bab",
   "metadata": {},
   "outputs": [
    {
     "data": {
      "text/plain": [
       "array(['L', 'ml', 'g', 'kg', 'ud.', 'filtros', 'ampollas', 'sobres',\n",
       "       'bandas', 'tiras', 'rollo', 'apositos', 'venda', 'protectores',\n",
       "       'monodosis', 'preservativos', 'pastillas', 'velas', 'recambios',\n",
       "       'm', 'hojas', 'bolsas', 'cajas', 'servicios', 'rollos', 'fundas'],\n",
       "      dtype=object)"
      ]
     },
     "execution_count": 368,
     "metadata": {},
     "output_type": "execute_result"
    }
   ],
   "source": [
    "mer.medida_2.unique()"
   ]
  },
  {
   "cell_type": "code",
   "execution_count": 369,
   "id": "20f97912",
   "metadata": {},
   "outputs": [],
   "source": [
    "def medidas(a):\n",
    "    if \"filtros\" in a:\n",
    "        return \"ud\"\n",
    "    elif \"ud.\" in a:\n",
    "        return \"ud\"\n",
    "    elif \"sobres\" in a:\n",
    "        return \"ud\"\n",
    "    elif \"ampollas\" in a:\n",
    "        return \"ud\" \n",
    "    elif \"bandas\" in a:\n",
    "        return \"ud\"     \n",
    "    elif \"tiras\" in a:\n",
    "        return \"ud\"     \n",
    "    elif \"rollo\" in a:\n",
    "        return \"ud\"   \n",
    "    elif \"protectores\" in a:\n",
    "        return \"ud\"\n",
    "    elif \"apositos\" in a:\n",
    "        return \"ud\"   \n",
    "    elif \"venda\" in a:\n",
    "        return \"ud\"  \n",
    "    elif \"monodosis\" in a:\n",
    "        return \"ud\"     \n",
    "    elif \"preservativos\" in a:\n",
    "        return \"ud\"     \n",
    "    elif \"pastillas\" in a:\n",
    "        return \"ud\"   \n",
    "    elif \"velas\" in a:\n",
    "        return \"ud\"     \n",
    "    elif \"recambios\" in a:\n",
    "        return \"ud\"     \n",
    "    elif \"hojas\" in a:\n",
    "        return \"ud\"         \n",
    "    elif \"bolsas\" in a:\n",
    "        return \"ud\"     \n",
    "    elif \"cajas\" in a:\n",
    "        return \"ud\"     \n",
    "    elif \"servicios\" in a:\n",
    "        return \"ud\"         \n",
    "    elif \"rollos\" in a:\n",
    "        return \"ud\"     \n",
    "    elif \"fundas\" in a:\n",
    "        return \"ud\"\n",
    "    else:\n",
    "        return a\n"
   ]
  },
  {
   "cell_type": "code",
   "execution_count": 370,
   "id": "e7c2b1ba",
   "metadata": {},
   "outputs": [],
   "source": [
    "mer[\"medida_unif\"]=mer.medida_2.apply(medidas)"
   ]
  },
  {
   "cell_type": "code",
   "execution_count": 375,
   "id": "0614043d",
   "metadata": {},
   "outputs": [],
   "source": [
    "mer.to_csv(\"limpieza_stream/ultimo_mer_todo.csv\")"
   ]
  },
  {
   "cell_type": "code",
   "execution_count": 379,
   "id": "2e7c2985",
   "metadata": {},
   "outputs": [],
   "source": [
    "mer[\"nombre_prod\"]= mer[\"nombre_prod\"].replace(to_replace ='Â', value = '', regex = True)\n",
    "mer[\"nombre_prod\"]= mer[\"nombre_prod\"].replace(to_replace ='â¬', value = '', regex = True)"
   ]
  },
  {
   "cell_type": "code",
   "execution_count": 385,
   "id": "7ed636d9",
   "metadata": {},
   "outputs": [],
   "source": [
    "mer_unif=pd.DataFrame()\n",
    "mer_unif[[\"producto\", \"precio\",\"cantidad\",\"medida\"]]= mer[[\"nombre_prod\", \"precio_medida\",\"cantidad\",\"medida_unif\"]]"
   ]
  },
  {
   "cell_type": "code",
   "execution_count": 233,
   "id": "62204a46",
   "metadata": {},
   "outputs": [
    {
     "data": {
      "text/plain": [
       "array(['Kg', 'l', 'ud', 'm', 'Lavado\\n\\n\\n\\n\\n'], dtype=object)"
      ]
     },
     "execution_count": 233,
     "metadata": {},
     "output_type": "execute_result"
    }
   ],
   "source": [
    "dia.medida.unique()"
   ]
  },
  {
   "cell_type": "code",
   "execution_count": 387,
   "id": "3753c5f9",
   "metadata": {},
   "outputs": [],
   "source": [
    "mer_unif.to_csv(\"limpieza_stream/mer_unif.csv\")"
   ]
  },
  {
   "cell_type": "code",
   "execution_count": 388,
   "id": "21bf73ac",
   "metadata": {},
   "outputs": [
    {
     "data": {
      "text/html": [
       "<div>\n",
       "<style scoped>\n",
       "    .dataframe tbody tr th:only-of-type {\n",
       "        vertical-align: middle;\n",
       "    }\n",
       "\n",
       "    .dataframe tbody tr th {\n",
       "        vertical-align: top;\n",
       "    }\n",
       "\n",
       "    .dataframe thead th {\n",
       "        text-align: right;\n",
       "    }\n",
       "</style>\n",
       "<table border=\"1\" class=\"dataframe\">\n",
       "  <thead>\n",
       "    <tr style=\"text-align: right;\">\n",
       "      <th></th>\n",
       "      <th>Unnamed: 0</th>\n",
       "      <th>precio_anterior</th>\n",
       "      <th>precio</th>\n",
       "      <th>precio_rel</th>\n",
       "      <th>producto</th>\n",
       "      <th>link</th>\n",
       "      <th>precio_rel_anterior</th>\n",
       "      <th>precio_rel_1</th>\n",
       "      <th>precio_medida</th>\n",
       "      <th>medida</th>\n",
       "      <th>Q_medida</th>\n",
       "    </tr>\n",
       "  </thead>\n",
       "  <tbody>\n",
       "    <tr>\n",
       "      <th>0</th>\n",
       "      <td>0</td>\n",
       "      <td>0.82</td>\n",
       "      <td>0.79</td>\n",
       "      <td>0.82 /l | 0.79 /l</td>\n",
       "      <td>Leche semidesnatada Central Lechera Asturiana ...</td>\n",
       "      <td>https://www.carrefour.es/supermercado/la-despe...</td>\n",
       "      <td>0.82 /l</td>\n",
       "      <td>0.79 /l</td>\n",
       "      <td>0.79</td>\n",
       "      <td>l</td>\n",
       "      <td>1.000</td>\n",
       "    </tr>\n",
       "    <tr>\n",
       "      <th>1</th>\n",
       "      <td>1</td>\n",
       "      <td>0.82</td>\n",
       "      <td>0.79</td>\n",
       "      <td>0.82 /l | 0.79 /l</td>\n",
       "      <td>Leche entera Central Lechera Asturiana brik 1 l.</td>\n",
       "      <td>https://www.carrefour.es/supermercado/la-despe...</td>\n",
       "      <td>0.82 /l</td>\n",
       "      <td>0.79 /l</td>\n",
       "      <td>0.79</td>\n",
       "      <td>l</td>\n",
       "      <td>1.000</td>\n",
       "    </tr>\n",
       "    <tr>\n",
       "      <th>2</th>\n",
       "      <td>2</td>\n",
       "      <td>2.05</td>\n",
       "      <td>1.93</td>\n",
       "      <td>2.23 /kg | 2.10 /kg</td>\n",
       "      <td>Tomate frito Solis sin gluten y sin lactosa pa...</td>\n",
       "      <td>https://www.carrefour.es/supermercado/la-despe...</td>\n",
       "      <td>2.23 /kg</td>\n",
       "      <td>2.10 /kg</td>\n",
       "      <td>2.10</td>\n",
       "      <td>kg</td>\n",
       "      <td>0.919</td>\n",
       "    </tr>\n",
       "    <tr>\n",
       "      <th>3</th>\n",
       "      <td>3</td>\n",
       "      <td>0.82</td>\n",
       "      <td>0.79</td>\n",
       "      <td>0.82 /l | 0.79 /l</td>\n",
       "      <td>Leche desnatada Central Lechera Asturiana brik...</td>\n",
       "      <td>https://www.carrefour.es/supermercado/la-despe...</td>\n",
       "      <td>0.82 /l</td>\n",
       "      <td>0.79 /l</td>\n",
       "      <td>0.79</td>\n",
       "      <td>l</td>\n",
       "      <td>1.000</td>\n",
       "    </tr>\n",
       "    <tr>\n",
       "      <th>4</th>\n",
       "      <td>4</td>\n",
       "      <td>2.35</td>\n",
       "      <td>2.12</td>\n",
       "      <td>5.34 /kg | 4.82 /kg</td>\n",
       "      <td>Yogur griego con stracciatella Danone Oikos si...</td>\n",
       "      <td>https://www.carrefour.es/supermercado/la-despe...</td>\n",
       "      <td>5.34 /kg</td>\n",
       "      <td>4.82 /kg</td>\n",
       "      <td>4.82</td>\n",
       "      <td>kg</td>\n",
       "      <td>0.440</td>\n",
       "    </tr>\n",
       "    <tr>\n",
       "      <th>...</th>\n",
       "      <td>...</td>\n",
       "      <td>...</td>\n",
       "      <td>...</td>\n",
       "      <td>...</td>\n",
       "      <td>...</td>\n",
       "      <td>...</td>\n",
       "      <td>...</td>\n",
       "      <td>...</td>\n",
       "      <td>...</td>\n",
       "      <td>...</td>\n",
       "      <td>...</td>\n",
       "    </tr>\n",
       "    <tr>\n",
       "      <th>1031</th>\n",
       "      <td>1031</td>\n",
       "      <td>5.69</td>\n",
       "      <td>5.50</td>\n",
       "      <td>4.99 /kg | 4.82 /kg</td>\n",
       "      <td>Tarrito de platano. naranja. manzana y galleta...</td>\n",
       "      <td>https://www.carrefour.es/supermercado/bebe/cat...</td>\n",
       "      <td>4.99 /kg</td>\n",
       "      <td>4.82 /kg</td>\n",
       "      <td>4.82</td>\n",
       "      <td>kg</td>\n",
       "      <td>1.141</td>\n",
       "    </tr>\n",
       "    <tr>\n",
       "      <th>1032</th>\n",
       "      <td>1032</td>\n",
       "      <td>7.15</td>\n",
       "      <td>6.80</td>\n",
       "      <td>7.01 /kg | 6.67 /kg</td>\n",
       "      <td>Comida humeda surtido de carnes para gato adul...</td>\n",
       "      <td>https://www.carrefour.es/supermercado/mascotas...</td>\n",
       "      <td>7.01 /kg</td>\n",
       "      <td>6.67 /kg</td>\n",
       "      <td>6.67</td>\n",
       "      <td>kg</td>\n",
       "      <td>1.019</td>\n",
       "    </tr>\n",
       "    <tr>\n",
       "      <th>1033</th>\n",
       "      <td>1033</td>\n",
       "      <td>8.79</td>\n",
       "      <td>7.95</td>\n",
       "      <td>2.93 /kg | 2.65 /kg</td>\n",
       "      <td>Pienso para gato esterilizado Brekkies3 kg.</td>\n",
       "      <td>https://www.carrefour.es/supermercado/mascotas...</td>\n",
       "      <td>2.93 /kg</td>\n",
       "      <td>2.65 /kg</td>\n",
       "      <td>2.65</td>\n",
       "      <td>kg</td>\n",
       "      <td>3.000</td>\n",
       "    </tr>\n",
       "    <tr>\n",
       "      <th>1034</th>\n",
       "      <td>1034</td>\n",
       "      <td>7.15</td>\n",
       "      <td>6.80</td>\n",
       "      <td>7.01 /kg | 6.67 /kg</td>\n",
       "      <td>Comida humeda surtido de carnes para gato adul...</td>\n",
       "      <td>https://www.carrefour.es/supermercado/mascotas...</td>\n",
       "      <td>7.01 /kg</td>\n",
       "      <td>6.67 /kg</td>\n",
       "      <td>6.67</td>\n",
       "      <td>kg</td>\n",
       "      <td>1.019</td>\n",
       "    </tr>\n",
       "    <tr>\n",
       "      <th>1035</th>\n",
       "      <td>1035</td>\n",
       "      <td>8.79</td>\n",
       "      <td>7.95</td>\n",
       "      <td>2.93 /kg | 2.65 /kg</td>\n",
       "      <td>Pienso para gato esterilizado Brekkies3 kg.</td>\n",
       "      <td>https://www.carrefour.es/supermercado/mascotas...</td>\n",
       "      <td>2.93 /kg</td>\n",
       "      <td>2.65 /kg</td>\n",
       "      <td>2.65</td>\n",
       "      <td>kg</td>\n",
       "      <td>3.000</td>\n",
       "    </tr>\n",
       "  </tbody>\n",
       "</table>\n",
       "<p>1036 rows × 11 columns</p>\n",
       "</div>"
      ],
      "text/plain": [
       "      Unnamed: 0  precio_anterior  precio           precio_rel  \\\n",
       "0              0             0.82    0.79    0.82 /l | 0.79 /l   \n",
       "1              1             0.82    0.79    0.82 /l | 0.79 /l   \n",
       "2              2             2.05    1.93  2.23 /kg | 2.10 /kg   \n",
       "3              3             0.82    0.79    0.82 /l | 0.79 /l   \n",
       "4              4             2.35    2.12  5.34 /kg | 4.82 /kg   \n",
       "...          ...              ...     ...                  ...   \n",
       "1031        1031             5.69    5.50  4.99 /kg | 4.82 /kg   \n",
       "1032        1032             7.15    6.80  7.01 /kg | 6.67 /kg   \n",
       "1033        1033             8.79    7.95  2.93 /kg | 2.65 /kg   \n",
       "1034        1034             7.15    6.80  7.01 /kg | 6.67 /kg   \n",
       "1035        1035             8.79    7.95  2.93 /kg | 2.65 /kg   \n",
       "\n",
       "                                               producto  \\\n",
       "0     Leche semidesnatada Central Lechera Asturiana ...   \n",
       "1      Leche entera Central Lechera Asturiana brik 1 l.   \n",
       "2     Tomate frito Solis sin gluten y sin lactosa pa...   \n",
       "3     Leche desnatada Central Lechera Asturiana brik...   \n",
       "4     Yogur griego con stracciatella Danone Oikos si...   \n",
       "...                                                 ...   \n",
       "1031  Tarrito de platano. naranja. manzana y galleta...   \n",
       "1032  Comida humeda surtido de carnes para gato adul...   \n",
       "1033        Pienso para gato esterilizado Brekkies3 kg.   \n",
       "1034  Comida humeda surtido de carnes para gato adul...   \n",
       "1035        Pienso para gato esterilizado Brekkies3 kg.   \n",
       "\n",
       "                                                   link precio_rel_anterior  \\\n",
       "0     https://www.carrefour.es/supermercado/la-despe...            0.82 /l    \n",
       "1     https://www.carrefour.es/supermercado/la-despe...            0.82 /l    \n",
       "2     https://www.carrefour.es/supermercado/la-despe...           2.23 /kg    \n",
       "3     https://www.carrefour.es/supermercado/la-despe...            0.82 /l    \n",
       "4     https://www.carrefour.es/supermercado/la-despe...           5.34 /kg    \n",
       "...                                                 ...                 ...   \n",
       "1031  https://www.carrefour.es/supermercado/bebe/cat...           4.99 /kg    \n",
       "1032  https://www.carrefour.es/supermercado/mascotas...           7.01 /kg    \n",
       "1033  https://www.carrefour.es/supermercado/mascotas...           2.93 /kg    \n",
       "1034  https://www.carrefour.es/supermercado/mascotas...           7.01 /kg    \n",
       "1035  https://www.carrefour.es/supermercado/mascotas...           2.93 /kg    \n",
       "\n",
       "     precio_rel_1  precio_medida medida  Q_medida  \n",
       "0         0.79 /l           0.79      l     1.000  \n",
       "1         0.79 /l           0.79      l     1.000  \n",
       "2        2.10 /kg           2.10     kg     0.919  \n",
       "3         0.79 /l           0.79      l     1.000  \n",
       "4        4.82 /kg           4.82     kg     0.440  \n",
       "...           ...            ...    ...       ...  \n",
       "1031     4.82 /kg           4.82     kg     1.141  \n",
       "1032     6.67 /kg           6.67     kg     1.019  \n",
       "1033     2.65 /kg           2.65     kg     3.000  \n",
       "1034     6.67 /kg           6.67     kg     1.019  \n",
       "1035     2.65 /kg           2.65     kg     3.000  \n",
       "\n",
       "[1036 rows x 11 columns]"
      ]
     },
     "execution_count": 388,
     "metadata": {},
     "output_type": "execute_result"
    }
   ],
   "source": [
    "carr"
   ]
  },
  {
   "cell_type": "code",
   "execution_count": null,
   "id": "d395d6e7",
   "metadata": {},
   "outputs": [],
   "source": [
    "medida"
   ]
  },
  {
   "cell_type": "code",
   "execution_count": 291,
   "id": "98911164",
   "metadata": {},
   "outputs": [],
   "source": []
  },
  {
   "cell_type": "code",
   "execution_count": 300,
   "id": "72f7e1c5",
   "metadata": {},
   "outputs": [],
   "source": []
  },
  {
   "cell_type": "code",
   "execution_count": 298,
   "id": "ec1453c9",
   "metadata": {},
   "outputs": [],
   "source": [
    "\n"
   ]
  }
 ],
 "metadata": {
  "kernelspec": {
   "display_name": "ironhack",
   "language": "python",
   "name": "ironhack"
  },
  "language_info": {
   "codemirror_mode": {
    "name": "ipython",
    "version": 3
   },
   "file_extension": ".py",
   "mimetype": "text/x-python",
   "name": "python",
   "nbconvert_exporter": "python",
   "pygments_lexer": "ipython3",
   "version": "3.8.5"
  }
 },
 "nbformat": 4,
 "nbformat_minor": 5
}
