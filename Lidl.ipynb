{
 "cells": [
  {
   "cell_type": "code",
   "execution_count": 2,
   "id": "22dad272",
   "metadata": {},
   "outputs": [],
   "source": [
    "import pandas as pd\n",
    "import numpy as np\n",
    "import re\n",
    "import requests\n",
    "from bs4 import BeautifulSoup\n",
    "from selenium import webdriver\n",
    "from selenium.webdriver.chrome.service import Service\n",
    "from selenium import webdriver\n",
    "from selenium.webdriver.chrome.options import Options\n",
    "import time\n",
    "from selenium.webdriver.support.ui import Select\n",
    "from webdriver_manager.chrome import ChromeDriverManager\n",
    "from selenium.webdriver.support.ui import Select"
   ]
  },
  {
   "cell_type": "code",
   "execution_count": 19,
   "id": "c5e4cb93",
   "metadata": {},
   "outputs": [],
   "source": [
    "s=Service(\"/mnt/c/Users/silvi/Desktop/ironhack/proyectos/proyecto2/pipeline_proyecto1-2/jupyter/chromedriver.exe\")\n",
    "driver = webdriver.Chrome(service=s)\n",
    "opciones=Options()\n",
    "\n",
    "opciones.add_experimental_option('excludeSwitches', ['enable-automation'])\n",
    "opciones.add_experimental_option('useAutomationExtension', False)\n",
    "\n",
    "opciones.headless=False    # si True, no aperece la ventana (headless=no visible)\n",
    "\n",
    "opciones.add_argument('--start-maximized')         # comienza maximizado\n",
    "\n",
    "opciones.add_argument('user-data-dir=selenium')    # mantiene las cookies\n",
    "\n",
    "opciones.add_argument('--incognito')              # incognito"
   ]
  },
  {
   "cell_type": "code",
   "execution_count": 20,
   "id": "c29fcbbc",
   "metadata": {},
   "outputs": [
    {
     "name": "stderr",
     "output_type": "stream",
     "text": [
      "<ipython-input-20-1d6820648dd9>:5: DeprecationWarning: find_element_by_* commands are deprecated. Please use find_element() instead\n",
      "  driver.find_element_by_css_selector('.cookie-alert-extended-button').click()\n"
     ]
    }
   ],
   "source": [
    "url = ('https://www.lidl.es/')\n",
    "driver.get(url)\n",
    "time.sleep(5)\n",
    "\n",
    "driver.find_element_by_css_selector('.cookie-alert-extended-button').click()"
   ]
  },
  {
   "cell_type": "code",
   "execution_count": 21,
   "id": "e4904b38",
   "metadata": {},
   "outputs": [],
   "source": [
    "body = driver.execute_script(\"return document.body\")\n",
    "source = body.get_attribute('innerHTML') \n",
    "soup_sc = BeautifulSoup(source, \"html.parser\")"
   ]
  },
  {
   "cell_type": "code",
   "execution_count": 22,
   "id": "e5c5311d",
   "metadata": {},
   "outputs": [],
   "source": [
    "url_lidl=['https://www.lidl.es/es/frescos/s2040','https://www.lidl.es/es/despensa/s3926','https://www.lidl.es/es/bebidas/s2242','https://www.lidl.es/es/vinos/s2039','https://www.lidl.es/es/catalogo-de-productos-refrigerados-y-congelados/s3845','https://www.lidl.es/es/catalogo-productos-cien/s2274']"
   ]
  },
  {
   "cell_type": "code",
   "execution_count": 7,
   "id": "487f11be",
   "metadata": {},
   "outputs": [],
   "source": []
  },
  {
   "cell_type": "code",
   "execution_count": 11,
   "id": "b808d193",
   "metadata": {},
   "outputs": [
    {
     "data": {
      "text/plain": [
       "[None, None, None, None, None, None, None, None, None, None, None, None]"
      ]
     },
     "execution_count": 11,
     "metadata": {},
     "output_type": "execute_result"
    }
   ],
   "source": []
  },
  {
   "cell_type": "code",
   "execution_count": 23,
   "id": "b2bffe5b",
   "metadata": {},
   "outputs": [],
   "source": [
    "lista_productos=[]\n",
    "for i in url_lidl:\n",
    "    \n",
    "    url = i\n",
    "    driver.get(url)\n",
    "    driver.implicitly_wait(2)\n",
    "    body = driver.execute_script(\"return document.body\")\n",
    "    source = body.get_attribute('innerHTML') \n",
    "    soup_sc = BeautifulSoup(source, \"html.parser\")\n",
    "    price=soup_sc.findAll(\"div\",{\"class\":\"store-only__items r no-m\"})\n",
    "    price_=[p.getText() for p in price]\n",
    "    lista_productos.append(price_)\n",
    "\n"
   ]
  },
  {
   "cell_type": "code",
   "execution_count": 42,
   "id": "3c84d5d2",
   "metadata": {},
   "outputs": [
    {
     "data": {
      "text/plain": [
       "['\\n\\n\\n\\n\\n                    Vino tinto DO Ribera Duer\\n\\n\\n\\n\\n\\n\\n\\n\\n-22%\\n\\t\\t\\t\\t\\t\\tantes:\\n\\t\\t\\t\\t\\t\\t\\t\\t8.99\\n\\n\\n\\t\\t\\t\\t\\t 6.99*\\n\\n\\n\\t\\t\\t\\t\\t\\t1 l = 9.32\\n\\n\\n\\n\\n                Reserva.\\n\\n\\n\\n\\n\\n\\n            16.12.\\xa0\\n                    Disponible en tienda\\n\\n\\n\\n\\n\\n\\n\\n                    Volaverunt Vinto tinto\\n\\n\\n\\n\\n\\n\\n\\n\\n\\t\\t\\t\\t\\t 5.99*\\n\\n\\n\\n\\n\\n\\n\\n\\n\\n\\n\\n\\n            Compra en tienda\\n\\n\\n\\n\\n\\n\\n\\n                    Vino tinto DO Ribera Duero\\n\\n\\n\\n\\n\\n\\n\\n\\n-33%\\n\\t\\t\\t\\t\\t\\tantes:\\n\\t\\t\\t\\t\\t\\t\\t\\t4.49\\n\\n\\n\\t\\t\\t\\t\\t 2.99*\\n\\n\\n\\t\\t\\t\\t\\t\\t1 l = 3.99\\n\\n\\n\\n\\n                Joven.\\n\\n\\n\\n\\n\\n\\n            16.12.\\xa0\\n                    Disponible en tienda\\n\\n\\n\\n\\n\\n\\n\\n                    Oristán® Vino tinto DO La Mancha\\n\\n\\n\\n\\n\\n\\n\\n\\n\\t\\t\\t\\t\\t 2.49*\\n\\n\\n\\t\\t\\t\\t\\t\\t1 l = 3.32\\n\\n\\n\\n\\n                Crianza.\\n\\n\\n\\n\\n\\n\\n            Compra en tienda\\n\\n\\n\\n\\n\\n\\n\\n                    Prior de Neo® Vino tinto\\n\\n\\n\\n\\n\\n\\n\\n\\n\\t\\t\\t\\t\\t 8.99*\\n\\n\\n\\t\\t\\t\\t\\t\\t100 ml = 11.99\\n\\n\\n\\n\\n                DO Ribera de Duero.\\n\\n\\n\\n\\n\\n\\n            Compra en tienda\\n\\n\\n\\n\\n\\n\\n\\n                    Gamellón® Vino tinto DO Jumilla\\n\\n\\n\\n\\n\\n\\n\\n\\n\\t\\t\\t\\t\\t 2.49*\\n\\n\\n\\t\\t\\t\\t\\t\\t100 ml = 3.32\\n\\n\\n\\n\\n                Joven.\\n\\n\\n\\n\\n\\n\\n            Compra en tienda\\n\\n\\n\\n\\n\\n\\n\\n                    Adaras Aldea® Vino tinto ecológico\\n\\n\\n\\n\\n\\n\\n\\n\\n\\t\\t\\t\\t\\t 5.46*\\n\\n\\n\\t\\t\\t\\t\\t\\t1 l = 7.28\\n\\n\\n\\n\\n                DO Almansa, roble.\\n\\n\\n\\n\\n\\n\\n            Compra en tienda\\n\\n\\n\\n\\n\\n\\n\\n                    Irrepetible® Vino blanco DO Manchuela\\n\\n\\n\\n\\n\\n\\n\\n\\n\\t\\t\\t\\t\\t 3.99*\\n\\n\\n\\t\\t\\t\\t\\t\\t100 ml = 5.32\\n\\n\\n\\n\\n\\n\\n\\n\\n\\n\\n\\n            Compra en tienda\\n\\n\\n\\n\\n\\n\\n\\n                    Fincas del lebrel® Vino tinto DOCa Rioja\\n\\n\\n\\n\\n\\n\\n\\n\\n\\t\\t\\t\\t\\t 3.49*\\n\\n\\n\\t\\t\\t\\t\\t\\t1 l = 4.66\\n\\n\\n\\n\\n                Tempranillo.\\n\\n\\n\\n\\n\\n\\n            Compra en tienda\\n\\n\\n\\n\\n\\n\\n\\n                    Hachón® Vino blanco DO Rueda\\n\\n\\n\\n\\n\\n\\n\\n\\n\\t\\t\\t\\t\\t 1.89*\\n\\n\\n\\t\\t\\t\\t\\t\\t1 l = 2.52\\n\\n\\n\\n\\n                Verdejo viura.\\n\\n\\n\\n\\n\\n\\n            Compra en tienda\\n\\n\\n\\n\\n\\n\\n\\n                    Vespral® Vino tinto DO Terra Alta\\n\\n\\n\\n\\n\\n\\n\\n\\n\\t\\t\\t\\t\\t 2.29*\\n\\n\\n\\t\\t\\t\\t\\t\\t1 l = 3.06\\n\\n\\n\\n\\n                Reserva.\\n\\n\\n\\n\\n\\n\\n            Compra en tienda\\n\\n\\n\\n\\n\\n\\n\\n                    Fino Donceles® Vino blanco DO Montilla-Morile\\n\\n\\n\\n\\n\\n\\n\\n\\n\\t\\t\\t\\t\\t 2.15*\\n\\n\\n\\t\\t\\t\\t\\t\\t1 l = 2.87\\n\\n\\n\\n\\n                Moriles.\\n\\n\\n\\n\\n\\n\\n            Compra en tienda\\n\\n\\n\\n']"
      ]
     },
     "execution_count": 42,
     "metadata": {},
     "output_type": "execute_result"
    }
   ],
   "source": [
    "lista_productos[]"
   ]
  },
  {
   "cell_type": "code",
   "execution_count": 30,
   "id": "a7df9033",
   "metadata": {},
   "outputs": [],
   "source": [
    "productos=[]\n",
    "for i in lista_productos:\n",
    "    i.replace(\"á\",\"a\")\n",
    "    i.replace(\"é\",\"e\")\n",
    "    i.replace(\"í\",\"i\")\n",
    "    i.replace(\"ó\",\"o\")\n",
    "    i.replace(\"ú\",\"u\")\n",
    "    i.replace(\"ñ\",\"n\")\n",
    "lista_productos\n",
    "    for x in i:\n",
    "        productos.append(x.split(\"en tienda\"))\n",
    "\n",
    "        \n",
    "        "
   ]
  },
  {
   "cell_type": "code",
   "execution_count": 43,
   "id": "2bb4b6ba",
   "metadata": {},
   "outputs": [],
   "source": [
    "flat=[]\n",
    "for item in productos:\n",
    "    flat+=item"
   ]
  },
  {
   "cell_type": "code",
   "execution_count": 48,
   "id": "6ffdac99",
   "metadata": {},
   "outputs": [
    {
     "name": "stderr",
     "output_type": "stream",
     "text": [
      "<ipython-input-48-35a9a8af8005>:2: FutureWarning: The default value of regex will change from True to False in a future version.\n",
      "  df[\"producto_1\"]= df.producto.str.replace(r\"\\n*\", \"\")\n",
      "<ipython-input-48-35a9a8af8005>:3: FutureWarning: The default value of regex will change from True to False in a future version.\n",
      "  df[\"producto_1\"]= df.producto_1.str.replace(r\"\\t*\", \"\")\n"
     ]
    },
    {
     "data": {
      "text/plain": [
       "'                    Pechuga empanada 2.591 kg = 5.76                Origen España.            Compra '"
      ]
     },
     "execution_count": 48,
     "metadata": {},
     "output_type": "execute_result"
    }
   ],
   "source": [
    "df=pd.DataFrame(flat, columns = ['producto'])\n",
    "df[\"producto_1\"]= df.producto.str.replace(r\"\\n*\", \"\")\n",
    "df[\"producto_1\"]= df.producto_1.str.replace(r\"\\t*\", \"\")\n",
    "df[\"producto_1\"][1]\n"
   ]
  },
  {
   "cell_type": "code",
   "execution_count": 49,
   "id": "6362c588",
   "metadata": {},
   "outputs": [
    {
     "data": {
      "text/html": [
       "<div>\n",
       "<style scoped>\n",
       "    .dataframe tbody tr th:only-of-type {\n",
       "        vertical-align: middle;\n",
       "    }\n",
       "\n",
       "    .dataframe tbody tr th {\n",
       "        vertical-align: top;\n",
       "    }\n",
       "\n",
       "    .dataframe thead th {\n",
       "        text-align: right;\n",
       "    }\n",
       "</style>\n",
       "<table border=\"1\" class=\"dataframe\">\n",
       "  <thead>\n",
       "    <tr style=\"text-align: right;\">\n",
       "      <th></th>\n",
       "      <th>producto</th>\n",
       "      <th>producto_1</th>\n",
       "      <th>otro</th>\n",
       "      <th>precio/kilo</th>\n",
       "    </tr>\n",
       "  </thead>\n",
       "  <tbody>\n",
       "    <tr>\n",
       "      <th>0</th>\n",
       "      <td>\\n\\n\\n\\n\\n                    Longaniza sin tr...</td>\n",
       "      <td>Longaniza sin tripa-23%ant...</td>\n",
       "      <td>Longaniza sin tripa-23%ant...</td>\n",
       "      <td>1 kg = 3.44                8 unidades.        ...</td>\n",
       "    </tr>\n",
       "    <tr>\n",
       "      <th>1</th>\n",
       "      <td>\\n\\n\\n\\n\\n\\n\\n\\n                    Pechuga em...</td>\n",
       "      <td>Pechuga empanada 2.591 kg ...</td>\n",
       "      <td>Pechuga empanada 2.591 kg ...</td>\n",
       "      <td>None</td>\n",
       "    </tr>\n",
       "    <tr>\n",
       "      <th>2</th>\n",
       "      <td>\\n\\n\\n\\n\\n\\n\\n\\n                    Secreto\\n\\...</td>\n",
       "      <td>Secreto-21%antes:3.29 2.59...</td>\n",
       "      <td>Secreto-21%antes:3.29 2.59</td>\n",
       "      <td>1 kg = 4.32                Origen España.     ...</td>\n",
       "    </tr>\n",
       "    <tr>\n",
       "      <th>3</th>\n",
       "      <td>\\n\\n\\n\\n\\n\\n\\n\\n                    Alitas ado...</td>\n",
       "      <td>Alitas adobadas 2.29*1 kg ...</td>\n",
       "      <td>Alitas adobadas 2.29</td>\n",
       "      <td>1 kg = 4.58                Origen España.     ...</td>\n",
       "    </tr>\n",
       "    <tr>\n",
       "      <th>4</th>\n",
       "      <td>\\n\\n\\n\\n\\n\\n\\n\\n                    Pechuga en...</td>\n",
       "      <td>Pechuga entera 3.79*1 kg =...</td>\n",
       "      <td>Pechuga entera 3.79</td>\n",
       "      <td>1 kg = 6.32                Origen España.     ...</td>\n",
       "    </tr>\n",
       "  </tbody>\n",
       "</table>\n",
       "</div>"
      ],
      "text/plain": [
       "                                            producto  \\\n",
       "0  \\n\\n\\n\\n\\n                    Longaniza sin tr...   \n",
       "1  \\n\\n\\n\\n\\n\\n\\n\\n                    Pechuga em...   \n",
       "2  \\n\\n\\n\\n\\n\\n\\n\\n                    Secreto\\n\\...   \n",
       "3  \\n\\n\\n\\n\\n\\n\\n\\n                    Alitas ado...   \n",
       "4  \\n\\n\\n\\n\\n\\n\\n\\n                    Pechuga en...   \n",
       "\n",
       "                                          producto_1  \\\n",
       "0                      Longaniza sin tripa-23%ant...   \n",
       "1                      Pechuga empanada 2.591 kg ...   \n",
       "2                      Secreto-21%antes:3.29 2.59...   \n",
       "3                      Alitas adobadas 2.29*1 kg ...   \n",
       "4                      Pechuga entera 3.79*1 kg =...   \n",
       "\n",
       "                                                otro  \\\n",
       "0                      Longaniza sin tripa-23%ant...   \n",
       "1                      Pechuga empanada 2.591 kg ...   \n",
       "2                         Secreto-21%antes:3.29 2.59   \n",
       "3                               Alitas adobadas 2.29   \n",
       "4                                Pechuga entera 3.79   \n",
       "\n",
       "                                         precio/kilo  \n",
       "0  1 kg = 3.44                8 unidades.        ...  \n",
       "1                                               None  \n",
       "2  1 kg = 4.32                Origen España.     ...  \n",
       "3  1 kg = 4.58                Origen España.     ...  \n",
       "4  1 kg = 6.32                Origen España.     ...  "
      ]
     },
     "execution_count": 49,
     "metadata": {},
     "output_type": "execute_result"
    }
   ],
   "source": [
    "df[[\"otro\",\"precio/kilo\"]]=df.producto_1.str.split(\"*\",expand=True)\n",
    "df.head()"
   ]
  },
  {
   "cell_type": "code",
   "execution_count": 51,
   "id": "9e0d3d83",
   "metadata": {},
   "outputs": [],
   "source": [
    "df.to_csv(\"lidl.csv\")"
   ]
  },
  {
   "cell_type": "code",
   "execution_count": 89,
   "id": "870fdae9",
   "metadata": {},
   "outputs": [],
   "source": []
  },
  {
   "cell_type": "code",
   "execution_count": null,
   "id": "800bec93",
   "metadata": {},
   "outputs": [],
   "source": []
  },
  {
   "cell_type": "code",
   "execution_count": null,
   "id": "e60aa9ee",
   "metadata": {},
   "outputs": [],
   "source": []
  }
 ],
 "metadata": {
  "kernelspec": {
   "display_name": "ironhack",
   "language": "python",
   "name": "ironhack"
  },
  "language_info": {
   "codemirror_mode": {
    "name": "ipython",
    "version": 3
   },
   "file_extension": ".py",
   "mimetype": "text/x-python",
   "name": "python",
   "nbconvert_exporter": "python",
   "pygments_lexer": "ipython3",
   "version": "3.8.5"
  }
 },
 "nbformat": 4,
 "nbformat_minor": 5
}
