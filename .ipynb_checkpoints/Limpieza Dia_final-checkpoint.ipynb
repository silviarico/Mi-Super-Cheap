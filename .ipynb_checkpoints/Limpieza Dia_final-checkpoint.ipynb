{
 "cells": [
  {
   "cell_type": "code",
   "execution_count": 2,
   "id": "946d6e65",
   "metadata": {},
   "outputs": [],
   "source": [
    "import pandas as pd\n",
    "import numpy as np\n",
    "import re\n",
    "import math"
   ]
  },
  {
   "cell_type": "code",
   "execution_count": 133,
   "id": "e5fe9091",
   "metadata": {},
   "outputs": [],
   "source": [
    "dia=pd.read_csv(\"limpieza_stream/dia_sinDEF.csv\",encoding = \"ISO-8859-1\")\n",
    "dia_of1=pd.read_csv(\"limpieza_stream/dia_of1DEF.csv\",encoding = \"ISO-8859-1\")\n",
    "dia_of2=pd.read_csv(\"limpieza_stream/dia_of2DEF.csv\",encoding = \"ISO-8859-1\")"
   ]
  },
  {
   "cell_type": "markdown",
   "id": "eca819ed",
   "metadata": {},
   "source": [
    "## DIA sin oferta"
   ]
  },
  {
   "cell_type": "code",
   "execution_count": 134,
   "id": "f4f80b00",
   "metadata": {},
   "outputs": [
    {
     "ename": "NameError",
     "evalue": "name 'array' is not defined",
     "output_type": "error",
     "traceback": [
      "\u001b[0;31m---------------------------------------------------------------------------\u001b[0m",
      "\u001b[0;31mNameError\u001b[0m                                 Traceback (most recent call last)",
      "\u001b[0;32m<ipython-input-134-1c13e181e8ab>\u001b[0m in \u001b[0;36m<module>\u001b[0;34m\u001b[0m\n\u001b[0;32m----> 1\u001b[0;31m \u001b[0marray\u001b[0m\u001b[0;34m(\u001b[0m\u001b[0;34m[\u001b[0m\u001b[0;34m'L'\u001b[0m\u001b[0;34m,\u001b[0m \u001b[0;34m'kg'\u001b[0m\u001b[0;34m,\u001b[0m \u001b[0;34m'ud'\u001b[0m\u001b[0;34m,\u001b[0m \u001b[0;34m'm'\u001b[0m\u001b[0;34m]\u001b[0m\u001b[0;34m,\u001b[0m \u001b[0mdtype\u001b[0m\u001b[0;34m=\u001b[0m\u001b[0mobject\u001b[0m\u001b[0;34m)\u001b[0m\u001b[0;34m\u001b[0m\u001b[0;34m\u001b[0m\u001b[0m\n\u001b[0m\u001b[1;32m      2\u001b[0m \u001b[0marray\u001b[0m\u001b[0;34m(\u001b[0m\u001b[0;34m[\u001b[0m\u001b[0;34m'kg'\u001b[0m\u001b[0;34m,\u001b[0m \u001b[0;34m'L'\u001b[0m\u001b[0;34m,\u001b[0m \u001b[0;34m'ud'\u001b[0m\u001b[0;34m,\u001b[0m \u001b[0;34m'm'\u001b[0m\u001b[0;34m]\u001b[0m\u001b[0;34m,\u001b[0m \u001b[0mdtype\u001b[0m\u001b[0;34m=\u001b[0m\u001b[0mobject\u001b[0m\u001b[0;34m)\u001b[0m\u001b[0;34m\u001b[0m\u001b[0;34m\u001b[0m\u001b[0m\n",
      "\u001b[0;31mNameError\u001b[0m: name 'array' is not defined"
     ]
    }
   ],
   "source": [
    "array(['L', 'kg', 'ud', 'm'], dtype=object)\n",
    "array(['kg', 'L', 'ud', 'm'], dtype=object)"
   ]
  },
  {
   "cell_type": "code",
   "execution_count": 135,
   "id": "f06d46b3",
   "metadata": {},
   "outputs": [
    {
     "data": {
      "text/plain": [
       "array(['Kg', 'l', 'ud', 'm', 'Lavado\\n\\n\\n\\n\\n'], dtype=object)"
      ]
     },
     "execution_count": 135,
     "metadata": {},
     "output_type": "execute_result"
    }
   ],
   "source": [
    "dia.medida.unique()"
   ]
  },
  {
   "cell_type": "code",
   "execution_count": 136,
   "id": "40c49425",
   "metadata": {},
   "outputs": [
    {
     "data": {
      "text/html": [
       "<div>\n",
       "<style scoped>\n",
       "    .dataframe tbody tr th:only-of-type {\n",
       "        vertical-align: middle;\n",
       "    }\n",
       "\n",
       "    .dataframe tbody tr th {\n",
       "        vertical-align: top;\n",
       "    }\n",
       "\n",
       "    .dataframe thead th {\n",
       "        text-align: right;\n",
       "    }\n",
       "</style>\n",
       "<table border=\"1\" class=\"dataframe\">\n",
       "  <thead>\n",
       "    <tr style=\"text-align: right;\">\n",
       "      <th></th>\n",
       "      <th>producto</th>\n",
       "      <th>precio</th>\n",
       "      <th>precio_rel</th>\n",
       "      <th>link</th>\n",
       "      <th>oferta</th>\n",
       "      <th>Q</th>\n",
       "      <th>precio_medida</th>\n",
       "      <th>medida</th>\n",
       "      <th>Q_medida</th>\n",
       "      <th>precio_medida1</th>\n",
       "      <th>precio_medida2</th>\n",
       "    </tr>\n",
       "  </thead>\n",
       "  <tbody>\n",
       "    <tr>\n",
       "      <th>0</th>\n",
       "      <td>DIA DULCE NOEL turron suprema Jijona estuche 1...</td>\n",
       "      <td>1.89</td>\n",
       "      <td>12.60/Kg</td>\n",
       "      <td>https://www.dia.es/compra-online/dulces-de-nav...</td>\n",
       "      <td>0</td>\n",
       "      <td>150 gr</td>\n",
       "      <td>12.60</td>\n",
       "      <td>Kg</td>\n",
       "      <td>0.150</td>\n",
       "      <td>12.60</td>\n",
       "      <td>12.60</td>\n",
       "    </tr>\n",
       "    <tr>\n",
       "      <th>1</th>\n",
       "      <td>DIA DULCE NOEL turron de yema tostada suprema ...</td>\n",
       "      <td>1.49</td>\n",
       "      <td>9.93/Kg</td>\n",
       "      <td>https://www.dia.es/compra-online/dulces-de-nav...</td>\n",
       "      <td>0</td>\n",
       "      <td>150 gr</td>\n",
       "      <td>9.93</td>\n",
       "      <td>Kg</td>\n",
       "      <td>0.150</td>\n",
       "      <td>9.93</td>\n",
       "      <td>9.93</td>\n",
       "    </tr>\n",
       "    <tr>\n",
       "      <th>2</th>\n",
       "      <td>DIA DULCE NOEL turron imperial de cacahuete es...</td>\n",
       "      <td>0.99</td>\n",
       "      <td>6.60/Kg</td>\n",
       "      <td>https://www.dia.es/compra-online/dulces-de-nav...</td>\n",
       "      <td>0</td>\n",
       "      <td>150 gr</td>\n",
       "      <td>6.60</td>\n",
       "      <td>Kg</td>\n",
       "      <td>0.150</td>\n",
       "      <td>6.60</td>\n",
       "      <td>6.60</td>\n",
       "    </tr>\n",
       "    <tr>\n",
       "      <th>3</th>\n",
       "      <td>DIA DULCE NOEL turron de crema de cacahuete es...</td>\n",
       "      <td>0.99</td>\n",
       "      <td>6.60/Kg</td>\n",
       "      <td>https://www.dia.es/compra-online/dulces-de-nav...</td>\n",
       "      <td>0</td>\n",
       "      <td>150 gr</td>\n",
       "      <td>6.60</td>\n",
       "      <td>Kg</td>\n",
       "      <td>0.150</td>\n",
       "      <td>6.60</td>\n",
       "      <td>6.60</td>\n",
       "    </tr>\n",
       "    <tr>\n",
       "      <th>4</th>\n",
       "      <td>DIA DULCE NOEL almendra rellena surtido 10 gr</td>\n",
       "      <td>0.13</td>\n",
       "      <td>12.90/Kg</td>\n",
       "      <td>https://www.dia.es/compra-online/dulces-de-nav...</td>\n",
       "      <td>0</td>\n",
       "      <td>10 gr</td>\n",
       "      <td>12.90</td>\n",
       "      <td>Kg</td>\n",
       "      <td>0.010</td>\n",
       "      <td>12.90</td>\n",
       "      <td>12.90</td>\n",
       "    </tr>\n",
       "    <tr>\n",
       "      <th>...</th>\n",
       "      <td>...</td>\n",
       "      <td>...</td>\n",
       "      <td>...</td>\n",
       "      <td>...</td>\n",
       "      <td>...</td>\n",
       "      <td>...</td>\n",
       "      <td>...</td>\n",
       "      <td>...</td>\n",
       "      <td>...</td>\n",
       "      <td>...</td>\n",
       "      <td>...</td>\n",
       "    </tr>\n",
       "    <tr>\n",
       "      <th>6991</th>\n",
       "      <td>AS snack para perros dental bolsa 170 gr</td>\n",
       "      <td>1.69</td>\n",
       "      <td>9.94/Kg</td>\n",
       "      <td>https://www.dia.es/compra-online/mascotas/cf</td>\n",
       "      <td>0</td>\n",
       "      <td>170 gr</td>\n",
       "      <td>9.94</td>\n",
       "      <td>Kg</td>\n",
       "      <td>0.170</td>\n",
       "      <td>9.94</td>\n",
       "      <td>9.94</td>\n",
       "    </tr>\n",
       "    <tr>\n",
       "      <th>6992</th>\n",
       "      <td>FRISKIES alimento para perros complet bolsa 10 kg</td>\n",
       "      <td>15.49</td>\n",
       "      <td>1.55/Kg</td>\n",
       "      <td>https://www.dia.es/compra-online/mascotas/cf</td>\n",
       "      <td>0</td>\n",
       "      <td>10 kg</td>\n",
       "      <td>1.55</td>\n",
       "      <td>Kg</td>\n",
       "      <td>9.994</td>\n",
       "      <td>1.55</td>\n",
       "      <td>1.55</td>\n",
       "    </tr>\n",
       "    <tr>\n",
       "      <th>6993</th>\n",
       "      <td>ULTIMA alimento para perros adultos con pollo ...</td>\n",
       "      <td>11.29</td>\n",
       "      <td>3.76/Kg</td>\n",
       "      <td>https://www.dia.es/compra-online/mascotas/cf</td>\n",
       "      <td>0</td>\n",
       "      <td>3 kg</td>\n",
       "      <td>3.76</td>\n",
       "      <td>Kg</td>\n",
       "      <td>3.003</td>\n",
       "      <td>3.76</td>\n",
       "      <td>3.76</td>\n",
       "    </tr>\n",
       "    <tr>\n",
       "      <th>6994</th>\n",
       "      <td>GOURMET Gold mousse para gatos mix caja 8 x 85 gr</td>\n",
       "      <td>4.99</td>\n",
       "      <td>7.34/Kg</td>\n",
       "      <td>https://www.dia.es/compra-online/mascotas/cf</td>\n",
       "      <td>0</td>\n",
       "      <td>8 x 85 gr</td>\n",
       "      <td>7.34</td>\n",
       "      <td>Kg</td>\n",
       "      <td>0.680</td>\n",
       "      <td>7.34</td>\n",
       "      <td>7.34</td>\n",
       "    </tr>\n",
       "    <tr>\n",
       "      <th>6995</th>\n",
       "      <td>FELIX alimento para gatos sabor seleccion de c...</td>\n",
       "      <td>1.69</td>\n",
       "      <td>4.23/Kg</td>\n",
       "      <td>https://www.dia.es/compra-online/mascotas/cf</td>\n",
       "      <td>0</td>\n",
       "      <td>4 pack x 100 g</td>\n",
       "      <td>4.23</td>\n",
       "      <td>Kg</td>\n",
       "      <td>0.400</td>\n",
       "      <td>4.23</td>\n",
       "      <td>4.23</td>\n",
       "    </tr>\n",
       "  </tbody>\n",
       "</table>\n",
       "<p>6996 rows × 11 columns</p>\n",
       "</div>"
      ],
      "text/plain": [
       "                                               producto  precio precio_rel  \\\n",
       "0     DIA DULCE NOEL turron suprema Jijona estuche 1...    1.89   12.60/Kg   \n",
       "1     DIA DULCE NOEL turron de yema tostada suprema ...    1.49    9.93/Kg   \n",
       "2     DIA DULCE NOEL turron imperial de cacahuete es...    0.99    6.60/Kg   \n",
       "3     DIA DULCE NOEL turron de crema de cacahuete es...    0.99    6.60/Kg   \n",
       "4         DIA DULCE NOEL almendra rellena surtido 10 gr    0.13   12.90/Kg   \n",
       "...                                                 ...     ...        ...   \n",
       "6991           AS snack para perros dental bolsa 170 gr    1.69    9.94/Kg   \n",
       "6992  FRISKIES alimento para perros complet bolsa 10 kg   15.49    1.55/Kg   \n",
       "6993  ULTIMA alimento para perros adultos con pollo ...   11.29    3.76/Kg   \n",
       "6994  GOURMET Gold mousse para gatos mix caja 8 x 85 gr    4.99    7.34/Kg   \n",
       "6995  FELIX alimento para gatos sabor seleccion de c...    1.69    4.23/Kg   \n",
       "\n",
       "                                                   link  oferta  \\\n",
       "0     https://www.dia.es/compra-online/dulces-de-nav...       0   \n",
       "1     https://www.dia.es/compra-online/dulces-de-nav...       0   \n",
       "2     https://www.dia.es/compra-online/dulces-de-nav...       0   \n",
       "3     https://www.dia.es/compra-online/dulces-de-nav...       0   \n",
       "4     https://www.dia.es/compra-online/dulces-de-nav...       0   \n",
       "...                                                 ...     ...   \n",
       "6991       https://www.dia.es/compra-online/mascotas/cf       0   \n",
       "6992       https://www.dia.es/compra-online/mascotas/cf       0   \n",
       "6993       https://www.dia.es/compra-online/mascotas/cf       0   \n",
       "6994       https://www.dia.es/compra-online/mascotas/cf       0   \n",
       "6995       https://www.dia.es/compra-online/mascotas/cf       0   \n",
       "\n",
       "                    Q precio_medida medida  Q_medida  precio_medida1  \\\n",
       "0              150 gr         12.60     Kg     0.150           12.60   \n",
       "1              150 gr          9.93     Kg     0.150            9.93   \n",
       "2              150 gr          6.60     Kg     0.150            6.60   \n",
       "3              150 gr          6.60     Kg     0.150            6.60   \n",
       "4               10 gr         12.90     Kg     0.010           12.90   \n",
       "...               ...           ...    ...       ...             ...   \n",
       "6991           170 gr          9.94     Kg     0.170            9.94   \n",
       "6992            10 kg          1.55     Kg     9.994            1.55   \n",
       "6993             3 kg          3.76     Kg     3.003            3.76   \n",
       "6994        8 x 85 gr          7.34     Kg     0.680            7.34   \n",
       "6995   4 pack x 100 g          4.23     Kg     0.400            4.23   \n",
       "\n",
       "      precio_medida2  \n",
       "0              12.60  \n",
       "1               9.93  \n",
       "2               6.60  \n",
       "3               6.60  \n",
       "4              12.90  \n",
       "...              ...  \n",
       "6991            9.94  \n",
       "6992            1.55  \n",
       "6993            3.76  \n",
       "6994            7.34  \n",
       "6995            4.23  \n",
       "\n",
       "[6996 rows x 11 columns]"
      ]
     },
     "execution_count": 136,
     "metadata": {},
     "output_type": "execute_result"
    }
   ],
   "source": [
    "dia.drop([\"Unnamed: 0\",\"Unnamed: 0.1\"], axis=1)\n"
   ]
  },
  {
   "cell_type": "code",
   "execution_count": 137,
   "id": "768e781e",
   "metadata": {},
   "outputs": [],
   "source": [
    "dia2=pd.DataFrame()\n",
    "dia2[[\"producto\", \"precio\",\"cantidad\",\"medida\"]]= dia[[\"producto\", \"precio\",\"Q_medida\",\"medida\"]]"
   ]
  },
  {
   "cell_type": "code",
   "execution_count": 138,
   "id": "229098ce",
   "metadata": {},
   "outputs": [
    {
     "data": {
      "text/plain": [
       "Kg                  3251\n",
       "l                   2599\n",
       "ud                  1061\n",
       "Lavado\\n\\n\\n\\n\\n      77\n",
       "m                      8\n",
       "Name: medida, dtype: int64"
      ]
     },
     "execution_count": 138,
     "metadata": {},
     "output_type": "execute_result"
    }
   ],
   "source": [
    "dia.medida.value_counts()"
   ]
  },
  {
   "cell_type": "code",
   "execution_count": 139,
   "id": "0bd83074",
   "metadata": {},
   "outputs": [
    {
     "data": {
      "text/plain": [
       "pandas.core.frame.DataFrame"
      ]
     },
     "execution_count": 139,
     "metadata": {},
     "output_type": "execute_result"
    }
   ],
   "source": [
    "type(dia2)"
   ]
  },
  {
   "cell_type": "code",
   "execution_count": 140,
   "id": "cb23ee8f",
   "metadata": {},
   "outputs": [],
   "source": [
    "def lavados(a,b):\n",
    "    if 'Lavado\\n\\n\\n\\n\\n'in a:\n",
    "        return 1\n",
    "    else:\n",
    "        return b"
   ]
  },
  {
   "cell_type": "code",
   "execution_count": 141,
   "id": "9289a212",
   "metadata": {},
   "outputs": [],
   "source": [
    "dia2[\"cantidad_\"]=dia2[\"cantidad\"]"
   ]
  },
  {
   "cell_type": "code",
   "execution_count": 142,
   "id": "befa64cb",
   "metadata": {},
   "outputs": [],
   "source": [
    "dia2[\"cantidad\"]=dia2.apply(lambda x:lavados(x.medida,x.cantidad_),axis=1)"
   ]
  },
  {
   "cell_type": "code",
   "execution_count": 143,
   "id": "f45d52df",
   "metadata": {},
   "outputs": [],
   "source": [
    "dia2 = dia2.replace(to_replace ='Lavado\\n\\n\\n\\n\\n', value = 'ud', regex = True)\n",
    "dia2 = dia2.replace(to_replace ='l', value = 'L', regex = True) \n",
    "dia2 = dia2.replace(to_replace ='Kg', value = 'kg', regex = True)"
   ]
  },
  {
   "cell_type": "code",
   "execution_count": 144,
   "id": "687318f3",
   "metadata": {},
   "outputs": [
    {
     "data": {
      "text/plain": [
       "array(['kg', 'L', 'ud', 'm'], dtype=object)"
      ]
     },
     "execution_count": 144,
     "metadata": {},
     "output_type": "execute_result"
    }
   ],
   "source": [
    "dia2.medida.unique()"
   ]
  },
  {
   "cell_type": "code",
   "execution_count": 146,
   "id": "84a0074f",
   "metadata": {},
   "outputs": [],
   "source": [
    "dia2.to_csv(\"limpieza_stream/Dia_finalsc.csv\")"
   ]
  },
  {
   "cell_type": "markdown",
   "id": "dd5080aa",
   "metadata": {},
   "source": [
    "## DIA con Oferta"
   ]
  },
  {
   "cell_type": "code",
   "execution_count": 147,
   "id": "60f43011",
   "metadata": {},
   "outputs": [],
   "source": [
    "dia_of1=pd.read_csv(\"limpieza_stream/dia_of1DEF.csv\",encoding = \"ISO-8859-1\")\n",
    "dia_of2=pd.read_csv(\"limpieza_stream/dia_of2DEF.csv\",encoding = \"ISO-8859-1\")"
   ]
  },
  {
   "cell_type": "code",
   "execution_count": 92,
   "id": "c8108341",
   "metadata": {},
   "outputs": [],
   "source": []
  },
  {
   "cell_type": "code",
   "execution_count": 148,
   "id": "952a4c34",
   "metadata": {},
   "outputs": [],
   "source": [
    "dia_of1.medida= dia_of1.medida.replace(to_replace ='Kg.', value = 'kg', regex = True) \n",
    "dia_of1.medida= dia_of1.medida.replace(to_replace ='l.', value = 'L', regex = True) \n",
    "dia_of2.medida= dia_of2.medida.replace(to_replace ='Kg.', value = 'kg', regex = True) "
   ]
  },
  {
   "cell_type": "code",
   "execution_count": null,
   "id": "98995886",
   "metadata": {},
   "outputs": [],
   "source": []
  },
  {
   "cell_type": "code",
   "execution_count": 101,
   "id": "38a0c30a",
   "metadata": {},
   "outputs": [],
   "source": []
  },
  {
   "cell_type": "code",
   "execution_count": 149,
   "id": "db652e9f",
   "metadata": {},
   "outputs": [],
   "source": [
    "dia_1=pd.DataFrame()\n",
    "dia_1[[\"producto\", \"precio\",\"cantidad\",\"medida\"]]= dia_of1[[\"producto_\", \"precio_\",\"Q_medida\",\"medida\"]]"
   ]
  },
  {
   "cell_type": "code",
   "execution_count": 150,
   "id": "229cb6c4",
   "metadata": {},
   "outputs": [],
   "source": [
    "dia_2=pd.DataFrame()\n",
    "dia_2[[\"producto\", \"precio\",\"cantidad\",\"medida\"]]= dia_of2[[\"producto_\", \"precio_\",\"Q_medida\",\"medida\"]]"
   ]
  },
  {
   "cell_type": "code",
   "execution_count": 152,
   "id": "ead7d6eb",
   "metadata": {},
   "outputs": [
    {
     "data": {
      "text/html": [
       "<div>\n",
       "<style scoped>\n",
       "    .dataframe tbody tr th:only-of-type {\n",
       "        vertical-align: middle;\n",
       "    }\n",
       "\n",
       "    .dataframe tbody tr th {\n",
       "        vertical-align: top;\n",
       "    }\n",
       "\n",
       "    .dataframe thead th {\n",
       "        text-align: right;\n",
       "    }\n",
       "</style>\n",
       "<table border=\"1\" class=\"dataframe\">\n",
       "  <thead>\n",
       "    <tr style=\"text-align: right;\">\n",
       "      <th></th>\n",
       "      <th>producto</th>\n",
       "      <th>precio</th>\n",
       "      <th>cantidad</th>\n",
       "      <th>medida</th>\n",
       "    </tr>\n",
       "  </thead>\n",
       "  <tbody>\n",
       "    <tr>\n",
       "      <th>0</th>\n",
       "      <td>DIA DULCE NOEL turron suprema Jijona estuche 1...</td>\n",
       "      <td>1.89</td>\n",
       "      <td>0.150</td>\n",
       "      <td>kg</td>\n",
       "    </tr>\n",
       "    <tr>\n",
       "      <th>1</th>\n",
       "      <td>DIA DULCE NOEL turron de yema tostada suprema ...</td>\n",
       "      <td>1.49</td>\n",
       "      <td>0.150</td>\n",
       "      <td>kg</td>\n",
       "    </tr>\n",
       "    <tr>\n",
       "      <th>2</th>\n",
       "      <td>DIA DULCE NOEL turron imperiaL de cacahuete es...</td>\n",
       "      <td>0.99</td>\n",
       "      <td>0.150</td>\n",
       "      <td>kg</td>\n",
       "    </tr>\n",
       "    <tr>\n",
       "      <th>3</th>\n",
       "      <td>DIA DULCE NOEL turron de crema de cacahuete es...</td>\n",
       "      <td>0.99</td>\n",
       "      <td>0.150</td>\n",
       "      <td>kg</td>\n",
       "    </tr>\n",
       "    <tr>\n",
       "      <th>4</th>\n",
       "      <td>DIA DULCE NOEL aLmendra reLLena surtido 10 gr</td>\n",
       "      <td>0.13</td>\n",
       "      <td>0.010</td>\n",
       "      <td>kg</td>\n",
       "    </tr>\n",
       "    <tr>\n",
       "      <th>...</th>\n",
       "      <td>...</td>\n",
       "      <td>...</td>\n",
       "      <td>...</td>\n",
       "      <td>...</td>\n",
       "    </tr>\n",
       "    <tr>\n",
       "      <th>6991</th>\n",
       "      <td>AS snack para perros dentaL boLsa 170 gr</td>\n",
       "      <td>1.69</td>\n",
       "      <td>0.170</td>\n",
       "      <td>kg</td>\n",
       "    </tr>\n",
       "    <tr>\n",
       "      <th>6992</th>\n",
       "      <td>FRISKIES aLimento para perros compLet boLsa 10 kg</td>\n",
       "      <td>15.49</td>\n",
       "      <td>9.994</td>\n",
       "      <td>kg</td>\n",
       "    </tr>\n",
       "    <tr>\n",
       "      <th>6993</th>\n",
       "      <td>ULTIMA aLimento para perros aduLtos con poLLo ...</td>\n",
       "      <td>11.29</td>\n",
       "      <td>3.003</td>\n",
       "      <td>kg</td>\n",
       "    </tr>\n",
       "    <tr>\n",
       "      <th>6994</th>\n",
       "      <td>GOURMET GoLd mousse para gatos mix caja 8 x 85 gr</td>\n",
       "      <td>4.99</td>\n",
       "      <td>0.680</td>\n",
       "      <td>kg</td>\n",
       "    </tr>\n",
       "    <tr>\n",
       "      <th>6995</th>\n",
       "      <td>FELIX aLimento para gatos sabor seLeccion de c...</td>\n",
       "      <td>1.69</td>\n",
       "      <td>0.400</td>\n",
       "      <td>kg</td>\n",
       "    </tr>\n",
       "  </tbody>\n",
       "</table>\n",
       "<p>6996 rows × 4 columns</p>\n",
       "</div>"
      ],
      "text/plain": [
       "                                               producto  precio  cantidad  \\\n",
       "0     DIA DULCE NOEL turron suprema Jijona estuche 1...    1.89     0.150   \n",
       "1     DIA DULCE NOEL turron de yema tostada suprema ...    1.49     0.150   \n",
       "2     DIA DULCE NOEL turron imperiaL de cacahuete es...    0.99     0.150   \n",
       "3     DIA DULCE NOEL turron de crema de cacahuete es...    0.99     0.150   \n",
       "4         DIA DULCE NOEL aLmendra reLLena surtido 10 gr    0.13     0.010   \n",
       "...                                                 ...     ...       ...   \n",
       "6991           AS snack para perros dentaL boLsa 170 gr    1.69     0.170   \n",
       "6992  FRISKIES aLimento para perros compLet boLsa 10 kg   15.49     9.994   \n",
       "6993  ULTIMA aLimento para perros aduLtos con poLLo ...   11.29     3.003   \n",
       "6994  GOURMET GoLd mousse para gatos mix caja 8 x 85 gr    4.99     0.680   \n",
       "6995  FELIX aLimento para gatos sabor seLeccion de c...    1.69     0.400   \n",
       "\n",
       "     medida  \n",
       "0        kg  \n",
       "1        kg  \n",
       "2        kg  \n",
       "3        kg  \n",
       "4        kg  \n",
       "...     ...  \n",
       "6991     kg  \n",
       "6992     kg  \n",
       "6993     kg  \n",
       "6994     kg  \n",
       "6995     kg  \n",
       "\n",
       "[6996 rows x 4 columns]"
      ]
     },
     "execution_count": 152,
     "metadata": {},
     "output_type": "execute_result"
    }
   ],
   "source": [
    "dia2.drop([\"cantidad_\"],axis=1)"
   ]
  },
  {
   "cell_type": "code",
   "execution_count": 153,
   "id": "54c678df",
   "metadata": {},
   "outputs": [],
   "source": [
    "dia2.to_csv(\"limpieza_stream/Dia_final_sc.csv\")\n",
    "dia_1.to_csv(\"limpieza_stream/Dia1_final_sc.csv\")\n",
    "dia_2.to_csv(\"limpieza_stream/Dia2_final_sc.csv\")"
   ]
  }
 ],
 "metadata": {
  "kernelspec": {
   "display_name": "ironhack",
   "language": "python",
   "name": "ironhack"
  },
  "language_info": {
   "codemirror_mode": {
    "name": "ipython",
    "version": 3
   },
   "file_extension": ".py",
   "mimetype": "text/x-python",
   "name": "python",
   "nbconvert_exporter": "python",
   "pygments_lexer": "ipython3",
   "version": "3.8.5"
  }
 },
 "nbformat": 4,
 "nbformat_minor": 5
}
