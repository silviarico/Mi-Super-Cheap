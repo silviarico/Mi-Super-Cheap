{
 "cells": [
  {
   "cell_type": "code",
   "execution_count": null,
   "id": "f14a554e",
   "metadata": {},
   "outputs": [],
   "source": [
    "import pandas as pd\n",
    "import numpy as np\n",
    "import re\n",
    "import requests\n",
    "from bs4 import BeautifulSoup\n",
    "from selenium import webdriver\n",
    "from selenium.webdriver.chrome.service import Service\n",
    "from selenium import webdriver\n",
    "from selenium.webdriver.chrome.options import Options\n",
    "import time\n",
    "from selenium.webdriver.support.ui import Select\n",
    "from webdriver_manager.chrome import ChromeDriverManager\n",
    "from selenium.webdriver.support.ui import Select\n",
    "import math"
   ]
  },
  {
   "cell_type": "code",
   "execution_count": null,
   "id": "bc5d8b81",
   "metadata": {},
   "outputs": [],
   "source": [
    "s=Service(\"/mnt/c/Users/silvi/Desktop/ironhack/proyectos/proyecto2/pipeline_proyecto1-2/jupyter/chromedriver.exe\")\n",
    "driver = webdriver.Chrome(service=s)\n",
    "opciones=Options()\n",
    "\n",
    "opciones.add_experimental_option('excludeSwitches', ['enable-automation'])\n",
    "opciones.add_experimental_option('useAutomationExtension', False)\n",
    "\n",
    "opciones.headless=False    # si True, no aperece la ventana (headless=no visible)\n",
    "\n",
    "opciones.add_argument('--start-maximized')         # comienza maximizado\n",
    "\n",
    "opciones.add_argument('user-data-dir=selenium')    # mantiene las cookies\n",
    "\n",
    "#opciones.add_extension('driver_folder/adblock.crx')       # adblocker\n",
    "\n",
    "opciones.add_argument('--incognito')              # incognito"
   ]
  },
  {
   "cell_type": "code",
   "execution_count": null,
   "id": "1f631cbd",
   "metadata": {},
   "outputs": [],
   "source": [
    "url = ('https://www.alcampo.es/compra-online/')\n",
    "driver.get(url)\n",
    "time.sleep(5)\n",
    "\n",
    "driver.find_element_by_css_selector('body > div.cc_overlay_lock > div > div > div:nth-child(4) > button.cc_b_ok.auxOKButton.cookie-button').click()"
   ]
  },
  {
   "cell_type": "code",
   "execution_count": null,
   "id": "206e7272",
   "metadata": {},
   "outputs": [],
   "source": [
    "driver.find_element_by_css_selector(\"#infoDescriptionFormShop > div > div:nth-child(3) > ul > li.question > a\").click()"
   ]
  },
  {
   "cell_type": "code",
   "execution_count": null,
   "id": "bfbd730d",
   "metadata": {},
   "outputs": [],
   "source": []
  },
  {
   "cell_type": "code",
   "execution_count": null,
   "id": "4bf3be3e",
   "metadata": {},
   "outputs": [],
   "source": [
    "inputElement = driver.find_element_by_css_selector(\"#postalCode\")\n",
    "inputElement.send_keys('28011')\n",
    "driver.find_element_by_css_selector(\"#infoDescriptionFormShop > div > div:nth-child(3) > ul > li.question > a\").click()"
   ]
  },
  {
   "cell_type": "code",
   "execution_count": null,
   "id": "ffe2838a",
   "metadata": {},
   "outputs": [],
   "source": [
    "ul subMenuMobile get(ref)"
   ]
  }
 ],
 "metadata": {
  "kernelspec": {
   "display_name": "ironhack",
   "language": "python",
   "name": "ironhack"
  },
  "language_info": {
   "codemirror_mode": {
    "name": "ipython",
    "version": 3
   },
   "file_extension": ".py",
   "mimetype": "text/x-python",
   "name": "python",
   "nbconvert_exporter": "python",
   "pygments_lexer": "ipython3",
   "version": "3.8.5"
  }
 },
 "nbformat": 4,
 "nbformat_minor": 5
}
