{
 "cells": [
  {
   "cell_type": "code",
   "execution_count": 1,
   "id": "4821e990",
   "metadata": {},
   "outputs": [],
   "source": [
    "import pandas as pd\n",
    "import numpy as np\n",
    "import re\n",
    "import requests\n",
    "from bs4 import BeautifulSoup\n",
    "from selenium import webdriver\n",
    "from selenium.webdriver.chrome.service import Service\n",
    "from selenium import webdriver\n",
    "from selenium.webdriver.chrome.options import Options\n",
    "import time\n",
    "from selenium.webdriver.support.ui import Select\n",
    "from webdriver_manager.chrome import ChromeDriverManager\n",
    "from selenium.webdriver.support.ui import Select"
   ]
  },
  {
   "cell_type": "code",
   "execution_count": 2,
   "id": "fbe81866",
   "metadata": {},
   "outputs": [],
   "source": [
    "s=Service(\"/mnt/c/Users/silvi/Desktop/ironhack/proyectos/proyecto2/pipeline_proyecto1-2/jupyter/chromedriver.exe\")\n",
    "driver = webdriver.Chrome(service=s)\n",
    "opciones=Options()\n",
    "\n",
    "opciones.add_experimental_option('excludeSwitches', ['enable-automation'])\n",
    "opciones.add_experimental_option('useAutomationExtension', False)\n",
    "\n",
    "opciones.headless=False    # si True, no aperece la ventana (headless=no visible)\n",
    "\n",
    "opciones.add_argument('--start-maximized')         # comienza maximizado\n",
    "\n",
    "opciones.add_argument('user-data-dir=selenium')    # mantiene las cookies\n",
    "\n",
    "opciones.add_argument('--incognito')              # incognito"
   ]
  },
  {
   "cell_type": "code",
   "execution_count": 3,
   "id": "6e85cb7d",
   "metadata": {},
   "outputs": [
    {
     "name": "stderr",
     "output_type": "stream",
     "text": [
      "<ipython-input-3-25f737cfb69d>:5: DeprecationWarning: find_element_by_* commands are deprecated. Please use find_element() instead\n",
      "  driver.find_element_by_css_selector('#root > div > div > div > button.ui-button.ui-button--small.ui-button--primary.ui-button--positive').click()\n"
     ]
    }
   ],
   "source": [
    "url = ('https://www.mercadona.es/')\n",
    "driver.get(url)\n",
    "time.sleep(5)\n",
    "\n",
    "driver.find_element_by_css_selector('#root > div > div > div > button.ui-button.ui-button--small.ui-button--primary.ui-button--positive').click()"
   ]
  },
  {
   "cell_type": "code",
   "execution_count": 4,
   "id": "7ab8d04e",
   "metadata": {},
   "outputs": [
    {
     "name": "stderr",
     "output_type": "stream",
     "text": [
      "<ipython-input-4-ab4acccf04c5>:1: DeprecationWarning: find_element_by_* commands are deprecated. Please use find_element() instead\n",
      "  inputElement = driver.find_element_by_css_selector(\"#root > header > div > div > form > div > input[type=text]\")\n"
     ]
    }
   ],
   "source": [
    "inputElement = driver.find_element_by_css_selector(\"#root > header > div > div > form > div > input[type=text]\")\n",
    "inputElement.send_keys('28011')"
   ]
  },
  {
   "cell_type": "code",
   "execution_count": 5,
   "id": "755d4e50",
   "metadata": {},
   "outputs": [
    {
     "name": "stderr",
     "output_type": "stream",
     "text": [
      "<ipython-input-5-3eb5ce4710c5>:1: DeprecationWarning: find_element_by_* commands are deprecated. Please use find_element() instead\n",
      "  driver.find_element_by_css_selector(\"#root > header > div > div > form > input\").click()\n"
     ]
    }
   ],
   "source": [
    "driver.find_element_by_css_selector(\"#root > header > div > div > form > input\").click()"
   ]
  },
  {
   "cell_type": "code",
   "execution_count": 6,
   "id": "14ecbe25",
   "metadata": {
    "scrolled": true
   },
   "outputs": [],
   "source": [
    "lista_merc=[{\"Aceite, vinagre y sal\":112},{\"Especias\":115},{\"Mayonesa, ketchup y mostaza\":116},{\"Otras salsas\":117},\n",
    "           {\"Agua\":156},{\"Isotónico y energético\":163},{\"Refresco de cola\":158},{\"Refresco de naranja y de limón\":159},\n",
    "           {\"Tónica y bitter\":161},{\"Refresco de té y sin gas\":162}, {\"Aceitunas y encurtidos\":135},{\"Frutos secos y fruta desecada\":133},\n",
    "           {\"Patatas fritas y snacks\":132}, {\"Arroz\":118},{\"Legumbres\":121},{\"Pasta y fideos\":120},{\"Azúcar y edulcorante\":89},\n",
    "           {\"Chicles y caramelos\":95},{\"Chocolate\":92},{\"Golosinas\":97},{\"Mermelada y miel\":90},{\"Turrones\":833},{\"Alimentación infantil\":216},{\"Biberón, chupete y menaje\":219},\n",
    "           {\"Higiene y cuidado bebe\":218},{\"Toallitas y pañales\":217},{\"Cerveza\":164},{\"Cerveza sin alcohol\":166},{\"Licores\":181},{\"Sidra y cava\":174},\n",
    "           {\"Tinto de verano y sangría\":168},{\"Vino blanco\":170},{\"Vino lambrusco y espumoso\":173},{\"Vino rosado\":171},{\"Vino tinto\":169},{\"Cacao soluble y chocolate a la taza\":86},\n",
    "           {\"Café cápsula y monodosis\":81},{\"Café molido y en grano\":83},{\"Café soluble y otras bebidas\":84},{\"Té e infusiones\":88},{\"Arreglos carne\":46},{\"Aves y pollo\":38},{\"Carne congelada\":47},\n",
    "           {\"Cerdo\":37},{\"Conejo y cordero\":42},{\"Embutido\":43},{\"Hamburguesas y picadas\":44},{\"Vacuno\":40},{\"Empanados y elaborados carne\":45},{\"Cereales\":78},{\"Galletas\":80},{\"Tortitas\":79},{\"Aves y jamón cocido\":48},\n",
    "           {\"Bacón y salchichas\":52},{\"Chopped y mortadela\":49},{\"Embutido curado\":51},{\"Jamón serrano\":50},{\"Paté y sobrasada\":58},{\"Queso curado, semicurado y tierno\":54},{\"Queso lonchas, rallado y en porciones\":56},{\"Queso untable y fresco\":53},\n",
    "           {\"Arroz y pasta congelado\":147},{\"Carne congelado\":148},{\"Helados\":154},{\"Hielo\":155},{\"Marisco congelado\":150},{\"Pescado congelado\":149},{\"Pizzas congeladas\":151},{\"Rebozados congelados\":884},{\"Tartas y churros congelados\":152},{\"Verdura congelados\":145},\n",
    "           {\"Atún y otras conservas de pescado\":122},{\"Berberechos y mejillones\":123},{\"Conservas de verdura y frutas\":127},{\"Gazpacho y cremas\":130},{\"Sopa y caldo\":129},{\"Tomate conserva\":126},\n",
    "           {\"Acondicionador y mascarilla\":201},{\"Champu\":199},{\"Coloración cabello\":203},{\"Fijación cabello\":202},{\"Peines y accesorios\":205},\n",
    "           {\"Afeitado y cuidado para hombre\":192},{\"Afeitado y cuidado para hombre\":189},{\"Cuidado e higiene facial\":185},{\"Depilación\":191},{\"Desodorante\":188},{\"Gel y jabón de manos\":187},{\"Higiene bucal\":186},{\"Higiene íntima\":190},{\"Manicura y pedicura\":194},{\"Manicura y pedicura\":782},{\"Perfume y colonia\":196},{\"Protector solar y aftersun\":198},\n",
    "           {\"Fitoterapia\":213},{\"Parafarmacia\":214},\n",
    "           {\"Fruta\":27},{\"Lechuga y ensalada preparada\":28},{\"Verdura\":29},{\"Huevos\":77},{\"Leche y bebidas vegetales\":72},{\"Mantequilla y margarina\":75},\n",
    "           {\"Detergente y suavizante ropa\":226},{\"Estropajo, bayeta y guantes\":237},{\"Insecticida y ambientador\":241},{\"Lejía y líquidos fuertes\":234},{\"Limpiacristales\":235},{\"Limpiahogar y friegasuelos\":233},{\"Limpieza baño y WC\":231},{\"Limpieza cocina\":230},{\"Limpieza muebles y multiusos\":232},{\"Limpieza vajilla\":229},{\"Menaje y conservación de alimentos\":243},{\"Papel higiénico y celulosa\":238},{\"Pilas y bolsas de basura\":239},{\"Utensilios de limpieza y calzado\":244},\n",
    "           {\"Bases de maquillaje y corrector\":206},{\"Colorete y polvos\":207},{\"Labios\":208},{\"Ojos\":210},{\"Pinceles y brochas\":212},\n",
    "           {\"Marisco\":32},{\"Pescado congelado\":34},{\"Pescado en bandeja\":33},{\"Pescado Fresco\":31},{\"Pescado Salazones y ahumados\":36},{\"sushi\":789},\n",
    "           {\"Gato\":222},{\"Perro\":221},{\"Pez y otros\":225},\n",
    "           {\"Bollería de horno\":65},{\"Bollería envasada\":66},{\"Harina y preparado repostería\":69},{\"Pan de horno\":59},{\"Pan de molde y otras especialidades\":60},{\"Pan tostado y rallado\":62},{\"Picos, rosquilletas y picatostes\":64},{\"Bollería de horno\":65},{\"Bollería envasada\":66},{\"Harina y preparado repostería\":69},{\"Pan de horno\":59},{\"Pan de molde y otras especialidades\":60},{\"Pan tostado y rallado\":62},{\"Picos, rosquilletas y picatostes\":64},{\"Tartas y pasteles\":68},{\"Velas y decoración\":71},\n",
    "           {\"Pizzas\":138},{\"Platos preparados calientes\":140},{\"Platos preparados fríos\":142},\n",
    "           {\"Bifidus\":105},{\"Flan y natillas\":110},{\"Gelatina y otros postres\":111},{\"Postres de soja\":106},{\"Yogures desnatados\":103},{\"Yogures griegos\":109},{\"Yogures líquidos\":108},{\"Yogures naturales y sabores\":104},{\"Yogures y postres infantiles\":107},\n",
    "           {\"Zumo fruta variada\":99},{\"Melocotón y piña\":100},{\"Naranja\":143},{\"Tomate y otros sabores\":98}]"
   ]
  },
  {
   "cell_type": "code",
   "execution_count": 7,
   "id": "117aebc4",
   "metadata": {},
   "outputs": [
    {
     "data": {
      "text/plain": [
       "['https://tienda.mercadona.es/categories/112',\n",
       " 'https://tienda.mercadona.es/categories/115',\n",
       " 'https://tienda.mercadona.es/categories/116',\n",
       " 'https://tienda.mercadona.es/categories/117',\n",
       " 'https://tienda.mercadona.es/categories/156',\n",
       " 'https://tienda.mercadona.es/categories/163',\n",
       " 'https://tienda.mercadona.es/categories/158',\n",
       " 'https://tienda.mercadona.es/categories/159',\n",
       " 'https://tienda.mercadona.es/categories/161',\n",
       " 'https://tienda.mercadona.es/categories/162',\n",
       " 'https://tienda.mercadona.es/categories/135',\n",
       " 'https://tienda.mercadona.es/categories/133',\n",
       " 'https://tienda.mercadona.es/categories/132',\n",
       " 'https://tienda.mercadona.es/categories/118',\n",
       " 'https://tienda.mercadona.es/categories/121',\n",
       " 'https://tienda.mercadona.es/categories/120',\n",
       " 'https://tienda.mercadona.es/categories/89',\n",
       " 'https://tienda.mercadona.es/categories/95',\n",
       " 'https://tienda.mercadona.es/categories/92',\n",
       " 'https://tienda.mercadona.es/categories/97',\n",
       " 'https://tienda.mercadona.es/categories/90',\n",
       " 'https://tienda.mercadona.es/categories/833',\n",
       " 'https://tienda.mercadona.es/categories/216',\n",
       " 'https://tienda.mercadona.es/categories/219',\n",
       " 'https://tienda.mercadona.es/categories/218',\n",
       " 'https://tienda.mercadona.es/categories/217',\n",
       " 'https://tienda.mercadona.es/categories/164',\n",
       " 'https://tienda.mercadona.es/categories/166',\n",
       " 'https://tienda.mercadona.es/categories/181',\n",
       " 'https://tienda.mercadona.es/categories/174',\n",
       " 'https://tienda.mercadona.es/categories/168',\n",
       " 'https://tienda.mercadona.es/categories/170',\n",
       " 'https://tienda.mercadona.es/categories/173',\n",
       " 'https://tienda.mercadona.es/categories/171',\n",
       " 'https://tienda.mercadona.es/categories/169',\n",
       " 'https://tienda.mercadona.es/categories/86',\n",
       " 'https://tienda.mercadona.es/categories/81',\n",
       " 'https://tienda.mercadona.es/categories/83',\n",
       " 'https://tienda.mercadona.es/categories/84',\n",
       " 'https://tienda.mercadona.es/categories/88',\n",
       " 'https://tienda.mercadona.es/categories/46',\n",
       " 'https://tienda.mercadona.es/categories/38',\n",
       " 'https://tienda.mercadona.es/categories/47',\n",
       " 'https://tienda.mercadona.es/categories/37',\n",
       " 'https://tienda.mercadona.es/categories/42',\n",
       " 'https://tienda.mercadona.es/categories/43',\n",
       " 'https://tienda.mercadona.es/categories/44',\n",
       " 'https://tienda.mercadona.es/categories/40',\n",
       " 'https://tienda.mercadona.es/categories/45',\n",
       " 'https://tienda.mercadona.es/categories/78',\n",
       " 'https://tienda.mercadona.es/categories/80',\n",
       " 'https://tienda.mercadona.es/categories/79',\n",
       " 'https://tienda.mercadona.es/categories/48',\n",
       " 'https://tienda.mercadona.es/categories/52',\n",
       " 'https://tienda.mercadona.es/categories/49',\n",
       " 'https://tienda.mercadona.es/categories/51',\n",
       " 'https://tienda.mercadona.es/categories/50',\n",
       " 'https://tienda.mercadona.es/categories/58',\n",
       " 'https://tienda.mercadona.es/categories/54',\n",
       " 'https://tienda.mercadona.es/categories/56',\n",
       " 'https://tienda.mercadona.es/categories/53',\n",
       " 'https://tienda.mercadona.es/categories/147',\n",
       " 'https://tienda.mercadona.es/categories/148',\n",
       " 'https://tienda.mercadona.es/categories/154',\n",
       " 'https://tienda.mercadona.es/categories/155',\n",
       " 'https://tienda.mercadona.es/categories/150',\n",
       " 'https://tienda.mercadona.es/categories/149',\n",
       " 'https://tienda.mercadona.es/categories/151',\n",
       " 'https://tienda.mercadona.es/categories/884',\n",
       " 'https://tienda.mercadona.es/categories/152',\n",
       " 'https://tienda.mercadona.es/categories/145',\n",
       " 'https://tienda.mercadona.es/categories/122',\n",
       " 'https://tienda.mercadona.es/categories/123',\n",
       " 'https://tienda.mercadona.es/categories/127',\n",
       " 'https://tienda.mercadona.es/categories/130',\n",
       " 'https://tienda.mercadona.es/categories/129',\n",
       " 'https://tienda.mercadona.es/categories/126',\n",
       " 'https://tienda.mercadona.es/categories/201',\n",
       " 'https://tienda.mercadona.es/categories/199',\n",
       " 'https://tienda.mercadona.es/categories/203',\n",
       " 'https://tienda.mercadona.es/categories/202',\n",
       " 'https://tienda.mercadona.es/categories/205',\n",
       " 'https://tienda.mercadona.es/categories/192',\n",
       " 'https://tienda.mercadona.es/categories/189',\n",
       " 'https://tienda.mercadona.es/categories/185',\n",
       " 'https://tienda.mercadona.es/categories/191',\n",
       " 'https://tienda.mercadona.es/categories/188',\n",
       " 'https://tienda.mercadona.es/categories/187',\n",
       " 'https://tienda.mercadona.es/categories/186',\n",
       " 'https://tienda.mercadona.es/categories/190',\n",
       " 'https://tienda.mercadona.es/categories/194',\n",
       " 'https://tienda.mercadona.es/categories/782',\n",
       " 'https://tienda.mercadona.es/categories/196',\n",
       " 'https://tienda.mercadona.es/categories/198',\n",
       " 'https://tienda.mercadona.es/categories/213',\n",
       " 'https://tienda.mercadona.es/categories/214',\n",
       " 'https://tienda.mercadona.es/categories/27',\n",
       " 'https://tienda.mercadona.es/categories/28',\n",
       " 'https://tienda.mercadona.es/categories/29',\n",
       " 'https://tienda.mercadona.es/categories/77',\n",
       " 'https://tienda.mercadona.es/categories/72',\n",
       " 'https://tienda.mercadona.es/categories/75',\n",
       " 'https://tienda.mercadona.es/categories/226',\n",
       " 'https://tienda.mercadona.es/categories/237',\n",
       " 'https://tienda.mercadona.es/categories/241',\n",
       " 'https://tienda.mercadona.es/categories/234',\n",
       " 'https://tienda.mercadona.es/categories/235',\n",
       " 'https://tienda.mercadona.es/categories/233',\n",
       " 'https://tienda.mercadona.es/categories/231',\n",
       " 'https://tienda.mercadona.es/categories/230',\n",
       " 'https://tienda.mercadona.es/categories/232',\n",
       " 'https://tienda.mercadona.es/categories/229',\n",
       " 'https://tienda.mercadona.es/categories/243',\n",
       " 'https://tienda.mercadona.es/categories/238',\n",
       " 'https://tienda.mercadona.es/categories/239',\n",
       " 'https://tienda.mercadona.es/categories/244',\n",
       " 'https://tienda.mercadona.es/categories/206',\n",
       " 'https://tienda.mercadona.es/categories/207',\n",
       " 'https://tienda.mercadona.es/categories/208',\n",
       " 'https://tienda.mercadona.es/categories/210',\n",
       " 'https://tienda.mercadona.es/categories/212',\n",
       " 'https://tienda.mercadona.es/categories/32',\n",
       " 'https://tienda.mercadona.es/categories/34',\n",
       " 'https://tienda.mercadona.es/categories/33',\n",
       " 'https://tienda.mercadona.es/categories/31',\n",
       " 'https://tienda.mercadona.es/categories/36',\n",
       " 'https://tienda.mercadona.es/categories/789',\n",
       " 'https://tienda.mercadona.es/categories/222',\n",
       " 'https://tienda.mercadona.es/categories/221',\n",
       " 'https://tienda.mercadona.es/categories/225',\n",
       " 'https://tienda.mercadona.es/categories/65',\n",
       " 'https://tienda.mercadona.es/categories/66',\n",
       " 'https://tienda.mercadona.es/categories/69',\n",
       " 'https://tienda.mercadona.es/categories/59',\n",
       " 'https://tienda.mercadona.es/categories/60',\n",
       " 'https://tienda.mercadona.es/categories/62',\n",
       " 'https://tienda.mercadona.es/categories/64',\n",
       " 'https://tienda.mercadona.es/categories/65',\n",
       " 'https://tienda.mercadona.es/categories/66',\n",
       " 'https://tienda.mercadona.es/categories/69',\n",
       " 'https://tienda.mercadona.es/categories/59',\n",
       " 'https://tienda.mercadona.es/categories/60',\n",
       " 'https://tienda.mercadona.es/categories/62',\n",
       " 'https://tienda.mercadona.es/categories/64',\n",
       " 'https://tienda.mercadona.es/categories/68',\n",
       " 'https://tienda.mercadona.es/categories/71',\n",
       " 'https://tienda.mercadona.es/categories/138',\n",
       " 'https://tienda.mercadona.es/categories/140',\n",
       " 'https://tienda.mercadona.es/categories/142',\n",
       " 'https://tienda.mercadona.es/categories/105',\n",
       " 'https://tienda.mercadona.es/categories/110',\n",
       " 'https://tienda.mercadona.es/categories/111',\n",
       " 'https://tienda.mercadona.es/categories/106',\n",
       " 'https://tienda.mercadona.es/categories/103',\n",
       " 'https://tienda.mercadona.es/categories/109',\n",
       " 'https://tienda.mercadona.es/categories/108',\n",
       " 'https://tienda.mercadona.es/categories/104',\n",
       " 'https://tienda.mercadona.es/categories/107',\n",
       " 'https://tienda.mercadona.es/categories/99',\n",
       " 'https://tienda.mercadona.es/categories/100',\n",
       " 'https://tienda.mercadona.es/categories/143',\n",
       " 'https://tienda.mercadona.es/categories/98']"
      ]
     },
     "execution_count": 7,
     "metadata": {},
     "output_type": "execute_result"
    }
   ],
   "source": [
    "lista_enlaces=[]\n",
    "for i in lista_merc:\n",
    "    lista_enlaces.append(f\"https://tienda.mercadona.es/categories/{list(i.values())[0]}\")\n",
    "lista_enlaces"
   ]
  },
  {
   "cell_type": "code",
   "execution_count": 34,
   "id": "f770a21c",
   "metadata": {},
   "outputs": [],
   "source": [
    "lista_productos=[]\n",
    "url = 'https://tienda.mercadona.es/categories/47'\n",
    "driver.get(url)\n",
    "driver.implicitly_wait(2)\n",
    "body = driver.execute_script(\"return document.body\")\n",
    "source = body.get_attribute('innerHTML') \n",
    "soup_sc = BeautifulSoup(source, \"html.parser\")\n",
    "price=soup_sc.findAll(\"h4\",{\"class\":\"subhead1-r product-cell__description-name\"})\n",
    "price_=[p.getText() for p in price]\n",
    "\n",
    "full javascript control"
   ]
  },
  {
   "cell_type": "code",
   "execution_count": 40,
   "id": "bbc6bac0",
   "metadata": {},
   "outputs": [
    {
     "ename": "SyntaxError",
     "evalue": "invalid syntax (<ipython-input-40-dcd34057ca1c>, line 3)",
     "output_type": "error",
     "traceback": [
      "\u001b[0;36m  File \u001b[0;32m\"<ipython-input-40-dcd34057ca1c>\"\u001b[0;36m, line \u001b[0;32m3\u001b[0m\n\u001b[0;31m    full javascript control\u001b[0m\n\u001b[0m         ^\u001b[0m\n\u001b[0;31mSyntaxError\u001b[0m\u001b[0;31m:\u001b[0m invalid syntax\n"
     ]
    }
   ],
   "source": [
    "url = 'https://tienda.mercadona.es/categories/47'\n",
    "driver.get(url)\n",
    "full javascript control"
   ]
  },
  {
   "cell_type": "code",
   "execution_count": 35,
   "id": "27e1ef81",
   "metadata": {},
   "outputs": [
    {
     "data": {
      "text/plain": [
       "'<noscript>You need to enable JavaScript to run this app.</noscript><div id=\"root\"></div><div id=\"modal-info\"></div><script>!function(e){function r(r){for(var n,l,f=r[0],i=r[1],a=r[2],c=0,s=[];c<f.length;c++)l=f[c],Object.prototype.hasOwnProperty.call(o,l)&&o[l]&&s.push(o[l][0]),o[l]=0;for(n in i)Object.prototype.hasOwnProperty.call(i,n)&&(e[n]=i[n]);for(p&&p(r);s.length;)s.shift()();return u.push.apply(u,a||[]),t()}function t(){for(var e,r=0;r<u.length;r++){for(var t=u[r],n=!0,f=1;f<t.length;f++){var i=t[f];0!==o[i]&&(n=!1)}n&&(u.splice(r--,1),e=l(l.s=t[0]))}return e}var n={},o={1:0},u=[];function l(r){if(n[r])return n[r].exports;var t=n[r]={i:r,l:!1,exports:{}};return e[r].call(t.exports,t,t.exports,l),t.l=!0,t.exports}l.m=e,l.c=n,l.d=function(e,r,t){l.o(e,r)||Object.defineProperty(e,r,{enumerable:!0,get:t})},l.r=function(e){\"undefined\"!=typeof Symbol&&Symbol.toStringTag&&Object.defineProperty(e,Symbol.toStringTag,{value:\"Module\"}),Object.defineProperty(e,\"__esModule\",{value:!0})},l.t=function(e,r){if(1&r&&(e=l(e)),8&r)return e;if(4&r&&\"object\"==typeof e&&e&&e.__esModule)return e;var t=Object.create(null);if(l.r(t),Object.defineProperty(t,\"default\",{enumerable:!0,value:e}),2&r&&\"string\"!=typeof e)for(var n in e)l.d(t,n,function(r){return e[r]}.bind(null,n));return t},l.n=function(e){var r=e&&e.__esModule?function(){return e.default}:function(){return e};return l.d(r,\"a\",r),r},l.o=function(e,r){return Object.prototype.hasOwnProperty.call(e,r)},l.p=\"/\";var f=window.webpackJsonp=window.webpackJsonp||[],i=f.push.bind(f);f.push=r,f=f.slice();for(var a=0;a<f.length;a++)r(f[a]);var p=i;t()}([])</script><script src=\"/v477/static/js/2.856b15f7.chunk.js\"></script><iframe src=\"javascript:false\" title=\"\" style=\"display: none;\"></iframe><script src=\"/v477/static/js/main.addb2bb1.chunk.js\"></script>'"
      ]
     },
     "execution_count": 35,
     "metadata": {},
     "output_type": "execute_result"
    }
   ],
   "source": [
    "source"
   ]
  },
  {
   "cell_type": "code",
   "execution_count": 30,
   "id": "d9346c44",
   "metadata": {},
   "outputs": [],
   "source": [
    "# import HTMLSession from requests_html\n",
    "from requests_html import HTMLSession"
   ]
  },
  {
   "cell_type": "code",
   "execution_count": 6,
   "id": "5af7363f",
   "metadata": {},
   "outputs": [],
   "source": [
    "from requests_html import AsyncHTMLSession\n",
    "asession = AsyncHTMLSession()\n"
   ]
  },
  {
   "cell_type": "code",
   "execution_count": 7,
   "id": "a6f9430f",
   "metadata": {},
   "outputs": [
    {
     "data": {
      "text/plain": [
       "<requests_html.AsyncHTMLSession at 0x7fb2ee09ac10>"
      ]
     },
     "execution_count": 7,
     "metadata": {},
     "output_type": "execute_result"
    }
   ],
   "source": [
    "asession"
   ]
  },
  {
   "cell_type": "code",
   "execution_count": 46,
   "id": "92074d4f",
   "metadata": {},
   "outputs": [
    {
     "ename": "RuntimeError",
     "evalue": "This event loop is already running",
     "output_type": "error",
     "traceback": [
      "\u001b[0;31m---------------------------------------------------------------------------\u001b[0m",
      "\u001b[0;31mRuntimeError\u001b[0m                              Traceback (most recent call last)",
      "\u001b[0;32m<ipython-input-46-7643caef6581>\u001b[0m in \u001b[0;36m<module>\u001b[0;34m\u001b[0m\n\u001b[0;32m----> 1\u001b[0;31m \u001b[0mresults\u001b[0m \u001b[0;34m=\u001b[0m \u001b[0masession\u001b[0m\u001b[0;34m.\u001b[0m\u001b[0mrun\u001b[0m\u001b[0;34m(\u001b[0m\u001b[0mget_pythonorg\u001b[0m\u001b[0;34m)\u001b[0m\u001b[0;34m\u001b[0m\u001b[0;34m\u001b[0m\u001b[0m\n\u001b[0m",
      "\u001b[0;32m~/anaconda3/envs/ironhack/lib/python3.8/site-packages/requests_html.py\u001b[0m in \u001b[0;36mrun\u001b[0;34m(self, *coros)\u001b[0m\n\u001b[1;32m    772\u001b[0m             \u001b[0masyncio\u001b[0m\u001b[0;34m.\u001b[0m\u001b[0mensure_future\u001b[0m\u001b[0;34m(\u001b[0m\u001b[0mcoro\u001b[0m\u001b[0;34m(\u001b[0m\u001b[0;34m)\u001b[0m\u001b[0;34m)\u001b[0m \u001b[0;32mfor\u001b[0m \u001b[0mcoro\u001b[0m \u001b[0;32min\u001b[0m \u001b[0mcoros\u001b[0m\u001b[0;34m\u001b[0m\u001b[0;34m\u001b[0m\u001b[0m\n\u001b[1;32m    773\u001b[0m         ]\n\u001b[0;32m--> 774\u001b[0;31m         \u001b[0mdone\u001b[0m\u001b[0;34m,\u001b[0m \u001b[0m_\u001b[0m \u001b[0;34m=\u001b[0m \u001b[0mself\u001b[0m\u001b[0;34m.\u001b[0m\u001b[0mloop\u001b[0m\u001b[0;34m.\u001b[0m\u001b[0mrun_until_complete\u001b[0m\u001b[0;34m(\u001b[0m\u001b[0masyncio\u001b[0m\u001b[0;34m.\u001b[0m\u001b[0mwait\u001b[0m\u001b[0;34m(\u001b[0m\u001b[0mtasks\u001b[0m\u001b[0;34m)\u001b[0m\u001b[0;34m)\u001b[0m\u001b[0;34m\u001b[0m\u001b[0;34m\u001b[0m\u001b[0m\n\u001b[0m\u001b[1;32m    775\u001b[0m         \u001b[0;32mreturn\u001b[0m \u001b[0;34m[\u001b[0m\u001b[0mt\u001b[0m\u001b[0;34m.\u001b[0m\u001b[0mresult\u001b[0m\u001b[0;34m(\u001b[0m\u001b[0;34m)\u001b[0m \u001b[0;32mfor\u001b[0m \u001b[0mt\u001b[0m \u001b[0;32min\u001b[0m \u001b[0mdone\u001b[0m\u001b[0;34m]\u001b[0m\u001b[0;34m\u001b[0m\u001b[0;34m\u001b[0m\u001b[0m\n",
      "\u001b[0;32m~/anaconda3/envs/ironhack/lib/python3.8/asyncio/base_events.py\u001b[0m in \u001b[0;36mrun_until_complete\u001b[0;34m(self, future)\u001b[0m\n\u001b[1;32m    590\u001b[0m         \"\"\"\n\u001b[1;32m    591\u001b[0m         \u001b[0mself\u001b[0m\u001b[0;34m.\u001b[0m\u001b[0m_check_closed\u001b[0m\u001b[0;34m(\u001b[0m\u001b[0;34m)\u001b[0m\u001b[0;34m\u001b[0m\u001b[0;34m\u001b[0m\u001b[0m\n\u001b[0;32m--> 592\u001b[0;31m         \u001b[0mself\u001b[0m\u001b[0;34m.\u001b[0m\u001b[0m_check_running\u001b[0m\u001b[0;34m(\u001b[0m\u001b[0;34m)\u001b[0m\u001b[0;34m\u001b[0m\u001b[0;34m\u001b[0m\u001b[0m\n\u001b[0m\u001b[1;32m    593\u001b[0m \u001b[0;34m\u001b[0m\u001b[0m\n\u001b[1;32m    594\u001b[0m         \u001b[0mnew_task\u001b[0m \u001b[0;34m=\u001b[0m \u001b[0;32mnot\u001b[0m \u001b[0mfutures\u001b[0m\u001b[0;34m.\u001b[0m\u001b[0misfuture\u001b[0m\u001b[0;34m(\u001b[0m\u001b[0mfuture\u001b[0m\u001b[0;34m)\u001b[0m\u001b[0;34m\u001b[0m\u001b[0;34m\u001b[0m\u001b[0m\n",
      "\u001b[0;32m~/anaconda3/envs/ironhack/lib/python3.8/asyncio/base_events.py\u001b[0m in \u001b[0;36m_check_running\u001b[0;34m(self)\u001b[0m\n\u001b[1;32m    550\u001b[0m     \u001b[0;32mdef\u001b[0m \u001b[0m_check_running\u001b[0m\u001b[0;34m(\u001b[0m\u001b[0mself\u001b[0m\u001b[0;34m)\u001b[0m\u001b[0;34m:\u001b[0m\u001b[0;34m\u001b[0m\u001b[0;34m\u001b[0m\u001b[0m\n\u001b[1;32m    551\u001b[0m         \u001b[0;32mif\u001b[0m \u001b[0mself\u001b[0m\u001b[0;34m.\u001b[0m\u001b[0mis_running\u001b[0m\u001b[0;34m(\u001b[0m\u001b[0;34m)\u001b[0m\u001b[0;34m:\u001b[0m\u001b[0;34m\u001b[0m\u001b[0;34m\u001b[0m\u001b[0m\n\u001b[0;32m--> 552\u001b[0;31m             \u001b[0;32mraise\u001b[0m \u001b[0mRuntimeError\u001b[0m\u001b[0;34m(\u001b[0m\u001b[0;34m'This event loop is already running'\u001b[0m\u001b[0;34m)\u001b[0m\u001b[0;34m\u001b[0m\u001b[0;34m\u001b[0m\u001b[0m\n\u001b[0m\u001b[1;32m    553\u001b[0m         \u001b[0;32mif\u001b[0m \u001b[0mevents\u001b[0m\u001b[0;34m.\u001b[0m\u001b[0m_get_running_loop\u001b[0m\u001b[0;34m(\u001b[0m\u001b[0;34m)\u001b[0m \u001b[0;32mis\u001b[0m \u001b[0;32mnot\u001b[0m \u001b[0;32mNone\u001b[0m\u001b[0;34m:\u001b[0m\u001b[0;34m\u001b[0m\u001b[0;34m\u001b[0m\u001b[0m\n\u001b[1;32m    554\u001b[0m             raise RuntimeError(\n",
      "\u001b[0;31mRuntimeError\u001b[0m: This event loop is already running"
     ]
    },
    {
     "name": "stderr",
     "output_type": "stream",
     "text": [
      "/home/silviarico/anaconda3/envs/ironhack/lib/python3.8/email/feedparser.py:164: RuntimeWarning: coroutine 'wait' was never awaited\n",
      "  self._parse = self._parsegen().__next__\n",
      "RuntimeWarning: Enable tracemalloc to get the object allocation traceback\n"
     ]
    }
   ],
   "source": [
    "async def get_pythonorg():\n",
    "    r = await asession.get('https://python.org/')\n",
    "...     return r "
   ]
  },
  {
   "cell_type": "code",
   "execution_count": 33,
   "id": "0727abb2",
   "metadata": {},
   "outputs": [
    {
     "ename": "RuntimeError",
     "evalue": "Cannot use HTMLSession within an existing event loop. Use AsyncHTMLSession instead.",
     "output_type": "error",
     "traceback": [
      "\u001b[0;31m---------------------------------------------------------------------------\u001b[0m",
      "\u001b[0;31mRuntimeError\u001b[0m                              Traceback (most recent call last)",
      "\u001b[0;32m<ipython-input-33-20e9bed66a3c>\u001b[0m in \u001b[0;36m<module>\u001b[0;34m\u001b[0m\n\u001b[1;32m      6\u001b[0m \u001b[0;34m\u001b[0m\u001b[0m\n\u001b[1;32m      7\u001b[0m \u001b[0;31m# Run JavaScript code on webpage\u001b[0m\u001b[0;34m\u001b[0m\u001b[0;34m\u001b[0m\u001b[0;34m\u001b[0m\u001b[0m\n\u001b[0;32m----> 8\u001b[0;31m \u001b[0mresp\u001b[0m\u001b[0;34m.\u001b[0m\u001b[0mhtml\u001b[0m\u001b[0;34m.\u001b[0m\u001b[0mrender\u001b[0m\u001b[0;34m(\u001b[0m\u001b[0mtime\u001b[0m\u001b[0;34m.\u001b[0m\u001b[0msleep\u001b[0m\u001b[0;34m(\u001b[0m\u001b[0;36m5\u001b[0m\u001b[0;34m)\u001b[0m\u001b[0;34m)\u001b[0m\u001b[0;34m\u001b[0m\u001b[0;34m\u001b[0m\u001b[0m\n\u001b[0m\u001b[1;32m      9\u001b[0m \u001b[0;34m\u001b[0m\u001b[0m\n",
      "\u001b[0;32m~/anaconda3/envs/ironhack/lib/python3.8/site-packages/requests_html.py\u001b[0m in \u001b[0;36mrender\u001b[0;34m(self, retries, script, wait, scrolldown, sleep, reload, timeout, keep_page)\u001b[0m\n\u001b[1;32m    584\u001b[0m         \"\"\"\n\u001b[1;32m    585\u001b[0m \u001b[0;34m\u001b[0m\u001b[0m\n\u001b[0;32m--> 586\u001b[0;31m         \u001b[0mself\u001b[0m\u001b[0;34m.\u001b[0m\u001b[0mbrowser\u001b[0m \u001b[0;34m=\u001b[0m \u001b[0mself\u001b[0m\u001b[0;34m.\u001b[0m\u001b[0msession\u001b[0m\u001b[0;34m.\u001b[0m\u001b[0mbrowser\u001b[0m  \u001b[0;31m# Automatically create a event loop and browser\u001b[0m\u001b[0;34m\u001b[0m\u001b[0;34m\u001b[0m\u001b[0m\n\u001b[0m\u001b[1;32m    587\u001b[0m         \u001b[0mcontent\u001b[0m \u001b[0;34m=\u001b[0m \u001b[0;32mNone\u001b[0m\u001b[0;34m\u001b[0m\u001b[0;34m\u001b[0m\u001b[0m\n\u001b[1;32m    588\u001b[0m \u001b[0;34m\u001b[0m\u001b[0m\n",
      "\u001b[0;32m~/anaconda3/envs/ironhack/lib/python3.8/site-packages/requests_html.py\u001b[0m in \u001b[0;36mbrowser\u001b[0;34m(self)\u001b[0m\n\u001b[1;32m    727\u001b[0m             \u001b[0mself\u001b[0m\u001b[0;34m.\u001b[0m\u001b[0mloop\u001b[0m \u001b[0;34m=\u001b[0m \u001b[0masyncio\u001b[0m\u001b[0;34m.\u001b[0m\u001b[0mget_event_loop\u001b[0m\u001b[0;34m(\u001b[0m\u001b[0;34m)\u001b[0m\u001b[0;34m\u001b[0m\u001b[0;34m\u001b[0m\u001b[0m\n\u001b[1;32m    728\u001b[0m             \u001b[0;32mif\u001b[0m \u001b[0mself\u001b[0m\u001b[0;34m.\u001b[0m\u001b[0mloop\u001b[0m\u001b[0;34m.\u001b[0m\u001b[0mis_running\u001b[0m\u001b[0;34m(\u001b[0m\u001b[0;34m)\u001b[0m\u001b[0;34m:\u001b[0m\u001b[0;34m\u001b[0m\u001b[0;34m\u001b[0m\u001b[0m\n\u001b[0;32m--> 729\u001b[0;31m                 \u001b[0;32mraise\u001b[0m \u001b[0mRuntimeError\u001b[0m\u001b[0;34m(\u001b[0m\u001b[0;34m\"Cannot use HTMLSession within an existing event loop. Use AsyncHTMLSession instead.\"\u001b[0m\u001b[0;34m)\u001b[0m\u001b[0;34m\u001b[0m\u001b[0;34m\u001b[0m\u001b[0m\n\u001b[0m\u001b[1;32m    730\u001b[0m             \u001b[0mself\u001b[0m\u001b[0;34m.\u001b[0m\u001b[0m_browser\u001b[0m \u001b[0;34m=\u001b[0m \u001b[0mself\u001b[0m\u001b[0;34m.\u001b[0m\u001b[0mloop\u001b[0m\u001b[0;34m.\u001b[0m\u001b[0mrun_until_complete\u001b[0m\u001b[0;34m(\u001b[0m\u001b[0msuper\u001b[0m\u001b[0;34m(\u001b[0m\u001b[0;34m)\u001b[0m\u001b[0;34m.\u001b[0m\u001b[0mbrowser\u001b[0m\u001b[0;34m)\u001b[0m\u001b[0;34m\u001b[0m\u001b[0;34m\u001b[0m\u001b[0m\n\u001b[1;32m    731\u001b[0m         \u001b[0;32mreturn\u001b[0m \u001b[0mself\u001b[0m\u001b[0;34m.\u001b[0m\u001b[0m_browser\u001b[0m\u001b[0;34m\u001b[0m\u001b[0;34m\u001b[0m\u001b[0m\n",
      "\u001b[0;31mRuntimeError\u001b[0m: Cannot use HTMLSession within an existing event loop. Use AsyncHTMLSession instead."
     ]
    }
   ],
   "source": [
    "# create an HTML Session object\n",
    "session = HTMLSession()\n",
    " \n",
    "# Use the object above to connect to needed webpage\n",
    "resp = session.get(\"https://tienda.mercadona.es/categories/47\")\n",
    " \n",
    "# Run JavaScript code on webpage\n",
    "resp.html.render(time.sleep(5))\n",
    "\n"
   ]
  },
  {
   "cell_type": "code",
   "execution_count": 25,
   "id": "f1854730",
   "metadata": {},
   "outputs": [
    {
     "data": {
      "text/plain": [
       "<html lang=\"es\"><head><meta charset=\"utf-8\"/><meta content=\"IE=edge\" http-equiv=\"X-UA-Compatible\"/><link href=\"/manifest.json\" rel=\"manifest\"/><link href=\"/favicon.ico\" rel=\"shortcut icon\"/><meta content=\"width=device-width,initial-scale=1,shrink-to-fit=no\" name=\"viewport\"/><meta content=\"#000000\" name=\"theme-color\"/><meta content=\"notranslate\" name=\"google\"/><meta content=\"summary_large_image\" name=\"twitter:card\"/><meta content=\"@Mercadona\" name=\"twitter:site\"/><meta content=\"@Mercadona\" name=\"twitter:creator\"/><meta content=\"AiAA_avfXacCRnY2G3ZE91SUVhDaT-QiraT_Y0y8Bv4\" name=\"google-site-verification\"/><script async=\"\" src=\"https://www.googletagmanager.com/gtag/js?id=UA-119340431-4\"></script><script>function gtag(){dataLayer.push(arguments)}window.dataLayer=window.dataLayer||[],gtag(\"js\",new Date)</script><meta content=\"https://tienda.mercadona.es/web-display-img.png\" data-react-helmet=\"true\" property=\"og:image\"/><meta content=\"https://tienda.mercadona.es\" data-react-helmet=\"true\" property=\"og:url\"/><meta content=\"Mercadona compra online\" data-react-helmet=\"true\" property=\"og:title\"/><meta content=\"Empieza tu compra online en Mercadona. Tu compra en casa de 7:00 a 22:00. Tramos de 1 hora. Calidad y frescura como en tu tienda.\" data-react-helmet=\"true\" property=\"og:description\"/><title>Mercadona compra online</title><meta content=\"Empieza tu compra online en Mercadona. Tu compra en casa de 7:00 a 22:00. Tramos de 1 hora. Calidad y frescura como en tu tienda.\" data-react-helmet=\"true\" name=\"description\"/><link href=\"/v477/static/css/2.27433019.chunk.css\" rel=\"stylesheet\"/><link href=\"/v477/static/css/main.78ec1e44.chunk.css\" rel=\"stylesheet\"/></head><body><noscript>You need to enable JavaScript to run this app.</noscript><div id=\"root\"></div><div id=\"modal-info\"></div><script>!function(e){function r(r){for(var n,l,f=r[0],i=r[1],a=r[2],c=0,s=[];c<f.length;c++)l=f[c],Object.prototype.hasOwnProperty.call(o,l)&&o[l]&&s.push(o[l][0]),o[l]=0;for(n in i)Object.prototype.hasOwnProperty.call(i,n)&&(e[n]=i[n]);for(p&&p(r);s.length;)s.shift()();return u.push.apply(u,a||[]),t()}function t(){for(var e,r=0;r<u.length;r++){for(var t=u[r],n=!0,f=1;f<t.length;f++){var i=t[f];0!==o[i]&&(n=!1)}n&&(u.splice(r--,1),e=l(l.s=t[0]))}return e}var n={},o={1:0},u=[];function l(r){if(n[r])return n[r].exports;var t=n[r]={i:r,l:!1,exports:{}};return e[r].call(t.exports,t,t.exports,l),t.l=!0,t.exports}l.m=e,l.c=n,l.d=function(e,r,t){l.o(e,r)||Object.defineProperty(e,r,{enumerable:!0,get:t})},l.r=function(e){\"undefined\"!=typeof Symbol&&Symbol.toStringTag&&Object.defineProperty(e,Symbol.toStringTag,{value:\"Module\"}),Object.defineProperty(e,\"__esModule\",{value:!0})},l.t=function(e,r){if(1&r&&(e=l(e)),8&r)return e;if(4&r&&\"object\"==typeof e&&e&&e.__esModule)return e;var t=Object.create(null);if(l.r(t),Object.defineProperty(t,\"default\",{enumerable:!0,value:e}),2&r&&\"string\"!=typeof e)for(var n in e)l.d(t,n,function(r){return e[r]}.bind(null,n));return t},l.n=function(e){var r=e&&e.__esModule?function(){return e.default}:function(){return e};return l.d(r,\"a\",r),r},l.o=function(e,r){return Object.prototype.hasOwnProperty.call(e,r)},l.p=\"/\";var f=window.webpackJsonp=window.webpackJsonp||[],i=f.push.bind(f);f.push=r,f=f.slice();for(var a=0;a<f.length;a++)r(f[a]);var p=i;t()}([])</script><script src=\"/v477/static/js/2.856b15f7.chunk.js\"></script><iframe src=\"javascript:false\" style=\"display: none;\" title=\"\"></iframe><script src=\"/v477/static/js/main.addb2bb1.chunk.js\"></script></body></html>"
      ]
     },
     "execution_count": 25,
     "metadata": {},
     "output_type": "execute_result"
    }
   ],
   "source": [
    "soup"
   ]
  },
  {
   "cell_type": "code",
   "execution_count": 36,
   "id": "0395799a",
   "metadata": {},
   "outputs": [
    {
     "data": {
      "text/plain": [
       "100"
      ]
     },
     "execution_count": 36,
     "metadata": {},
     "output_type": "execute_result"
    }
   ],
   "source": [
    "x={\"a\":100}\n",
    "z=list(x.values())\n",
    "z[0]"
   ]
  },
  {
   "cell_type": "code",
   "execution_count": 20,
   "id": "e722f706",
   "metadata": {},
   "outputs": [
    {
     "data": {
      "text/plain": [
       "[{'Aceite, vinagre y sal': 112},\n",
       " {'Especias': 115},\n",
       " {'Mayonesa, ketchup y mostaza': 116},\n",
       " {'Otras salsas': 117},\n",
       " {'Agua': 156},\n",
       " {'Isotónico y energético': 163},\n",
       " {'Refresco de cola': 158},\n",
       " {'Refresco de naranja y de limón': 159},\n",
       " {'Tónica y bitter': 161},\n",
       " {'Refresco de té y sin gas': 162},\n",
       " {'Aceitunas y encurtidos': 135},\n",
       " {'Frutos secos y fruta desecada': 133},\n",
       " {'Patatas fritas y snacks': 132},\n",
       " {'Arroz': 118},\n",
       " {'Legumbres': 121},\n",
       " {'Pasta y fideos': 120},\n",
       " {'Azúcar y edulcorante': 89},\n",
       " {'Chicles y caramelos': 95},\n",
       " {'Chocolate': 92},\n",
       " {'Golosinas': 97},\n",
       " {'Mermelada y miel': 90},\n",
       " {'Turrones': 833},\n",
       " {'Alimentación infantil': 216},\n",
       " {'Biberón, chupete y menaje': 219},\n",
       " {'Higiene y cuidado bebe': 218},\n",
       " {'Toallitas y pañales': 217},\n",
       " {'Cerveza': 164},\n",
       " {'Cerveza sin alcohol': 166},\n",
       " {'Licores': 181},\n",
       " {'Sidra y cava': 174},\n",
       " {'Tinto de verano y sangría': 168},\n",
       " {'Vino blanco': 170},\n",
       " {'Vino lambrusco y espumoso': 173},\n",
       " {'Vino rosado': 171},\n",
       " {'Vino tinto': 169},\n",
       " {'Cacao soluble y chocolate a la taza': 86},\n",
       " {'Café cápsula y monodosis': 81},\n",
       " {'Café molido y en grano': 83},\n",
       " {'Café soluble y otras bebidas': 84},\n",
       " {'Té e infusiones': 88},\n",
       " {'Arreglos carne': 46},\n",
       " {'Aves y pollo': 38},\n",
       " {'Carne congelada': 47},\n",
       " {'Cerdo': 37},\n",
       " {'Conejo y cordero': 42},\n",
       " {'Embutido': 43},\n",
       " {'Hamburguesas y picadas': 44},\n",
       " {'Vacuno': 40},\n",
       " {'Empanados y elaborados carne': 45},\n",
       " {'Cereales': 78},\n",
       " {'Galletas': 80},\n",
       " {'Tortitas': 79},\n",
       " {'Aves y jamón cocido': 48},\n",
       " {'Bacón y salchichas': 52},\n",
       " {'Chopped y mortadela': 49},\n",
       " {'Embutido curado': 51},\n",
       " {'Jamón serrano': 50},\n",
       " {'Paté y sobrasada': 58},\n",
       " {'Queso curado, semicurado y tierno': 54},\n",
       " {'Queso lonchas, rallado y en porciones': 56},\n",
       " {'Queso untable y fresco': 53},\n",
       " {'Arroz y pasta congelado': 147},\n",
       " {'Carne congelado': 148},\n",
       " {'Helados': 154},\n",
       " {'Hielo': 155},\n",
       " {'Marisco congelado': 150},\n",
       " {'Pescado congelado': 149},\n",
       " {'Pizzas congeladas': 151},\n",
       " {'Rebozados congelados': 884},\n",
       " {'Tartas y churros congelados': 152},\n",
       " {'Verdura congelados': 145},\n",
       " {'Atún y otras conservas de pescado': 122},\n",
       " {'Berberechos y mejillones': 123},\n",
       " {'Conservas de verdura y frutas': 127},\n",
       " {'Gazpacho y cremas': 130},\n",
       " {'Sopa y caldo': 129},\n",
       " {'Tomate conserva': 126},\n",
       " {'Acondicionador y mascarilla': 201},\n",
       " {'Champu': 199},\n",
       " {'Coloración cabello': 203},\n",
       " {'Fijación cabello': 202},\n",
       " {'Peines y accesorios': 205},\n",
       " {'Afeitado y cuidado para hombre': 192},\n",
       " {'Afeitado y cuidado para hombre': 189},\n",
       " {'Cuidado e higiene facial': 185},\n",
       " {'Depilación': 191},\n",
       " {'Desodorante': 188},\n",
       " {'Gel y jabón de manos': 187},\n",
       " {'Higiene bucal': 186},\n",
       " {'Higiene íntima': 190},\n",
       " {'Manicura y pedicura': 194},\n",
       " {'Manicura y pedicura': 782},\n",
       " {'Perfume y colonia': 196},\n",
       " {'Protector solar y aftersun': 198},\n",
       " {'Fitoterapia': 213},\n",
       " {'Parafarmacia': 214},\n",
       " {'Fruta': 27},\n",
       " {'Lechuga y ensalada preparada': 28},\n",
       " {'Verdura': 29},\n",
       " {'Huevos': 77},\n",
       " {'Leche y bebidas vegetales': 72},\n",
       " {'Mantequilla y margarina': 75},\n",
       " {'Detergente y suavizante ropa': 226},\n",
       " {'Estropajo, bayeta y guantes': 237},\n",
       " {'Insecticida y ambientador': 241},\n",
       " {'Lejía y líquidos fuertes': 234},\n",
       " {'Limpiacristales': 235},\n",
       " {'Limpiahogar y friegasuelos': 233},\n",
       " {'Limpieza baño y WC': 231},\n",
       " {'Limpieza cocina': 230},\n",
       " {'Limpieza muebles y multiusos': 232},\n",
       " {'Limpieza vajilla': 229},\n",
       " {'Menaje y conservación de alimentos': 243},\n",
       " {'Papel higiénico y celulosa': 238},\n",
       " {'Pilas y bolsas de basura': 239},\n",
       " {'Utensilios de limpieza y calzado': 244},\n",
       " {'Bases de maquillaje y corrector': 206},\n",
       " {'Colorete y polvos': 207},\n",
       " {'Labios': 208},\n",
       " {'Ojos': 210},\n",
       " {'Pinceles y brochas': 212},\n",
       " {'Marisco': 32},\n",
       " {'Pescado congelado': 34},\n",
       " {'Pescado en bandeja': 33},\n",
       " {'Pescado Fresco': 31},\n",
       " {'Pescado Salazones y ahumados': 36},\n",
       " {'sushi': 789},\n",
       " {'Gato': 222},\n",
       " {'Perro': 221},\n",
       " {'Pez y otros': 225},\n",
       " {'Bollería de horno': 65},\n",
       " {'Bollería envasada': 66},\n",
       " {'Harina y preparado repostería': 69},\n",
       " {'Pan de horno': 59},\n",
       " {'Pan de molde y otras especialidades': 60},\n",
       " {'Pan tostado y rallado': 62},\n",
       " {'Picos, rosquilletas y picatostes': 64},\n",
       " {'Bollería de horno': 65},\n",
       " {'Bollería envasada': 66},\n",
       " {'Harina y preparado repostería': 69},\n",
       " {'Pan de horno': 59},\n",
       " {'Pan de molde y otras especialidades': 60},\n",
       " {'Pan tostado y rallado': 62},\n",
       " {'Picos, rosquilletas y picatostes': 64},\n",
       " {'Tartas y pasteles': 68},\n",
       " {'Velas y decoración': 71},\n",
       " {'Pizzas': 138},\n",
       " {'Platos preparados calientes': 140},\n",
       " {'Platos preparados fríos': 142},\n",
       " {'Bifidus': 105},\n",
       " {'Flan y natillas': 110},\n",
       " {'Gelatina y otros postres': 111},\n",
       " {'Postres de soja': 106},\n",
       " {'Yogures desnatados': 103},\n",
       " {'Yogures griegos': 109},\n",
       " {'Yogures líquidos': 108},\n",
       " {'Yogures naturales y sabores': 104},\n",
       " {'Yogures y postres infantiles': 107},\n",
       " {'Zumo fruta variada': 99},\n",
       " {'Melocotón y piña': 100},\n",
       " {'Naranja': 143},\n",
       " {'Tomate y otros sabores': 98}]"
      ]
     },
     "execution_count": 20,
     "metadata": {},
     "output_type": "execute_result"
    }
   ],
   "source": [
    "lista_productos=[]\n",
    "for i in lista_all:\n",
    "    url = i\n",
    "    driver.get(url)\n",
    "    driver.implicitly_wait(2)\n",
    "    body = driver.execute_script(\"return document.body\")\n",
    "    source = body.get_attribute('innerHTML') \n",
    "    soup_sc = BeautifulSoup(source, \"html.parser\")\n",
    "    price=soup_sc.findAll(\"a\",{\"class\": \"productMainLink\"})\n",
    "    price_=[p.getText() for p in price]\n",
    "    for x in price_:\n",
    "        a=x.replace(',','.')\n",
    "        a=a.replace(\"\\n\\n\\n\\n\\t\\t\\t\\t\\t\\t\\t\",\",\")\n",
    "        a=a.replace(\"\\xa0€\\n\",\",\")\n",
    "        a=a.replace(\"\\xa0€\",\"\")\n",
    "        a=a.replace(\".\\n\\n\\n\\n\\n\",\"\")\n",
    "        a=a.replace(\"\\n\\n\\n\\n\\n\\n\\n\\n\\n\\n\\n\\n\\n\\n\\n\\n\\n\\t\\t\\t\\t\\t\",\"\")\n",
    "        a=a.replace(\"\\n\\n\\n\\n\\n\\n\\n\\n\\n\\n\\n\\t\\t\\t\\t\\t\",\"\")\n",
    "        lista=a.split(\",\")\n",
    "        lista.append(i)\n",
    "        lista_productos.append(lista)"
   ]
  }
 ],
 "metadata": {
  "kernelspec": {
   "display_name": "ironhack",
   "language": "python",
   "name": "ironhack"
  },
  "language_info": {
   "codemirror_mode": {
    "name": "ipython",
    "version": 3
   },
   "file_extension": ".py",
   "mimetype": "text/x-python",
   "name": "python",
   "nbconvert_exporter": "python",
   "pygments_lexer": "ipython3",
   "version": "3.8.5"
  }
 },
 "nbformat": 4,
 "nbformat_minor": 5
}
