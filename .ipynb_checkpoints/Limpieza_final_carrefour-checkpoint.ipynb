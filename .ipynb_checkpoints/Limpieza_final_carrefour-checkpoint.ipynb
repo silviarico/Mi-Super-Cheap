{
 "cells": [
  {
   "cell_type": "code",
   "execution_count": 2,
   "id": "12f85d18",
   "metadata": {},
   "outputs": [],
   "source": [
    "import pandas as pd\n",
    "import numpy as np\n",
    "import re\n",
    "import math"
   ]
  },
  {
   "cell_type": "code",
   "execution_count": 50,
   "id": "ca656513",
   "metadata": {},
   "outputs": [],
   "source": [
    "carr=pd.read_csv(\"limpieza_stream/carr_conDEF.csv\",encoding = \"ISO-8859-1\")\n",
    "carr2=pd.read_csv(\"limpieza_stream/carr_sinDEF.csv\",encoding = \"ISO-8859-1\")"
   ]
  },
  {
   "cell_type": "code",
   "execution_count": 51,
   "id": "e85eb90d",
   "metadata": {},
   "outputs": [
    {
     "data": {
      "text/html": [
       "<div>\n",
       "<style scoped>\n",
       "    .dataframe tbody tr th:only-of-type {\n",
       "        vertical-align: middle;\n",
       "    }\n",
       "\n",
       "    .dataframe tbody tr th {\n",
       "        vertical-align: top;\n",
       "    }\n",
       "\n",
       "    .dataframe thead th {\n",
       "        text-align: right;\n",
       "    }\n",
       "</style>\n",
       "<table border=\"1\" class=\"dataframe\">\n",
       "  <thead>\n",
       "    <tr style=\"text-align: right;\">\n",
       "      <th></th>\n",
       "      <th>Unnamed: 0</th>\n",
       "      <th>precio_anterior</th>\n",
       "      <th>precio</th>\n",
       "      <th>precio_rel</th>\n",
       "      <th>producto</th>\n",
       "      <th>link</th>\n",
       "      <th>precio_rel_anterior</th>\n",
       "      <th>precio_rel_1</th>\n",
       "      <th>precio_medida</th>\n",
       "      <th>medida</th>\n",
       "      <th>Q_medida</th>\n",
       "    </tr>\n",
       "  </thead>\n",
       "  <tbody>\n",
       "    <tr>\n",
       "      <th>0</th>\n",
       "      <td>0</td>\n",
       "      <td>0.82</td>\n",
       "      <td>0.79</td>\n",
       "      <td>0.82 /l | 0.79 /l</td>\n",
       "      <td>Leche semidesnatada Central Lechera Asturiana ...</td>\n",
       "      <td>https://www.carrefour.es/supermercado/la-despe...</td>\n",
       "      <td>0.82 /l</td>\n",
       "      <td>0.79 /l</td>\n",
       "      <td>0.79</td>\n",
       "      <td>l</td>\n",
       "      <td>1.000</td>\n",
       "    </tr>\n",
       "    <tr>\n",
       "      <th>1</th>\n",
       "      <td>1</td>\n",
       "      <td>0.82</td>\n",
       "      <td>0.79</td>\n",
       "      <td>0.82 /l | 0.79 /l</td>\n",
       "      <td>Leche entera Central Lechera Asturiana brik 1 l.</td>\n",
       "      <td>https://www.carrefour.es/supermercado/la-despe...</td>\n",
       "      <td>0.82 /l</td>\n",
       "      <td>0.79 /l</td>\n",
       "      <td>0.79</td>\n",
       "      <td>l</td>\n",
       "      <td>1.000</td>\n",
       "    </tr>\n",
       "    <tr>\n",
       "      <th>2</th>\n",
       "      <td>2</td>\n",
       "      <td>2.05</td>\n",
       "      <td>1.93</td>\n",
       "      <td>2.23 /kg | 2.10 /kg</td>\n",
       "      <td>Tomate frito Solis sin gluten y sin lactosa pa...</td>\n",
       "      <td>https://www.carrefour.es/supermercado/la-despe...</td>\n",
       "      <td>2.23 /kg</td>\n",
       "      <td>2.10 /kg</td>\n",
       "      <td>2.10</td>\n",
       "      <td>kg</td>\n",
       "      <td>0.919</td>\n",
       "    </tr>\n",
       "    <tr>\n",
       "      <th>3</th>\n",
       "      <td>3</td>\n",
       "      <td>0.82</td>\n",
       "      <td>0.79</td>\n",
       "      <td>0.82 /l | 0.79 /l</td>\n",
       "      <td>Leche desnatada Central Lechera Asturiana brik...</td>\n",
       "      <td>https://www.carrefour.es/supermercado/la-despe...</td>\n",
       "      <td>0.82 /l</td>\n",
       "      <td>0.79 /l</td>\n",
       "      <td>0.79</td>\n",
       "      <td>l</td>\n",
       "      <td>1.000</td>\n",
       "    </tr>\n",
       "    <tr>\n",
       "      <th>4</th>\n",
       "      <td>4</td>\n",
       "      <td>2.35</td>\n",
       "      <td>2.12</td>\n",
       "      <td>5.34 /kg | 4.82 /kg</td>\n",
       "      <td>Yogur griego con stracciatella Danone Oikos si...</td>\n",
       "      <td>https://www.carrefour.es/supermercado/la-despe...</td>\n",
       "      <td>5.34 /kg</td>\n",
       "      <td>4.82 /kg</td>\n",
       "      <td>4.82</td>\n",
       "      <td>kg</td>\n",
       "      <td>0.440</td>\n",
       "    </tr>\n",
       "  </tbody>\n",
       "</table>\n",
       "</div>"
      ],
      "text/plain": [
       "   Unnamed: 0  precio_anterior  precio           precio_rel  \\\n",
       "0           0             0.82    0.79    0.82 /l | 0.79 /l   \n",
       "1           1             0.82    0.79    0.82 /l | 0.79 /l   \n",
       "2           2             2.05    1.93  2.23 /kg | 2.10 /kg   \n",
       "3           3             0.82    0.79    0.82 /l | 0.79 /l   \n",
       "4           4             2.35    2.12  5.34 /kg | 4.82 /kg   \n",
       "\n",
       "                                            producto  \\\n",
       "0  Leche semidesnatada Central Lechera Asturiana ...   \n",
       "1   Leche entera Central Lechera Asturiana brik 1 l.   \n",
       "2  Tomate frito Solis sin gluten y sin lactosa pa...   \n",
       "3  Leche desnatada Central Lechera Asturiana brik...   \n",
       "4  Yogur griego con stracciatella Danone Oikos si...   \n",
       "\n",
       "                                                link precio_rel_anterior  \\\n",
       "0  https://www.carrefour.es/supermercado/la-despe...            0.82 /l    \n",
       "1  https://www.carrefour.es/supermercado/la-despe...            0.82 /l    \n",
       "2  https://www.carrefour.es/supermercado/la-despe...           2.23 /kg    \n",
       "3  https://www.carrefour.es/supermercado/la-despe...            0.82 /l    \n",
       "4  https://www.carrefour.es/supermercado/la-despe...           5.34 /kg    \n",
       "\n",
       "  precio_rel_1  precio_medida medida  Q_medida  \n",
       "0      0.79 /l           0.79      l     1.000  \n",
       "1      0.79 /l           0.79      l     1.000  \n",
       "2     2.10 /kg           2.10     kg     0.919  \n",
       "3      0.79 /l           0.79      l     1.000  \n",
       "4     4.82 /kg           4.82     kg     0.440  "
      ]
     },
     "execution_count": 51,
     "metadata": {},
     "output_type": "execute_result"
    }
   ],
   "source": [
    "carr.head()"
   ]
  },
  {
   "cell_type": "code",
   "execution_count": 65,
   "id": "1c082941",
   "metadata": {},
   "outputs": [],
   "source": [
    "carr_=pd.DataFrame()\n",
    "carr_[[\"producto\", \"precio\",\"cantidad\",\"medida\"]]= carr[[\"producto\", \"precio\",\"Q_medida\",\"medida\"]]"
   ]
  },
  {
   "cell_type": "code",
   "execution_count": 66,
   "id": "8120798b",
   "metadata": {},
   "outputs": [
    {
     "data": {
      "text/plain": [
       "array(['l', 'kg', 'docena', nan, 'ud', '100ml', 'lavado', 'm'],\n",
       "      dtype=object)"
      ]
     },
     "execution_count": 66,
     "metadata": {},
     "output_type": "execute_result"
    }
   ],
   "source": [
    "carr.medida.unique()"
   ]
  },
  {
   "cell_type": "code",
   "execution_count": 67,
   "id": "80c64443",
   "metadata": {},
   "outputs": [],
   "source": [
    "carr_.dropna(how=\"any\", inplace=True)"
   ]
  },
  {
   "cell_type": "code",
   "execution_count": 73,
   "id": "584b58ba",
   "metadata": {},
   "outputs": [
    {
     "data": {
      "text/html": [
       "<div>\n",
       "<style scoped>\n",
       "    .dataframe tbody tr th:only-of-type {\n",
       "        vertical-align: middle;\n",
       "    }\n",
       "\n",
       "    .dataframe tbody tr th {\n",
       "        vertical-align: top;\n",
       "    }\n",
       "\n",
       "    .dataframe thead th {\n",
       "        text-align: right;\n",
       "    }\n",
       "</style>\n",
       "<table border=\"1\" class=\"dataframe\">\n",
       "  <thead>\n",
       "    <tr style=\"text-align: right;\">\n",
       "      <th></th>\n",
       "      <th>producto</th>\n",
       "      <th>precio</th>\n",
       "      <th>cantidad</th>\n",
       "      <th>medida</th>\n",
       "      <th>cantidad_</th>\n",
       "    </tr>\n",
       "  </thead>\n",
       "  <tbody>\n",
       "    <tr>\n",
       "      <th>422</th>\n",
       "      <td>Dentifrico original 24h de proteccion completa...</td>\n",
       "      <td>2.47</td>\n",
       "      <td>0.075</td>\n",
       "      <td>100ml</td>\n",
       "      <td>0.751</td>\n",
       "    </tr>\n",
       "    <tr>\n",
       "      <th>425</th>\n",
       "      <td>Gel de ducha leche y miel limpia y suaviza par...</td>\n",
       "      <td>1.89</td>\n",
       "      <td>1.454</td>\n",
       "      <td>100ml</td>\n",
       "      <td>14.538</td>\n",
       "    </tr>\n",
       "    <tr>\n",
       "      <th>426</th>\n",
       "      <td>Champu hidratacion intensa para cabello seco a...</td>\n",
       "      <td>4.75</td>\n",
       "      <td>0.848</td>\n",
       "      <td>100ml</td>\n",
       "      <td>8.482</td>\n",
       "    </tr>\n",
       "    <tr>\n",
       "      <th>427</th>\n",
       "      <td>Gel de ducha Moussel 600 ml.</td>\n",
       "      <td>2.85</td>\n",
       "      <td>0.594</td>\n",
       "      <td>100ml</td>\n",
       "      <td>5.938</td>\n",
       "    </tr>\n",
       "    <tr>\n",
       "      <th>428</th>\n",
       "      <td>Dentifrico proteccion profesional Pro-Expert O...</td>\n",
       "      <td>3.25</td>\n",
       "      <td>0.075</td>\n",
       "      <td>100ml</td>\n",
       "      <td>0.751</td>\n",
       "    </tr>\n",
       "    <tr>\n",
       "      <th>...</th>\n",
       "      <td>...</td>\n",
       "      <td>...</td>\n",
       "      <td>...</td>\n",
       "      <td>...</td>\n",
       "      <td>...</td>\n",
       "    </tr>\n",
       "    <tr>\n",
       "      <th>1016</th>\n",
       "      <td>Dentifrico blanqueador para dientes mas blanco...</td>\n",
       "      <td>2.29</td>\n",
       "      <td>0.075</td>\n",
       "      <td>100ml</td>\n",
       "      <td>0.751</td>\n",
       "    </tr>\n",
       "    <tr>\n",
       "      <th>1017</th>\n",
       "      <td>Gel de ducha Moussel 600 ml.</td>\n",
       "      <td>2.85</td>\n",
       "      <td>0.594</td>\n",
       "      <td>100ml</td>\n",
       "      <td>5.938</td>\n",
       "    </tr>\n",
       "    <tr>\n",
       "      <th>1018</th>\n",
       "      <td>Dentifrico proteccion profesional Pro-Expert O...</td>\n",
       "      <td>3.25</td>\n",
       "      <td>0.075</td>\n",
       "      <td>100ml</td>\n",
       "      <td>0.751</td>\n",
       "    </tr>\n",
       "    <tr>\n",
       "      <th>1019</th>\n",
       "      <td>Dentifrico blanqueador para dientes mas blanco...</td>\n",
       "      <td>2.29</td>\n",
       "      <td>0.075</td>\n",
       "      <td>100ml</td>\n",
       "      <td>0.751</td>\n",
       "    </tr>\n",
       "    <tr>\n",
       "      <th>1020</th>\n",
       "      <td>Dentifrico original 24h de proteccion completa...</td>\n",
       "      <td>2.47</td>\n",
       "      <td>0.075</td>\n",
       "      <td>100ml</td>\n",
       "      <td>0.751</td>\n",
       "    </tr>\n",
       "  </tbody>\n",
       "</table>\n",
       "<p>232 rows × 5 columns</p>\n",
       "</div>"
      ],
      "text/plain": [
       "                                               producto  precio  cantidad  \\\n",
       "422   Dentifrico original 24h de proteccion completa...    2.47     0.075   \n",
       "425   Gel de ducha leche y miel limpia y suaviza par...    1.89     1.454   \n",
       "426   Champu hidratacion intensa para cabello seco a...    4.75     0.848   \n",
       "427                        Gel de ducha Moussel 600 ml.    2.85     0.594   \n",
       "428   Dentifrico proteccion profesional Pro-Expert O...    3.25     0.075   \n",
       "...                                                 ...     ...       ...   \n",
       "1016  Dentifrico blanqueador para dientes mas blanco...    2.29     0.075   \n",
       "1017                       Gel de ducha Moussel 600 ml.    2.85     0.594   \n",
       "1018  Dentifrico proteccion profesional Pro-Expert O...    3.25     0.075   \n",
       "1019  Dentifrico blanqueador para dientes mas blanco...    2.29     0.075   \n",
       "1020  Dentifrico original 24h de proteccion completa...    2.47     0.075   \n",
       "\n",
       "     medida  cantidad_  \n",
       "422   100ml      0.751  \n",
       "425   100ml     14.538  \n",
       "426   100ml      8.482  \n",
       "427   100ml      5.938  \n",
       "428   100ml      0.751  \n",
       "...     ...        ...  \n",
       "1016  100ml      0.751  \n",
       "1017  100ml      5.938  \n",
       "1018  100ml      0.751  \n",
       "1019  100ml      0.751  \n",
       "1020  100ml      0.751  \n",
       "\n",
       "[232 rows x 5 columns]"
      ]
     },
     "execution_count": 73,
     "metadata": {},
     "output_type": "execute_result"
    }
   ],
   "source": [
    "filtrado_ud = carr_.loc[(carr_[\"medida\"]== '100ml')]\n",
    "filtrado_ud"
   ]
  },
  {
   "cell_type": "code",
   "execution_count": 69,
   "id": "8c0e3039",
   "metadata": {},
   "outputs": [
    {
     "data": {
      "text/plain": [
       "producto    0\n",
       "precio      0\n",
       "cantidad    0\n",
       "medida      0\n",
       "dtype: int64"
      ]
     },
     "execution_count": 69,
     "metadata": {},
     "output_type": "execute_result"
    }
   ],
   "source": [
    "carr_.isna().sum()"
   ]
  },
  {
   "cell_type": "code",
   "execution_count": 70,
   "id": "68a8621b",
   "metadata": {},
   "outputs": [],
   "source": [
    "carr_[\"cantidad_\"]=carr_[\"cantidad\"]"
   ]
  },
  {
   "cell_type": "code",
   "execution_count": 71,
   "id": "fdc3a89e",
   "metadata": {},
   "outputs": [],
   "source": [
    "def lavados(a,b):\n",
    "    if 'lavado'in a:\n",
    "        return 1\n",
    "    if '100ml' in a:\n",
    "        return round(b/10,3)\n",
    "    else:\n",
    "        return b"
   ]
  },
  {
   "cell_type": "code",
   "execution_count": 72,
   "id": "e28a7b7a",
   "metadata": {},
   "outputs": [],
   "source": [
    "carr_[\"cantidad\"]=carr_.apply(lambda x:lavados(x.medida,x.cantidad_),axis=1)"
   ]
  },
  {
   "cell_type": "code",
   "execution_count": 81,
   "id": "510b0f2d",
   "metadata": {},
   "outputs": [
    {
     "data": {
      "text/plain": [
       "array(['L', 'kg', 'ud', 'm'], dtype=object)"
      ]
     },
     "execution_count": 81,
     "metadata": {},
     "output_type": "execute_result"
    }
   ],
   "source": [
    "carr_.medida.unique()"
   ]
  },
  {
   "cell_type": "code",
   "execution_count": null,
   "id": "4da50953",
   "metadata": {},
   "outputs": [],
   "source": [
    "['kg', 'L', 'ud', 'm']"
   ]
  },
  {
   "cell_type": "code",
   "execution_count": 80,
   "id": "f5eb5c35",
   "metadata": {},
   "outputs": [],
   "source": [
    "carr_.medida= carr_.medida.replace(to_replace ='l', value = 'L', regex = True) \n",
    "carr_.medida= carr_.medida.replace(to_replace ='100mL', value = 'L', regex = True)\n",
    "carr_.medida= carr_.medida.replace(to_replace ='docena', value = 'ud', regex = True) \n",
    "carr_.medida= carr_.medida.replace(to_replace ='Lavado', value = 'ud', regex = True) "
   ]
  },
  {
   "cell_type": "code",
   "execution_count": 83,
   "id": "f0455a55",
   "metadata": {},
   "outputs": [
    {
     "data": {
      "text/html": [
       "<div>\n",
       "<style scoped>\n",
       "    .dataframe tbody tr th:only-of-type {\n",
       "        vertical-align: middle;\n",
       "    }\n",
       "\n",
       "    .dataframe tbody tr th {\n",
       "        vertical-align: top;\n",
       "    }\n",
       "\n",
       "    .dataframe thead th {\n",
       "        text-align: right;\n",
       "    }\n",
       "</style>\n",
       "<table border=\"1\" class=\"dataframe\">\n",
       "  <thead>\n",
       "    <tr style=\"text-align: right;\">\n",
       "      <th></th>\n",
       "      <th>producto</th>\n",
       "      <th>precio</th>\n",
       "      <th>cantidad</th>\n",
       "      <th>medida</th>\n",
       "    </tr>\n",
       "  </thead>\n",
       "  <tbody>\n",
       "    <tr>\n",
       "      <th>0</th>\n",
       "      <td>Leche semidesnatada Central Lechera Asturiana ...</td>\n",
       "      <td>0.79</td>\n",
       "      <td>1.000</td>\n",
       "      <td>L</td>\n",
       "    </tr>\n",
       "    <tr>\n",
       "      <th>1</th>\n",
       "      <td>Leche entera Central Lechera Asturiana brik 1 l.</td>\n",
       "      <td>0.79</td>\n",
       "      <td>1.000</td>\n",
       "      <td>L</td>\n",
       "    </tr>\n",
       "    <tr>\n",
       "      <th>2</th>\n",
       "      <td>Tomate frito Solis sin gluten y sin lactosa pa...</td>\n",
       "      <td>1.93</td>\n",
       "      <td>0.919</td>\n",
       "      <td>kg</td>\n",
       "    </tr>\n",
       "    <tr>\n",
       "      <th>3</th>\n",
       "      <td>Leche desnatada Central Lechera Asturiana brik...</td>\n",
       "      <td>0.79</td>\n",
       "      <td>1.000</td>\n",
       "      <td>L</td>\n",
       "    </tr>\n",
       "    <tr>\n",
       "      <th>4</th>\n",
       "      <td>Yogur griego con stracciatella Danone Oikos si...</td>\n",
       "      <td>2.12</td>\n",
       "      <td>0.440</td>\n",
       "      <td>kg</td>\n",
       "    </tr>\n",
       "    <tr>\n",
       "      <th>...</th>\n",
       "      <td>...</td>\n",
       "      <td>...</td>\n",
       "      <td>...</td>\n",
       "      <td>...</td>\n",
       "    </tr>\n",
       "    <tr>\n",
       "      <th>1031</th>\n",
       "      <td>Tarrito de platano. naranja. manzana y galleta...</td>\n",
       "      <td>5.50</td>\n",
       "      <td>1.141</td>\n",
       "      <td>kg</td>\n",
       "    </tr>\n",
       "    <tr>\n",
       "      <th>1032</th>\n",
       "      <td>Comida humeda surtido de carnes para gato adul...</td>\n",
       "      <td>6.80</td>\n",
       "      <td>1.019</td>\n",
       "      <td>kg</td>\n",
       "    </tr>\n",
       "    <tr>\n",
       "      <th>1033</th>\n",
       "      <td>Pienso para gato esterilizado Brekkies3 kg.</td>\n",
       "      <td>7.95</td>\n",
       "      <td>3.000</td>\n",
       "      <td>kg</td>\n",
       "    </tr>\n",
       "    <tr>\n",
       "      <th>1034</th>\n",
       "      <td>Comida humeda surtido de carnes para gato adul...</td>\n",
       "      <td>6.80</td>\n",
       "      <td>1.019</td>\n",
       "      <td>kg</td>\n",
       "    </tr>\n",
       "    <tr>\n",
       "      <th>1035</th>\n",
       "      <td>Pienso para gato esterilizado Brekkies3 kg.</td>\n",
       "      <td>7.95</td>\n",
       "      <td>3.000</td>\n",
       "      <td>kg</td>\n",
       "    </tr>\n",
       "  </tbody>\n",
       "</table>\n",
       "<p>1030 rows × 4 columns</p>\n",
       "</div>"
      ],
      "text/plain": [
       "                                               producto  precio  cantidad  \\\n",
       "0     Leche semidesnatada Central Lechera Asturiana ...    0.79     1.000   \n",
       "1      Leche entera Central Lechera Asturiana brik 1 l.    0.79     1.000   \n",
       "2     Tomate frito Solis sin gluten y sin lactosa pa...    1.93     0.919   \n",
       "3     Leche desnatada Central Lechera Asturiana brik...    0.79     1.000   \n",
       "4     Yogur griego con stracciatella Danone Oikos si...    2.12     0.440   \n",
       "...                                                 ...     ...       ...   \n",
       "1031  Tarrito de platano. naranja. manzana y galleta...    5.50     1.141   \n",
       "1032  Comida humeda surtido de carnes para gato adul...    6.80     1.019   \n",
       "1033        Pienso para gato esterilizado Brekkies3 kg.    7.95     3.000   \n",
       "1034  Comida humeda surtido de carnes para gato adul...    6.80     1.019   \n",
       "1035        Pienso para gato esterilizado Brekkies3 kg.    7.95     3.000   \n",
       "\n",
       "     medida  \n",
       "0         L  \n",
       "1         L  \n",
       "2        kg  \n",
       "3         L  \n",
       "4        kg  \n",
       "...     ...  \n",
       "1031     kg  \n",
       "1032     kg  \n",
       "1033     kg  \n",
       "1034     kg  \n",
       "1035     kg  \n",
       "\n",
       "[1030 rows x 4 columns]"
      ]
     },
     "execution_count": 83,
     "metadata": {},
     "output_type": "execute_result"
    }
   ],
   "source": [
    "carr_.drop([\"cantidad_\"],axis=1)"
   ]
  },
  {
   "cell_type": "code",
   "execution_count": 84,
   "id": "1465e763",
   "metadata": {},
   "outputs": [],
   "source": [
    "carr_.to_csv(\"limpieza_stream/Carr_final_sc.csv\")"
   ]
  },
  {
   "cell_type": "code",
   "execution_count": null,
   "id": "dfc85fdb",
   "metadata": {},
   "outputs": [],
   "source": []
  },
  {
   "cell_type": "code",
   "execution_count": null,
   "id": "c2511ff7",
   "metadata": {},
   "outputs": [],
   "source": []
  },
  {
   "cell_type": "code",
   "execution_count": 103,
   "id": "058c68ff",
   "metadata": {},
   "outputs": [],
   "source": [
    "carr_2=pd.DataFrame()\n",
    "carr_2[[\"producto\", \"precio\",\"cantidad\",\"medida\"]]= carr2[[\"producto\", \"precio\",\"Q_medida\",\"medida\"]]"
   ]
  },
  {
   "cell_type": "code",
   "execution_count": 105,
   "id": "47af3a75",
   "metadata": {},
   "outputs": [
    {
     "data": {
      "text/plain": [
       "array(['l', 'kg', 'docena', 'ud', '100g', '100ml', 'm', 'lavado'],\n",
       "      dtype=object)"
      ]
     },
     "execution_count": 105,
     "metadata": {},
     "output_type": "execute_result"
    }
   ],
   "source": [
    "carr_2[\"cantidad_\"]=carr_2[\"cantidad\"]\n",
    "carr_2.medida.unique()"
   ]
  },
  {
   "cell_type": "code",
   "execution_count": 106,
   "id": "1f6e8d57",
   "metadata": {},
   "outputs": [],
   "source": [
    "def lavados(a,b):\n",
    "    if 'lavado'in a:\n",
    "        return 1\n",
    "    if '100ml' in a:\n",
    "        return round(b/10,3)\n",
    "    if '100g' in a:\n",
    "        return round(b/10,3)\n",
    "    else:\n",
    "        return b"
   ]
  },
  {
   "cell_type": "code",
   "execution_count": 107,
   "id": "e89e237a",
   "metadata": {},
   "outputs": [],
   "source": [
    "carr_2[\"cantidad\"]=carr_2.apply(lambda x:lavados(x.medida,x.cantidad_),axis=1)"
   ]
  },
  {
   "cell_type": "code",
   "execution_count": 114,
   "id": "2589a155",
   "metadata": {},
   "outputs": [],
   "source": [
    "def unif(a):\n",
    "    if a == \"l\":\n",
    "        return \"L\"\n",
    "    elif a== \"100ml\":\n",
    "        return \"L\"\n",
    "    elif a== \"docena\":\n",
    "        return \"ud\"\n",
    "    elif a == \"lavado\":\n",
    "        return \"ud\"\n",
    "    elif a == \"100g\":\n",
    "        return \"kg\"\n",
    "    else:\n",
    "        return a"
   ]
  },
  {
   "cell_type": "code",
   "execution_count": 115,
   "id": "391a98c3",
   "metadata": {},
   "outputs": [],
   "source": [
    "carr_2[\"medida\"]=carr_2[\"medida\"].apply(unif)"
   ]
  },
  {
   "cell_type": "code",
   "execution_count": 116,
   "id": "c5434eb7",
   "metadata": {},
   "outputs": [
    {
     "data": {
      "text/plain": [
       "array(['L', 'kg', 'ud', 'm'], dtype=object)"
      ]
     },
     "execution_count": 116,
     "metadata": {},
     "output_type": "execute_result"
    }
   ],
   "source": [
    "carr_2.medida.unique()"
   ]
  },
  {
   "cell_type": "code",
   "execution_count": 118,
   "id": "d7082659",
   "metadata": {},
   "outputs": [
    {
     "data": {
      "text/html": [
       "<div>\n",
       "<style scoped>\n",
       "    .dataframe tbody tr th:only-of-type {\n",
       "        vertical-align: middle;\n",
       "    }\n",
       "\n",
       "    .dataframe tbody tr th {\n",
       "        vertical-align: top;\n",
       "    }\n",
       "\n",
       "    .dataframe thead th {\n",
       "        text-align: right;\n",
       "    }\n",
       "</style>\n",
       "<table border=\"1\" class=\"dataframe\">\n",
       "  <thead>\n",
       "    <tr style=\"text-align: right;\">\n",
       "      <th></th>\n",
       "      <th>producto</th>\n",
       "      <th>precio</th>\n",
       "      <th>cantidad</th>\n",
       "      <th>medida</th>\n",
       "    </tr>\n",
       "  </thead>\n",
       "  <tbody>\n",
       "    <tr>\n",
       "      <th>0</th>\n",
       "      <td>Caldo casero de pollo Gallina Blanca sin glute...</td>\n",
       "      <td>3.35</td>\n",
       "      <td>2.006</td>\n",
       "      <td>L</td>\n",
       "    </tr>\n",
       "    <tr>\n",
       "      <th>1</th>\n",
       "      <td>Aceite de oliva virgen extra Carrefour 1 l.</td>\n",
       "      <td>3.95</td>\n",
       "      <td>1.000</td>\n",
       "      <td>L</td>\n",
       "    </tr>\n",
       "    <tr>\n",
       "      <th>2</th>\n",
       "      <td>Sal marina fina Carrefour 1 kg.</td>\n",
       "      <td>0.22</td>\n",
       "      <td>1.000</td>\n",
       "      <td>kg</td>\n",
       "    </tr>\n",
       "    <tr>\n",
       "      <th>3</th>\n",
       "      <td>Yogur de fresa. de macedonia. de limon y de fr...</td>\n",
       "      <td>1.80</td>\n",
       "      <td>2.000</td>\n",
       "      <td>kg</td>\n",
       "    </tr>\n",
       "    <tr>\n",
       "      <th>4</th>\n",
       "      <td>Aceite de oliva suave 0.4Âº Carrefour 1 l.</td>\n",
       "      <td>3.20</td>\n",
       "      <td>1.000</td>\n",
       "      <td>L</td>\n",
       "    </tr>\n",
       "    <tr>\n",
       "      <th>...</th>\n",
       "      <td>...</td>\n",
       "      <td>...</td>\n",
       "      <td>...</td>\n",
       "      <td>...</td>\n",
       "    </tr>\n",
       "    <tr>\n",
       "      <th>6533</th>\n",
       "      <td>Dentifrico menta fresca Repair &amp; Protect Senso...</td>\n",
       "      <td>8.29</td>\n",
       "      <td>0.150</td>\n",
       "      <td>L</td>\n",
       "    </tr>\n",
       "    <tr>\n",
       "      <th>6534</th>\n",
       "      <td>Tarrito de menestra de cordero desde 6 meses N...</td>\n",
       "      <td>0.99</td>\n",
       "      <td>0.235</td>\n",
       "      <td>kg</td>\n",
       "    </tr>\n",
       "    <tr>\n",
       "      <th>6535</th>\n",
       "      <td>Dentifrico para el cuidado de las encias herba...</td>\n",
       "      <td>9.39</td>\n",
       "      <td>0.150</td>\n",
       "      <td>L</td>\n",
       "    </tr>\n",
       "    <tr>\n",
       "      <th>6536</th>\n",
       "      <td>Colutorio diario para el cuidado de encias Par...</td>\n",
       "      <td>7.65</td>\n",
       "      <td>0.500</td>\n",
       "      <td>L</td>\n",
       "    </tr>\n",
       "    <tr>\n",
       "      <th>6537</th>\n",
       "      <td>Tarrito de pollo con guisantes y zanahorias de...</td>\n",
       "      <td>0.99</td>\n",
       "      <td>0.235</td>\n",
       "      <td>kg</td>\n",
       "    </tr>\n",
       "  </tbody>\n",
       "</table>\n",
       "<p>6538 rows × 4 columns</p>\n",
       "</div>"
      ],
      "text/plain": [
       "                                               producto  precio  cantidad  \\\n",
       "0     Caldo casero de pollo Gallina Blanca sin glute...    3.35     2.006   \n",
       "1           Aceite de oliva virgen extra Carrefour 1 l.    3.95     1.000   \n",
       "2                       Sal marina fina Carrefour 1 kg.    0.22     1.000   \n",
       "3     Yogur de fresa. de macedonia. de limon y de fr...    1.80     2.000   \n",
       "4            Aceite de oliva suave 0.4Âº Carrefour 1 l.    3.20     1.000   \n",
       "...                                                 ...     ...       ...   \n",
       "6533  Dentifrico menta fresca Repair & Protect Senso...    8.29     0.150   \n",
       "6534  Tarrito de menestra de cordero desde 6 meses N...    0.99     0.235   \n",
       "6535  Dentifrico para el cuidado de las encias herba...    9.39     0.150   \n",
       "6536  Colutorio diario para el cuidado de encias Par...    7.65     0.500   \n",
       "6537  Tarrito de pollo con guisantes y zanahorias de...    0.99     0.235   \n",
       "\n",
       "     medida  \n",
       "0         L  \n",
       "1         L  \n",
       "2        kg  \n",
       "3        kg  \n",
       "4         L  \n",
       "...     ...  \n",
       "6533      L  \n",
       "6534     kg  \n",
       "6535      L  \n",
       "6536      L  \n",
       "6537     kg  \n",
       "\n",
       "[6538 rows x 4 columns]"
      ]
     },
     "execution_count": 118,
     "metadata": {},
     "output_type": "execute_result"
    }
   ],
   "source": [
    "carr_2.drop([\"cantidad_\"],axis=1)"
   ]
  },
  {
   "cell_type": "code",
   "execution_count": 119,
   "id": "afa4a0eb",
   "metadata": {},
   "outputs": [],
   "source": [
    "carr_2.to_csv(\"limpieza_stream/Carr2_final_sc.csv\")"
   ]
  }
 ],
 "metadata": {
  "kernelspec": {
   "display_name": "ironhack",
   "language": "python",
   "name": "ironhack"
  },
  "language_info": {
   "codemirror_mode": {
    "name": "ipython",
    "version": 3
   },
   "file_extension": ".py",
   "mimetype": "text/x-python",
   "name": "python",
   "nbconvert_exporter": "python",
   "pygments_lexer": "ipython3",
   "version": "3.8.5"
  }
 },
 "nbformat": 4,
 "nbformat_minor": 5
}
