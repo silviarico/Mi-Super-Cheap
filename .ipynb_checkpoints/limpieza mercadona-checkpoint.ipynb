{
 "cells": [
  {
   "cell_type": "code",
   "execution_count": 2,
   "id": "2172d248",
   "metadata": {},
   "outputs": [],
   "source": [
    "import pandas as pd\n",
    "import numpy as np\n",
    "import re\n",
    "import math"
   ]
  },
  {
   "cell_type": "code",
   "execution_count": 342,
   "id": "8509b97e",
   "metadata": {},
   "outputs": [],
   "source": [
    "mer=pd.read_csv(\"limpieza_stream/mercadona_DEF.csv\",encoding = \"ISO-8859-1\")\n",
    "dia=pd.read_csv(\"limpieza_stream/dia_sinDEF.csv\",encoding = \"ISO-8859-1\")\n",
    "carr=pd.read_csv(\"limpieza_stream/carr_conDEF.csv\",encoding = \"ISO-8859-1\")"
   ]
  },
  {
   "cell_type": "code",
   "execution_count": null,
   "id": "cf898374",
   "metadata": {},
   "outputs": [],
   "source": []
  },
  {
   "cell_type": "code",
   "execution_count": null,
   "id": "c7888294",
   "metadata": {},
   "outputs": [],
   "source": []
  },
  {
   "cell_type": "code",
   "execution_count": 343,
   "id": "9f217fcf",
   "metadata": {},
   "outputs": [],
   "source": [
    "mer[\"Q\"]= mer[\"Q\"].replace(to_replace ='[(]', value = 'x ', regex = True)"
   ]
  },
  {
   "cell_type": "code",
   "execution_count": 344,
   "id": "2973b19b",
   "metadata": {},
   "outputs": [],
   "source": [
    "mer[\"Q\"]= mer[\"Q\"].replace(to_replace ='1/2 Pieza', value = 'x ', regex = True)"
   ]
  },
  {
   "cell_type": "code",
   "execution_count": 352,
   "id": "401a3225",
   "metadata": {},
   "outputs": [],
   "source": [
    " mer[\"Q2\"]=mer[\"Q\"].str.extract(r\"(x +\\d+[\\w.\\-]* [\\w.\\-]*)\",)"
   ]
  },
  {
   "cell_type": "code",
   "execution_count": null,
   "id": "6d9b17ee",
   "metadata": {},
   "outputs": [],
   "source": [
    "#mer[\"Q2\"]=mer[\"Q\"].str.extract(r\"(x \\d+ [\\w.\\-])\",)"
   ]
  },
  {
   "cell_type": "code",
   "execution_count": 353,
   "id": "dcac4a9c",
   "metadata": {},
   "outputs": [],
   "source": [
    "mer[\"Q2\"]= mer[\"Q2\"].replace(to_replace ='[x]', value = '', regex = True)"
   ]
  },
  {
   "cell_type": "code",
   "execution_count": 358,
   "id": "9625534f",
   "metadata": {},
   "outputs": [],
   "source": [
    "mer[\"Q2\"]= mer[\"Q2\"].str.strip()\n"
   ]
  },
  {
   "cell_type": "code",
   "execution_count": 359,
   "id": "1a410014",
   "metadata": {},
   "outputs": [],
   "source": [
    "mer[[\"cantidad_sinx\",\"unidad\"]]=mer[\"Q2\"].str.split(r\" \",expand=True)"
   ]
  },
  {
   "cell_type": "code",
   "execution_count": 361,
   "id": "14df2147",
   "metadata": {},
   "outputs": [],
   "source": [
    "mer[\"cantidad_sinx\"]=pd.to_numeric(mer[\"cantidad_sinx\"])\n",
    "mer[\"q_medida\"]=pd.to_numeric(mer[\"q_medida\"])"
   ]
  },
  {
   "cell_type": "code",
   "execution_count": 362,
   "id": "7c33a079",
   "metadata": {},
   "outputs": [],
   "source": [
    "mer[\"cantidad_sinx\"]=mer[\"cantidad_sinx\"].fillna(1)"
   ]
  },
  {
   "cell_type": "code",
   "execution_count": null,
   "id": "9ba4a0c5",
   "metadata": {},
   "outputs": [],
   "source": [
    "#meto cambio la Q de las medias piezas-- se ha sacado el precio por kilo \n"
   ]
  },
  {
   "cell_type": "code",
   "execution_count": 364,
   "id": "8ed97efb",
   "metadata": {},
   "outputs": [],
   "source": [
    "filtrado_ud = mer.loc[(mer[\"medida_rel\"]== '2 Pieza')]\n",
    "lista_medias=list(filtrado_ud.index)"
   ]
  },
  {
   "cell_type": "code",
   "execution_count": 365,
   "id": "6b363e12",
   "metadata": {},
   "outputs": [],
   "source": [
    "for i in lista_medios:\n",
    "    mer.loc[i, 'q_medida'] = 1"
   ]
  },
  {
   "cell_type": "code",
   "execution_count": 366,
   "id": "123386cb",
   "metadata": {},
   "outputs": [],
   "source": [
    "mer[\"cantidad\"]=mer[\"cantidad_sinx\"]*mer[\"q_medida\"]"
   ]
  },
  {
   "cell_type": "code",
   "execution_count": 367,
   "id": "a97b62b2",
   "metadata": {},
   "outputs": [],
   "source": [
    "mer[\"medida_2\"]=mer[\"unidad\"].fillna(mer[\"medida_\"])"
   ]
  },
  {
   "cell_type": "code",
   "execution_count": 368,
   "id": "e5f83d94",
   "metadata": {},
   "outputs": [
    {
     "data": {
      "text/plain": [
       "array(['L', 'ml', 'g', 'kg', 'ud.', 'filtros', 'ampollas', 'sobres',\n",
       "       'bandas', 'tiras', 'rollo', 'apositos', 'venda', 'protectores',\n",
       "       'monodosis', 'preservativos', 'pastillas', 'velas', 'recambios',\n",
       "       'm', 'hojas', 'bolsas', 'cajas', 'servicios', 'rollos', 'fundas'],\n",
       "      dtype=object)"
      ]
     },
     "execution_count": 368,
     "metadata": {},
     "output_type": "execute_result"
    }
   ],
   "source": [
    "mer.medida_2.unique()"
   ]
  },
  {
   "cell_type": "code",
   "execution_count": 369,
   "id": "998cb64a",
   "metadata": {},
   "outputs": [],
   "source": [
    "def medidas(a):\n",
    "    if \"filtros\" in a:\n",
    "        return \"ud\"\n",
    "    elif \"ud.\" in a:\n",
    "        return \"ud\"\n",
    "    elif \"sobres\" in a:\n",
    "        return \"ud\"\n",
    "    elif \"ampollas\" in a:\n",
    "        return \"ud\" \n",
    "    elif \"bandas\" in a:\n",
    "        return \"ud\"     \n",
    "    elif \"tiras\" in a:\n",
    "        return \"ud\"     \n",
    "    elif \"rollo\" in a:\n",
    "        return \"ud\"   \n",
    "    elif \"protectores\" in a:\n",
    "        return \"ud\"\n",
    "    elif \"apositos\" in a:\n",
    "        return \"ud\"   \n",
    "    elif \"venda\" in a:\n",
    "        return \"ud\"  \n",
    "    elif \"monodosis\" in a:\n",
    "        return \"ud\"     \n",
    "    elif \"preservativos\" in a:\n",
    "        return \"ud\"     \n",
    "    elif \"pastillas\" in a:\n",
    "        return \"ud\"   \n",
    "    elif \"velas\" in a:\n",
    "        return \"ud\"     \n",
    "    elif \"recambios\" in a:\n",
    "        return \"ud\"     \n",
    "    elif \"hojas\" in a:\n",
    "        return \"ud\"         \n",
    "    elif \"bolsas\" in a:\n",
    "        return \"ud\"     \n",
    "    elif \"cajas\" in a:\n",
    "        return \"ud\"     \n",
    "    elif \"servicios\" in a:\n",
    "        return \"ud\"         \n",
    "    elif \"rollos\" in a:\n",
    "        return \"ud\"     \n",
    "    elif \"fundas\" in a:\n",
    "        return \"ud\"\n",
    "    else:\n",
    "        return a\n"
   ]
  },
  {
   "cell_type": "code",
   "execution_count": 370,
   "id": "12532b26",
   "metadata": {},
   "outputs": [],
   "source": [
    "mer[\"medida_unif\"]=mer.medida_2.apply(medidas)"
   ]
  },
  {
   "cell_type": "code",
   "execution_count": 375,
   "id": "f960a6c1",
   "metadata": {},
   "outputs": [],
   "source": [
    "mer.to_csv(\"limpieza_stream/ultimo_mer_todo.csv\")"
   ]
  },
  {
   "cell_type": "code",
   "execution_count": 379,
   "id": "63bb3df8",
   "metadata": {},
   "outputs": [],
   "source": [
    "mer[\"nombre_prod\"]= mer[\"nombre_prod\"].replace(to_replace ='Â', value = '', regex = True)\n",
    "mer[\"nombre_prod\"]= mer[\"nombre_prod\"].replace(to_replace ='â¬', value = '', regex = True)"
   ]
  },
  {
   "cell_type": "code",
   "execution_count": 382,
   "id": "8a74bd90",
   "metadata": {},
   "outputs": [
    {
     "data": {
      "text/html": [
       "<div>\n",
       "<style scoped>\n",
       "    .dataframe tbody tr th:only-of-type {\n",
       "        vertical-align: middle;\n",
       "    }\n",
       "\n",
       "    .dataframe tbody tr th {\n",
       "        vertical-align: top;\n",
       "    }\n",
       "\n",
       "    .dataframe thead th {\n",
       "        text-align: right;\n",
       "    }\n",
       "</style>\n",
       "<table border=\"1\" class=\"dataframe\">\n",
       "  <thead>\n",
       "    <tr style=\"text-align: right;\">\n",
       "      <th></th>\n",
       "      <th>Unnamed: 0</th>\n",
       "      <th>producto</th>\n",
       "      <th>link</th>\n",
       "      <th>nombre_prod</th>\n",
       "      <th>Q</th>\n",
       "      <th>precio</th>\n",
       "      <th>anadir</th>\n",
       "      <th>precio_medida</th>\n",
       "      <th>medida</th>\n",
       "      <th>medida_rel</th>\n",
       "      <th>q_medida</th>\n",
       "      <th>medida_</th>\n",
       "      <th>Q2</th>\n",
       "      <th>cantidad_sinx</th>\n",
       "      <th>unidad</th>\n",
       "      <th>cantidad</th>\n",
       "      <th>medida_2</th>\n",
       "      <th>medida_unif</th>\n",
       "    </tr>\n",
       "  </thead>\n",
       "  <tbody>\n",
       "    <tr>\n",
       "      <th>0</th>\n",
       "      <td>0</td>\n",
       "      <td>Aceite de oliva 0.4Âº Hacendado\\nGarrafa 5 L\\n...</td>\n",
       "      <td>https://tienda.mercadona.es/categories/112</td>\n",
       "      <td>Aceite de oliva 0.4º Hacendado</td>\n",
       "      <td>Garrafa 5 L</td>\n",
       "      <td>15.50 â¬ /ud.</td>\n",
       "      <td>Anadir al carro</td>\n",
       "      <td>15.50</td>\n",
       "      <td>ud.</td>\n",
       "      <td>5 L</td>\n",
       "      <td>5</td>\n",
       "      <td>L</td>\n",
       "      <td>NaN</td>\n",
       "      <td>1.0</td>\n",
       "      <td>NaN</td>\n",
       "      <td>5.0</td>\n",
       "      <td>L</td>\n",
       "      <td>L</td>\n",
       "    </tr>\n",
       "    <tr>\n",
       "      <th>1</th>\n",
       "      <td>1</td>\n",
       "      <td>Aceite de oliva 0.4Âº Hacendado\\nBotella 1 L\\n...</td>\n",
       "      <td>https://tienda.mercadona.es/categories/112</td>\n",
       "      <td>Aceite de oliva 0.4º Hacendado</td>\n",
       "      <td>Botella 1 L</td>\n",
       "      <td>3.20 â¬ /ud.</td>\n",
       "      <td>Anadir al carro</td>\n",
       "      <td>3.20</td>\n",
       "      <td>ud.</td>\n",
       "      <td>1 L</td>\n",
       "      <td>1</td>\n",
       "      <td>L</td>\n",
       "      <td>NaN</td>\n",
       "      <td>1.0</td>\n",
       "      <td>NaN</td>\n",
       "      <td>1.0</td>\n",
       "      <td>L</td>\n",
       "      <td>L</td>\n",
       "    </tr>\n",
       "    <tr>\n",
       "      <th>2</th>\n",
       "      <td>2</td>\n",
       "      <td>Aceite de oliva virgen extra Hacendado\\nGarraf...</td>\n",
       "      <td>https://tienda.mercadona.es/categories/112</td>\n",
       "      <td>Aceite de oliva virgen extra Hacendado</td>\n",
       "      <td>Garrafa 3 L</td>\n",
       "      <td>11.00 â¬ /ud.</td>\n",
       "      <td>Anadir al carro</td>\n",
       "      <td>11.00</td>\n",
       "      <td>ud.</td>\n",
       "      <td>3 L</td>\n",
       "      <td>3</td>\n",
       "      <td>L</td>\n",
       "      <td>NaN</td>\n",
       "      <td>1.0</td>\n",
       "      <td>NaN</td>\n",
       "      <td>3.0</td>\n",
       "      <td>L</td>\n",
       "      <td>L</td>\n",
       "    </tr>\n",
       "    <tr>\n",
       "      <th>3</th>\n",
       "      <td>3</td>\n",
       "      <td>Aceite de oliva virgen extra Hacendado\\nBotell...</td>\n",
       "      <td>https://tienda.mercadona.es/categories/112</td>\n",
       "      <td>Aceite de oliva virgen extra Hacendado</td>\n",
       "      <td>Botella 1 L</td>\n",
       "      <td>3.95 â¬ /ud.</td>\n",
       "      <td>Anadir al carro</td>\n",
       "      <td>3.95</td>\n",
       "      <td>ud.</td>\n",
       "      <td>1 L</td>\n",
       "      <td>1</td>\n",
       "      <td>L</td>\n",
       "      <td>NaN</td>\n",
       "      <td>1.0</td>\n",
       "      <td>NaN</td>\n",
       "      <td>1.0</td>\n",
       "      <td>L</td>\n",
       "      <td>L</td>\n",
       "    </tr>\n",
       "    <tr>\n",
       "      <th>4</th>\n",
       "      <td>4</td>\n",
       "      <td>Aceite de oliva virgen extra Hacendado Gran Se...</td>\n",
       "      <td>https://tienda.mercadona.es/categories/112</td>\n",
       "      <td>Aceite de oliva virgen extra Hacendado Gran Se...</td>\n",
       "      <td>Botella 750 ml</td>\n",
       "      <td>4.10 â¬ /ud.</td>\n",
       "      <td>Anadir al carro</td>\n",
       "      <td>4.10</td>\n",
       "      <td>ud.</td>\n",
       "      <td>750 ml</td>\n",
       "      <td>750</td>\n",
       "      <td>ml</td>\n",
       "      <td>NaN</td>\n",
       "      <td>1.0</td>\n",
       "      <td>NaN</td>\n",
       "      <td>750.0</td>\n",
       "      <td>ml</td>\n",
       "      <td>ml</td>\n",
       "    </tr>\n",
       "    <tr>\n",
       "      <th>...</th>\n",
       "      <td>...</td>\n",
       "      <td>...</td>\n",
       "      <td>...</td>\n",
       "      <td>...</td>\n",
       "      <td>...</td>\n",
       "      <td>...</td>\n",
       "      <td>...</td>\n",
       "      <td>...</td>\n",
       "      <td>...</td>\n",
       "      <td>...</td>\n",
       "      <td>...</td>\n",
       "      <td>...</td>\n",
       "      <td>...</td>\n",
       "      <td>...</td>\n",
       "      <td>...</td>\n",
       "      <td>...</td>\n",
       "      <td>...</td>\n",
       "      <td>...</td>\n",
       "    </tr>\n",
       "    <tr>\n",
       "      <th>6926</th>\n",
       "      <td>6926</td>\n",
       "      <td>Nectar de pomelo Hacendado sin azucares anadid...</td>\n",
       "      <td>https://tienda.mercadona.es/categories/98</td>\n",
       "      <td>Nectar de pomelo Hacendado sin azucares anadidos</td>\n",
       "      <td>Brick 1 L</td>\n",
       "      <td>1.10 â¬ /ud.</td>\n",
       "      <td>Anadir al carro</td>\n",
       "      <td>1.10</td>\n",
       "      <td>ud.</td>\n",
       "      <td>1 L</td>\n",
       "      <td>1</td>\n",
       "      <td>L</td>\n",
       "      <td>NaN</td>\n",
       "      <td>1.0</td>\n",
       "      <td>NaN</td>\n",
       "      <td>1.0</td>\n",
       "      <td>L</td>\n",
       "      <td>L</td>\n",
       "    </tr>\n",
       "    <tr>\n",
       "      <th>6927</th>\n",
       "      <td>6927</td>\n",
       "      <td>Nectar guayaba Hacendado sin azucares anadidos...</td>\n",
       "      <td>https://tienda.mercadona.es/categories/98</td>\n",
       "      <td>Nectar guayaba Hacendado sin azucares anadidos</td>\n",
       "      <td>Brick 1 L</td>\n",
       "      <td>1.05 â¬ /ud.</td>\n",
       "      <td>Anadir al carro</td>\n",
       "      <td>1.05</td>\n",
       "      <td>ud.</td>\n",
       "      <td>1 L</td>\n",
       "      <td>1</td>\n",
       "      <td>L</td>\n",
       "      <td>NaN</td>\n",
       "      <td>1.0</td>\n",
       "      <td>NaN</td>\n",
       "      <td>1.0</td>\n",
       "      <td>L</td>\n",
       "      <td>L</td>\n",
       "    </tr>\n",
       "    <tr>\n",
       "      <th>6928</th>\n",
       "      <td>6928</td>\n",
       "      <td>Nectar de pera Hacendado sin azucares anadidos...</td>\n",
       "      <td>https://tienda.mercadona.es/categories/98</td>\n",
       "      <td>Nectar de pera Hacendado sin azucares anadidos</td>\n",
       "      <td>Brick 1 L</td>\n",
       "      <td>0.95 â¬ /ud.</td>\n",
       "      <td>Anadir al carro</td>\n",
       "      <td>0.95</td>\n",
       "      <td>ud.</td>\n",
       "      <td>1 L</td>\n",
       "      <td>1</td>\n",
       "      <td>L</td>\n",
       "      <td>NaN</td>\n",
       "      <td>1.0</td>\n",
       "      <td>NaN</td>\n",
       "      <td>1.0</td>\n",
       "      <td>L</td>\n",
       "      <td>L</td>\n",
       "    </tr>\n",
       "    <tr>\n",
       "      <th>6929</th>\n",
       "      <td>6929</td>\n",
       "      <td>Zumo de pomelo Hacendado\\nBrick 1 L\\n1.30 â¬ ...</td>\n",
       "      <td>https://tienda.mercadona.es/categories/98</td>\n",
       "      <td>Zumo de pomelo Hacendado</td>\n",
       "      <td>Brick 1 L</td>\n",
       "      <td>1.30 â¬ /ud.</td>\n",
       "      <td>Anadir al carro</td>\n",
       "      <td>1.30</td>\n",
       "      <td>ud.</td>\n",
       "      <td>1 L</td>\n",
       "      <td>1</td>\n",
       "      <td>L</td>\n",
       "      <td>NaN</td>\n",
       "      <td>1.0</td>\n",
       "      <td>NaN</td>\n",
       "      <td>1.0</td>\n",
       "      <td>L</td>\n",
       "      <td>L</td>\n",
       "    </tr>\n",
       "    <tr>\n",
       "      <th>6930</th>\n",
       "      <td>6930</td>\n",
       "      <td>Zumo de manzana seleccion Hacendado\\nBrick 1 L...</td>\n",
       "      <td>https://tienda.mercadona.es/categories/98</td>\n",
       "      <td>Zumo de manzana seleccion Hacendado</td>\n",
       "      <td>Brick 1 L</td>\n",
       "      <td>1.36 â¬ /ud.</td>\n",
       "      <td>Anadir al carro</td>\n",
       "      <td>1.36</td>\n",
       "      <td>ud.</td>\n",
       "      <td>1 L</td>\n",
       "      <td>1</td>\n",
       "      <td>L</td>\n",
       "      <td>NaN</td>\n",
       "      <td>1.0</td>\n",
       "      <td>NaN</td>\n",
       "      <td>1.0</td>\n",
       "      <td>L</td>\n",
       "      <td>L</td>\n",
       "    </tr>\n",
       "  </tbody>\n",
       "</table>\n",
       "<p>6931 rows × 18 columns</p>\n",
       "</div>"
      ],
      "text/plain": [
       "      Unnamed: 0                                           producto  \\\n",
       "0              0  Aceite de oliva 0.4Âº Hacendado\\nGarrafa 5 L\\n...   \n",
       "1              1  Aceite de oliva 0.4Âº Hacendado\\nBotella 1 L\\n...   \n",
       "2              2  Aceite de oliva virgen extra Hacendado\\nGarraf...   \n",
       "3              3  Aceite de oliva virgen extra Hacendado\\nBotell...   \n",
       "4              4  Aceite de oliva virgen extra Hacendado Gran Se...   \n",
       "...          ...                                                ...   \n",
       "6926        6926  Nectar de pomelo Hacendado sin azucares anadid...   \n",
       "6927        6927  Nectar guayaba Hacendado sin azucares anadidos...   \n",
       "6928        6928  Nectar de pera Hacendado sin azucares anadidos...   \n",
       "6929        6929  Zumo de pomelo Hacendado\\nBrick 1 L\\n1.30 â¬ ...   \n",
       "6930        6930  Zumo de manzana seleccion Hacendado\\nBrick 1 L...   \n",
       "\n",
       "                                            link  \\\n",
       "0     https://tienda.mercadona.es/categories/112   \n",
       "1     https://tienda.mercadona.es/categories/112   \n",
       "2     https://tienda.mercadona.es/categories/112   \n",
       "3     https://tienda.mercadona.es/categories/112   \n",
       "4     https://tienda.mercadona.es/categories/112   \n",
       "...                                          ...   \n",
       "6926   https://tienda.mercadona.es/categories/98   \n",
       "6927   https://tienda.mercadona.es/categories/98   \n",
       "6928   https://tienda.mercadona.es/categories/98   \n",
       "6929   https://tienda.mercadona.es/categories/98   \n",
       "6930   https://tienda.mercadona.es/categories/98   \n",
       "\n",
       "                                            nombre_prod               Q  \\\n",
       "0                        Aceite de oliva 0.4º Hacendado     Garrafa 5 L   \n",
       "1                        Aceite de oliva 0.4º Hacendado     Botella 1 L   \n",
       "2                Aceite de oliva virgen extra Hacendado     Garrafa 3 L   \n",
       "3                Aceite de oliva virgen extra Hacendado     Botella 1 L   \n",
       "4     Aceite de oliva virgen extra Hacendado Gran Se...  Botella 750 ml   \n",
       "...                                                 ...             ...   \n",
       "6926   Nectar de pomelo Hacendado sin azucares anadidos       Brick 1 L   \n",
       "6927     Nectar guayaba Hacendado sin azucares anadidos       Brick 1 L   \n",
       "6928     Nectar de pera Hacendado sin azucares anadidos       Brick 1 L   \n",
       "6929                           Zumo de pomelo Hacendado       Brick 1 L   \n",
       "6930                Zumo de manzana seleccion Hacendado       Brick 1 L   \n",
       "\n",
       "              precio           anadir  precio_medida medida medida_rel  \\\n",
       "0     15.50 â¬ /ud.  Anadir al carro          15.50    ud.        5 L   \n",
       "1      3.20 â¬ /ud.  Anadir al carro           3.20    ud.        1 L   \n",
       "2     11.00 â¬ /ud.  Anadir al carro          11.00    ud.        3 L   \n",
       "3      3.95 â¬ /ud.  Anadir al carro           3.95    ud.        1 L   \n",
       "4      4.10 â¬ /ud.  Anadir al carro           4.10    ud.     750 ml   \n",
       "...              ...              ...            ...    ...        ...   \n",
       "6926   1.10 â¬ /ud.  Anadir al carro           1.10    ud.        1 L   \n",
       "6927   1.05 â¬ /ud.  Anadir al carro           1.05    ud.        1 L   \n",
       "6928   0.95 â¬ /ud.  Anadir al carro           0.95    ud.        1 L   \n",
       "6929   1.30 â¬ /ud.  Anadir al carro           1.30    ud.        1 L   \n",
       "6930   1.36 â¬ /ud.  Anadir al carro           1.36    ud.        1 L   \n",
       "\n",
       "      q_medida medida_   Q2  cantidad_sinx unidad  cantidad medida_2  \\\n",
       "0            5       L  NaN            1.0    NaN       5.0        L   \n",
       "1            1       L  NaN            1.0    NaN       1.0        L   \n",
       "2            3       L  NaN            1.0    NaN       3.0        L   \n",
       "3            1       L  NaN            1.0    NaN       1.0        L   \n",
       "4          750      ml  NaN            1.0    NaN     750.0       ml   \n",
       "...        ...     ...  ...            ...    ...       ...      ...   \n",
       "6926         1       L  NaN            1.0    NaN       1.0        L   \n",
       "6927         1       L  NaN            1.0    NaN       1.0        L   \n",
       "6928         1       L  NaN            1.0    NaN       1.0        L   \n",
       "6929         1       L  NaN            1.0    NaN       1.0        L   \n",
       "6930         1       L  NaN            1.0    NaN       1.0        L   \n",
       "\n",
       "     medida_unif  \n",
       "0              L  \n",
       "1              L  \n",
       "2              L  \n",
       "3              L  \n",
       "4             ml  \n",
       "...          ...  \n",
       "6926           L  \n",
       "6927           L  \n",
       "6928           L  \n",
       "6929           L  \n",
       "6930           L  \n",
       "\n",
       "[6931 rows x 18 columns]"
      ]
     },
     "execution_count": 382,
     "metadata": {},
     "output_type": "execute_result"
    }
   ],
   "source": [
    "mer_unif="
   ]
  },
  {
   "cell_type": "code",
   "execution_count": 233,
   "id": "631f30d6",
   "metadata": {},
   "outputs": [
    {
     "data": {
      "text/plain": [
       "array(['Kg', 'l', 'ud', 'm', 'Lavado\\n\\n\\n\\n\\n'], dtype=object)"
      ]
     },
     "execution_count": 233,
     "metadata": {},
     "output_type": "execute_result"
    }
   ],
   "source": [
    "dia.medida.unique()"
   ]
  },
  {
   "cell_type": "code",
   "execution_count": 261,
   "id": "84ab14ef",
   "metadata": {},
   "outputs": [
    {
     "data": {
      "text/plain": [
       "array(['l', 'kg', 'docena', nan, 'ud', '100ml', 'lavado', 'm'],\n",
       "      dtype=object)"
      ]
     },
     "execution_count": 261,
     "metadata": {},
     "output_type": "execute_result"
    }
   ],
   "source": [
    "carr.medida.unique()"
   ]
  },
  {
   "cell_type": "code",
   "execution_count": null,
   "id": "15c0b62a",
   "metadata": {},
   "outputs": [],
   "source": [
    "medida"
   ]
  },
  {
   "cell_type": "code",
   "execution_count": 291,
   "id": "b87226ce",
   "metadata": {},
   "outputs": [],
   "source": []
  },
  {
   "cell_type": "code",
   "execution_count": 300,
   "id": "e7440a24",
   "metadata": {},
   "outputs": [],
   "source": []
  },
  {
   "cell_type": "code",
   "execution_count": 298,
   "id": "0951ad28",
   "metadata": {},
   "outputs": [],
   "source": [
    "\n"
   ]
  }
 ],
 "metadata": {
  "kernelspec": {
   "display_name": "ironhack",
   "language": "python",
   "name": "ironhack"
  },
  "language_info": {
   "codemirror_mode": {
    "name": "ipython",
    "version": 3
   },
   "file_extension": ".py",
   "mimetype": "text/x-python",
   "name": "python",
   "nbconvert_exporter": "python",
   "pygments_lexer": "ipython3",
   "version": "3.8.5"
  }
 },
 "nbformat": 4,
 "nbformat_minor": 5
}
