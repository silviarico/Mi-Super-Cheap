{
 "cells": [
  {
   "cell_type": "code",
   "execution_count": 1,
   "id": "6ec02fff",
   "metadata": {},
   "outputs": [],
   "source": [
    "import pandas as pd\n",
    "import numpy as np\n",
    "import re\n",
    "import math"
   ]
  },
  {
   "cell_type": "code",
   "execution_count": 2,
   "id": "5e7f7179",
   "metadata": {},
   "outputs": [],
   "source": [
    "mer=pd.read_csv(\"limpieza_stream/mercadona_DEF.csv\",encoding = \"ISO-8859-1\")\n",
    "\n",
    "carr=pd.read_csv(\"limpieza_stream/carr_conDEF.csv\",encoding = \"ISO-8859-1\")"
   ]
  },
  {
   "cell_type": "markdown",
   "id": "83650e8a",
   "metadata": {},
   "source": [
    "# MERCADONA"
   ]
  },
  {
   "cell_type": "code",
   "execution_count": 3,
   "id": "9f5f5833",
   "metadata": {},
   "outputs": [],
   "source": [
    "mer[\"Q\"]= mer[\"Q\"].replace(to_replace ='[(]', value = 'x ', regex = True)"
   ]
  },
  {
   "cell_type": "code",
   "execution_count": 4,
   "id": "5533e6f7",
   "metadata": {},
   "outputs": [],
   "source": [
    "mer[\"Q\"]= mer[\"Q\"].replace(to_replace ='1/2 Pieza', value = 'x ', regex = True)"
   ]
  },
  {
   "cell_type": "code",
   "execution_count": 5,
   "id": "b56fc3a1",
   "metadata": {},
   "outputs": [],
   "source": [
    " mer[\"Q2\"]=mer[\"Q\"].str.extract(r\"(x +\\d+[\\w.\\-]* [\\w.\\-]*)\",)"
   ]
  },
  {
   "cell_type": "code",
   "execution_count": null,
   "id": "544a2407",
   "metadata": {},
   "outputs": [],
   "source": [
    "#mer[\"Q2\"]=mer[\"Q\"].str.extract(r\"(x \\d+ [\\w.\\-])\",)"
   ]
  },
  {
   "cell_type": "code",
   "execution_count": 6,
   "id": "8a84201c",
   "metadata": {},
   "outputs": [],
   "source": [
    "mer[\"Q2\"]= mer[\"Q2\"].replace(to_replace ='[x]', value = '', regex = True)"
   ]
  },
  {
   "cell_type": "code",
   "execution_count": 7,
   "id": "3663ae96",
   "metadata": {},
   "outputs": [],
   "source": [
    "mer[\"Q2\"]= mer[\"Q2\"].str.strip()\n"
   ]
  },
  {
   "cell_type": "code",
   "execution_count": 8,
   "id": "1cefc350",
   "metadata": {},
   "outputs": [],
   "source": [
    "mer[[\"cantidad_sinx\",\"unidad\"]]=mer[\"Q2\"].str.split(r\" \",expand=True)"
   ]
  },
  {
   "cell_type": "code",
   "execution_count": 9,
   "id": "68315913",
   "metadata": {},
   "outputs": [],
   "source": [
    "mer[\"cantidad_sinx\"]=pd.to_numeric(mer[\"cantidad_sinx\"])\n",
    "mer[\"q_medida\"]=pd.to_numeric(mer[\"q_medida\"])"
   ]
  },
  {
   "cell_type": "code",
   "execution_count": 10,
   "id": "7c7cc566",
   "metadata": {},
   "outputs": [],
   "source": [
    "mer[\"cantidad_sinx\"]=mer[\"cantidad_sinx\"].fillna(1)"
   ]
  },
  {
   "cell_type": "code",
   "execution_count": null,
   "id": "71c6b12a",
   "metadata": {},
   "outputs": [],
   "source": [
    "#meto cambio la Q de las medias piezas-- se ha sacado el precio por kilo \n"
   ]
  },
  {
   "cell_type": "code",
   "execution_count": 11,
   "id": "21d4ffd0",
   "metadata": {},
   "outputs": [],
   "source": [
    "filtrado_ud = mer.loc[(mer[\"medida_rel\"]== '2 Pieza')]\n",
    "lista_medias=list(filtrado_ud.index)"
   ]
  },
  {
   "cell_type": "code",
   "execution_count": 14,
   "id": "ababa24e",
   "metadata": {},
   "outputs": [],
   "source": [
    "for i in lista_medias:\n",
    "    mer.loc[i, 'q_medida'] = 1"
   ]
  },
  {
   "cell_type": "code",
   "execution_count": 15,
   "id": "4ae7c49f",
   "metadata": {},
   "outputs": [],
   "source": [
    "mer[\"cantidad\"]=mer[\"cantidad_sinx\"]*mer[\"q_medida\"]"
   ]
  },
  {
   "cell_type": "code",
   "execution_count": 16,
   "id": "deb643d9",
   "metadata": {},
   "outputs": [],
   "source": [
    "mer[\"medida_2\"]=mer[\"unidad\"].fillna(mer[\"medida_\"])"
   ]
  },
  {
   "cell_type": "code",
   "execution_count": 17,
   "id": "d8d78951",
   "metadata": {},
   "outputs": [
    {
     "data": {
      "text/plain": [
       "array(['L', 'ml', 'g', 'kg', 'ud.', 'filtros', 'ampollas', 'sobres',\n",
       "       'bandas', 'tiras', 'rollo', 'apositos', 'venda', 'protectores',\n",
       "       'monodosis', 'preservativos', 'pastillas', 'velas', 'recambios',\n",
       "       'm', 'hojas', 'bolsas', 'cajas', 'servicios', 'rollos', 'fundas'],\n",
       "      dtype=object)"
      ]
     },
     "execution_count": 17,
     "metadata": {},
     "output_type": "execute_result"
    }
   ],
   "source": [
    "mer.medida_2.unique()"
   ]
  },
  {
   "cell_type": "code",
   "execution_count": 18,
   "id": "01faa3dd",
   "metadata": {},
   "outputs": [],
   "source": [
    "def medidas(a):\n",
    "    if \"filtros\" in a:\n",
    "        return \"ud\"\n",
    "    elif \"ud.\" in a:\n",
    "        return \"ud\"\n",
    "    elif \"sobres\" in a:\n",
    "        return \"ud\"\n",
    "    elif \"ampollas\" in a:\n",
    "        return \"ud\" \n",
    "    elif \"bandas\" in a:\n",
    "        return \"ud\"     \n",
    "    elif \"tiras\" in a:\n",
    "        return \"ud\"     \n",
    "    elif \"rollo\" in a:\n",
    "        return \"ud\"   \n",
    "    elif \"protectores\" in a:\n",
    "        return \"ud\"\n",
    "    elif \"apositos\" in a:\n",
    "        return \"ud\"   \n",
    "    elif \"venda\" in a:\n",
    "        return \"ud\"  \n",
    "    elif \"monodosis\" in a:\n",
    "        return \"ud\"     \n",
    "    elif \"preservativos\" in a:\n",
    "        return \"ud\"     \n",
    "    elif \"pastillas\" in a:\n",
    "        return \"ud\"   \n",
    "    elif \"velas\" in a:\n",
    "        return \"ud\"     \n",
    "    elif \"recambios\" in a:\n",
    "        return \"ud\"     \n",
    "    elif \"hojas\" in a:\n",
    "        return \"ud\"         \n",
    "    elif \"bolsas\" in a:\n",
    "        return \"ud\"     \n",
    "    elif \"cajas\" in a:\n",
    "        return \"ud\"     \n",
    "    elif \"servicios\" in a:\n",
    "        return \"ud\"         \n",
    "    elif \"rollos\" in a:\n",
    "        return \"ud\"     \n",
    "    elif \"fundas\" in a:\n",
    "        return \"ud\"\n",
    "    else:\n",
    "        return a\n"
   ]
  },
  {
   "cell_type": "code",
   "execution_count": 19,
   "id": "df8b704c",
   "metadata": {},
   "outputs": [],
   "source": [
    "mer[\"medida_unif\"]=mer.medida_2.apply(medidas)"
   ]
  },
  {
   "cell_type": "code",
   "execution_count": 20,
   "id": "76b3a80c",
   "metadata": {},
   "outputs": [],
   "source": [
    "mer[\"nombre_prod\"]= mer[\"nombre_prod\"].replace(to_replace ='Â', value = '', regex = True)\n",
    "mer[\"nombre_prod\"]= mer[\"nombre_prod\"].replace(to_replace ='â¬', value = '', regex = True)"
   ]
  },
  {
   "cell_type": "code",
   "execution_count": 21,
   "id": "9ec62603",
   "metadata": {},
   "outputs": [],
   "source": [
    "mer.to_csv(\"limpieza_stream/ultimo_mer_todo.csv\")"
   ]
  },
  {
   "cell_type": "code",
   "execution_count": 22,
   "id": "f812de21",
   "metadata": {},
   "outputs": [],
   "source": [
    "mer_unif=pd.DataFrame()\n",
    "mer_unif[[\"producto\", \"precio\",\"cantidad\",\"medida\"]]= mer[[\"nombre_prod\", \"precio_medida\",\"cantidad\",\"medida_unif\"]]"
   ]
  },
  {
   "cell_type": "code",
   "execution_count": null,
   "id": "fca2efc2",
   "metadata": {},
   "outputs": [],
   "source": [
    "mer_unif.to_csv(\"limpieza_stream/mer_unif.csv\")"
   ]
  },
  {
   "cell_type": "code",
   "execution_count": 25,
   "id": "85ffe139",
   "metadata": {},
   "outputs": [
    {
     "data": {
      "text/html": [
       "<div>\n",
       "<style scoped>\n",
       "    .dataframe tbody tr th:only-of-type {\n",
       "        vertical-align: middle;\n",
       "    }\n",
       "\n",
       "    .dataframe tbody tr th {\n",
       "        vertical-align: top;\n",
       "    }\n",
       "\n",
       "    .dataframe thead th {\n",
       "        text-align: right;\n",
       "    }\n",
       "</style>\n",
       "<table border=\"1\" class=\"dataframe\">\n",
       "  <thead>\n",
       "    <tr style=\"text-align: right;\">\n",
       "      <th></th>\n",
       "      <th>producto</th>\n",
       "      <th>precio</th>\n",
       "      <th>cantidad</th>\n",
       "      <th>medida</th>\n",
       "    </tr>\n",
       "  </thead>\n",
       "  <tbody>\n",
       "    <tr>\n",
       "      <th>0</th>\n",
       "      <td>Aceite de oliva 0.4º Hacendado</td>\n",
       "      <td>15.50</td>\n",
       "      <td>5.0</td>\n",
       "      <td>L</td>\n",
       "    </tr>\n",
       "    <tr>\n",
       "      <th>1</th>\n",
       "      <td>Aceite de oliva 0.4º Hacendado</td>\n",
       "      <td>3.20</td>\n",
       "      <td>1.0</td>\n",
       "      <td>L</td>\n",
       "    </tr>\n",
       "    <tr>\n",
       "      <th>2</th>\n",
       "      <td>Aceite de oliva virgen extra Hacendado</td>\n",
       "      <td>11.00</td>\n",
       "      <td>3.0</td>\n",
       "      <td>L</td>\n",
       "    </tr>\n",
       "    <tr>\n",
       "      <th>3</th>\n",
       "      <td>Aceite de oliva virgen extra Hacendado</td>\n",
       "      <td>3.95</td>\n",
       "      <td>1.0</td>\n",
       "      <td>L</td>\n",
       "    </tr>\n",
       "    <tr>\n",
       "      <th>4</th>\n",
       "      <td>Aceite de oliva virgen extra Hacendado Gran Se...</td>\n",
       "      <td>4.10</td>\n",
       "      <td>750.0</td>\n",
       "      <td>ml</td>\n",
       "    </tr>\n",
       "  </tbody>\n",
       "</table>\n",
       "</div>"
      ],
      "text/plain": [
       "                                            producto  precio  cantidad medida\n",
       "0                     Aceite de oliva 0.4º Hacendado   15.50       5.0      L\n",
       "1                     Aceite de oliva 0.4º Hacendado    3.20       1.0      L\n",
       "2             Aceite de oliva virgen extra Hacendado   11.00       3.0      L\n",
       "3             Aceite de oliva virgen extra Hacendado    3.95       1.0      L\n",
       "4  Aceite de oliva virgen extra Hacendado Gran Se...    4.10     750.0     ml"
      ]
     },
     "execution_count": 25,
     "metadata": {},
     "output_type": "execute_result"
    }
   ],
   "source": [
    "mer_unif.head()"
   ]
  },
  {
   "cell_type": "code",
   "execution_count": 26,
   "id": "1406b83f",
   "metadata": {},
   "outputs": [
    {
     "data": {
      "text/plain": [
       "g     3581\n",
       "ml    1377\n",
       "ud    1184\n",
       "L      456\n",
       "kg     329\n",
       "m        4\n",
       "Name: medida, dtype: int64"
      ]
     },
     "execution_count": 26,
     "metadata": {},
     "output_type": "execute_result"
    }
   ],
   "source": [
    "mer_unif.medida.value_counts()"
   ]
  },
  {
   "cell_type": "code",
   "execution_count": null,
   "id": "a467c693",
   "metadata": {},
   "outputs": [],
   "source": [
    "\"\"\"ml - /1000\n",
    "g    /1000\"\"\""
   ]
  },
  {
   "cell_type": "code",
   "execution_count": 27,
   "id": "571ab314",
   "metadata": {},
   "outputs": [
    {
     "data": {
      "text/plain": [
       "g    3581\n",
       "Name: medida, dtype: int64"
      ]
     },
     "execution_count": 27,
     "metadata": {},
     "output_type": "execute_result"
    }
   ],
   "source": [
    "filtrado_medidas_g = mer_unif.loc[(mer_unif[\"medida\"]=='g')]\n",
    "lista_g=list(filtrado_medidas_g.index)\n",
    "filtrado_medidas_g.medida.value_counts()"
   ]
  },
  {
   "cell_type": "code",
   "execution_count": 28,
   "id": "252f53db",
   "metadata": {},
   "outputs": [
    {
     "data": {
      "text/plain": [
       "ml    1377\n",
       "Name: medida, dtype: int64"
      ]
     },
     "execution_count": 28,
     "metadata": {},
     "output_type": "execute_result"
    }
   ],
   "source": [
    "filtrado_medidas_ml = mer_unif.loc[(mer_unif[\"medida\"]=='ml')]\n",
    "lista_ml=list(filtrado_medidas_ml.index)\n",
    "filtrado_medidas_ml.medida.value_counts()"
   ]
  },
  {
   "cell_type": "code",
   "execution_count": 29,
   "id": "8315c0af",
   "metadata": {},
   "outputs": [
    {
     "data": {
      "text/plain": [
       "4958"
      ]
     },
     "execution_count": 29,
     "metadata": {},
     "output_type": "execute_result"
    }
   ],
   "source": [
    "lista_gml=lista_g+lista_ml\n",
    "len(lista_gml)"
   ]
  },
  {
   "cell_type": "code",
   "execution_count": 30,
   "id": "bc583652",
   "metadata": {},
   "outputs": [
    {
     "data": {
      "text/html": [
       "<div>\n",
       "<style scoped>\n",
       "    .dataframe tbody tr th:only-of-type {\n",
       "        vertical-align: middle;\n",
       "    }\n",
       "\n",
       "    .dataframe tbody tr th {\n",
       "        vertical-align: top;\n",
       "    }\n",
       "\n",
       "    .dataframe thead th {\n",
       "        text-align: right;\n",
       "    }\n",
       "</style>\n",
       "<table border=\"1\" class=\"dataframe\">\n",
       "  <thead>\n",
       "    <tr style=\"text-align: right;\">\n",
       "      <th></th>\n",
       "      <th>producto</th>\n",
       "      <th>precio</th>\n",
       "      <th>cantidad</th>\n",
       "      <th>medida</th>\n",
       "      <th>medida_</th>\n",
       "      <th>cantidad_</th>\n",
       "    </tr>\n",
       "  </thead>\n",
       "  <tbody>\n",
       "    <tr>\n",
       "      <th>0</th>\n",
       "      <td>Aceite de oliva 0.4º Hacendado</td>\n",
       "      <td>15.50</td>\n",
       "      <td>5.0</td>\n",
       "      <td>L</td>\n",
       "      <td>L</td>\n",
       "      <td>5.0</td>\n",
       "    </tr>\n",
       "    <tr>\n",
       "      <th>1</th>\n",
       "      <td>Aceite de oliva 0.4º Hacendado</td>\n",
       "      <td>3.20</td>\n",
       "      <td>1.0</td>\n",
       "      <td>L</td>\n",
       "      <td>L</td>\n",
       "      <td>1.0</td>\n",
       "    </tr>\n",
       "    <tr>\n",
       "      <th>2</th>\n",
       "      <td>Aceite de oliva virgen extra Hacendado</td>\n",
       "      <td>11.00</td>\n",
       "      <td>3.0</td>\n",
       "      <td>L</td>\n",
       "      <td>L</td>\n",
       "      <td>3.0</td>\n",
       "    </tr>\n",
       "    <tr>\n",
       "      <th>3</th>\n",
       "      <td>Aceite de oliva virgen extra Hacendado</td>\n",
       "      <td>3.95</td>\n",
       "      <td>1.0</td>\n",
       "      <td>L</td>\n",
       "      <td>L</td>\n",
       "      <td>1.0</td>\n",
       "    </tr>\n",
       "    <tr>\n",
       "      <th>4</th>\n",
       "      <td>Aceite de oliva virgen extra Hacendado Gran Se...</td>\n",
       "      <td>4.10</td>\n",
       "      <td>750.0</td>\n",
       "      <td>ml</td>\n",
       "      <td>ml</td>\n",
       "      <td>750.0</td>\n",
       "    </tr>\n",
       "  </tbody>\n",
       "</table>\n",
       "</div>"
      ],
      "text/plain": [
       "                                            producto  precio  cantidad medida  \\\n",
       "0                     Aceite de oliva 0.4º Hacendado   15.50       5.0      L   \n",
       "1                     Aceite de oliva 0.4º Hacendado    3.20       1.0      L   \n",
       "2             Aceite de oliva virgen extra Hacendado   11.00       3.0      L   \n",
       "3             Aceite de oliva virgen extra Hacendado    3.95       1.0      L   \n",
       "4  Aceite de oliva virgen extra Hacendado Gran Se...    4.10     750.0     ml   \n",
       "\n",
       "  medida_  cantidad_  \n",
       "0       L        5.0  \n",
       "1       L        1.0  \n",
       "2       L        3.0  \n",
       "3       L        1.0  \n",
       "4      ml      750.0  "
      ]
     },
     "execution_count": 30,
     "metadata": {},
     "output_type": "execute_result"
    }
   ],
   "source": [
    "mer_unif[\"medida_\"]=mer_unif[\"medida\"]\n",
    "mer_unif[\"cantidad_\"]=mer_unif[\"cantidad\"]\n",
    "mer_unif.head()"
   ]
  },
  {
   "cell_type": "code",
   "execution_count": 31,
   "id": "42b2ae73",
   "metadata": {},
   "outputs": [],
   "source": [
    "#for i in lista_gml:\n",
    "    #mer_unif.loc[i, 'cantidad'] = mer_unif.loc[i, 'cantidad_'] /1000"
   ]
  },
  {
   "cell_type": "code",
   "execution_count": 32,
   "id": "686a1c11",
   "metadata": {},
   "outputs": [
    {
     "data": {
      "text/html": [
       "<div>\n",
       "<style scoped>\n",
       "    .dataframe tbody tr th:only-of-type {\n",
       "        vertical-align: middle;\n",
       "    }\n",
       "\n",
       "    .dataframe tbody tr th {\n",
       "        vertical-align: top;\n",
       "    }\n",
       "\n",
       "    .dataframe thead th {\n",
       "        text-align: right;\n",
       "    }\n",
       "</style>\n",
       "<table border=\"1\" class=\"dataframe\">\n",
       "  <thead>\n",
       "    <tr style=\"text-align: right;\">\n",
       "      <th></th>\n",
       "      <th>producto</th>\n",
       "      <th>precio</th>\n",
       "      <th>cantidad</th>\n",
       "      <th>medida</th>\n",
       "      <th>medida_</th>\n",
       "      <th>cantidad_</th>\n",
       "    </tr>\n",
       "  </thead>\n",
       "  <tbody>\n",
       "    <tr>\n",
       "      <th>0</th>\n",
       "      <td>Aceite de oliva 0.4º Hacendado</td>\n",
       "      <td>15.50</td>\n",
       "      <td>5.00</td>\n",
       "      <td>L</td>\n",
       "      <td>L</td>\n",
       "      <td>5.0</td>\n",
       "    </tr>\n",
       "    <tr>\n",
       "      <th>1</th>\n",
       "      <td>Aceite de oliva 0.4º Hacendado</td>\n",
       "      <td>3.20</td>\n",
       "      <td>1.00</td>\n",
       "      <td>L</td>\n",
       "      <td>L</td>\n",
       "      <td>1.0</td>\n",
       "    </tr>\n",
       "    <tr>\n",
       "      <th>2</th>\n",
       "      <td>Aceite de oliva virgen extra Hacendado</td>\n",
       "      <td>11.00</td>\n",
       "      <td>3.00</td>\n",
       "      <td>L</td>\n",
       "      <td>L</td>\n",
       "      <td>3.0</td>\n",
       "    </tr>\n",
       "    <tr>\n",
       "      <th>3</th>\n",
       "      <td>Aceite de oliva virgen extra Hacendado</td>\n",
       "      <td>3.95</td>\n",
       "      <td>1.00</td>\n",
       "      <td>L</td>\n",
       "      <td>L</td>\n",
       "      <td>1.0</td>\n",
       "    </tr>\n",
       "    <tr>\n",
       "      <th>4</th>\n",
       "      <td>Aceite de oliva virgen extra Hacendado Gran Se...</td>\n",
       "      <td>4.10</td>\n",
       "      <td>0.75</td>\n",
       "      <td>ml</td>\n",
       "      <td>ml</td>\n",
       "      <td>750.0</td>\n",
       "    </tr>\n",
       "  </tbody>\n",
       "</table>\n",
       "</div>"
      ],
      "text/plain": [
       "                                            producto  precio  cantidad medida  \\\n",
       "0                     Aceite de oliva 0.4º Hacendado   15.50      5.00      L   \n",
       "1                     Aceite de oliva 0.4º Hacendado    3.20      1.00      L   \n",
       "2             Aceite de oliva virgen extra Hacendado   11.00      3.00      L   \n",
       "3             Aceite de oliva virgen extra Hacendado    3.95      1.00      L   \n",
       "4  Aceite de oliva virgen extra Hacendado Gran Se...    4.10      0.75     ml   \n",
       "\n",
       "  medida_  cantidad_  \n",
       "0       L        5.0  \n",
       "1       L        1.0  \n",
       "2       L        3.0  \n",
       "3       L        1.0  \n",
       "4      ml      750.0  "
      ]
     },
     "execution_count": 32,
     "metadata": {},
     "output_type": "execute_result"
    }
   ],
   "source": [
    "mer_unif.head()"
   ]
  },
  {
   "cell_type": "code",
   "execution_count": 33,
   "id": "88c5ece5",
   "metadata": {},
   "outputs": [],
   "source": [
    "def gml(a):\n",
    "    if \"ml\" in a:\n",
    "        return \"L\"\n",
    "    elif \"g\" in a:\n",
    "        return \"kg\"\n",
    "    else:\n",
    "        return a"
   ]
  },
  {
   "cell_type": "code",
   "execution_count": 34,
   "id": "8fc59c37",
   "metadata": {},
   "outputs": [],
   "source": [
    "mer_unif['medida']=mer_unif.medida.apply(gml)"
   ]
  },
  {
   "cell_type": "code",
   "execution_count": 36,
   "id": "e2d7a296",
   "metadata": {},
   "outputs": [],
   "source": [
    "mer_final=pd.DataFrame()\n",
    "mer_final=mer_unif[[\"producto\", \"precio\",\"cantidad\",\"medida\"]]"
   ]
  },
  {
   "cell_type": "code",
   "execution_count": 40,
   "id": "6bf86f4c",
   "metadata": {},
   "outputs": [
    {
     "data": {
      "text/html": [
       "<div>\n",
       "<style scoped>\n",
       "    .dataframe tbody tr th:only-of-type {\n",
       "        vertical-align: middle;\n",
       "    }\n",
       "\n",
       "    .dataframe tbody tr th {\n",
       "        vertical-align: top;\n",
       "    }\n",
       "\n",
       "    .dataframe thead th {\n",
       "        text-align: right;\n",
       "    }\n",
       "</style>\n",
       "<table border=\"1\" class=\"dataframe\">\n",
       "  <thead>\n",
       "    <tr style=\"text-align: right;\">\n",
       "      <th></th>\n",
       "      <th>producto</th>\n",
       "      <th>precio</th>\n",
       "      <th>cantidad</th>\n",
       "      <th>medida</th>\n",
       "    </tr>\n",
       "  </thead>\n",
       "  <tbody>\n",
       "    <tr>\n",
       "      <th>0</th>\n",
       "      <td>Aceite de oliva 0.4º Hacendado</td>\n",
       "      <td>15.50</td>\n",
       "      <td>5.00</td>\n",
       "      <td>L</td>\n",
       "    </tr>\n",
       "    <tr>\n",
       "      <th>1</th>\n",
       "      <td>Aceite de oliva 0.4º Hacendado</td>\n",
       "      <td>3.20</td>\n",
       "      <td>1.00</td>\n",
       "      <td>L</td>\n",
       "    </tr>\n",
       "    <tr>\n",
       "      <th>2</th>\n",
       "      <td>Aceite de oliva virgen extra Hacendado</td>\n",
       "      <td>11.00</td>\n",
       "      <td>3.00</td>\n",
       "      <td>L</td>\n",
       "    </tr>\n",
       "    <tr>\n",
       "      <th>3</th>\n",
       "      <td>Aceite de oliva virgen extra Hacendado</td>\n",
       "      <td>3.95</td>\n",
       "      <td>1.00</td>\n",
       "      <td>L</td>\n",
       "    </tr>\n",
       "    <tr>\n",
       "      <th>4</th>\n",
       "      <td>Aceite de oliva virgen extra Hacendado Gran Se...</td>\n",
       "      <td>4.10</td>\n",
       "      <td>0.75</td>\n",
       "      <td>L</td>\n",
       "    </tr>\n",
       "  </tbody>\n",
       "</table>\n",
       "</div>"
      ],
      "text/plain": [
       "                                            producto  precio  cantidad medida\n",
       "0                     Aceite de oliva 0.4º Hacendado   15.50      5.00      L\n",
       "1                     Aceite de oliva 0.4º Hacendado    3.20      1.00      L\n",
       "2             Aceite de oliva virgen extra Hacendado   11.00      3.00      L\n",
       "3             Aceite de oliva virgen extra Hacendado    3.95      1.00      L\n",
       "4  Aceite de oliva virgen extra Hacendado Gran Se...    4.10      0.75      L"
      ]
     },
     "execution_count": 40,
     "metadata": {},
     "output_type": "execute_result"
    }
   ],
   "source": [
    "mer_final.head()"
   ]
  },
  {
   "cell_type": "code",
   "execution_count": 39,
   "id": "a463214b",
   "metadata": {},
   "outputs": [
    {
     "data": {
      "text/plain": [
       "array(['L', 'kg', 'ud', 'm'], dtype=object)"
      ]
     },
     "execution_count": 39,
     "metadata": {},
     "output_type": "execute_result"
    }
   ],
   "source": [
    "mer_final.medida.unique()"
   ]
  },
  {
   "cell_type": "code",
   "execution_count": 38,
   "id": "d9383d9a",
   "metadata": {},
   "outputs": [],
   "source": [
    "mer_final.to_csv(\"limpieza_stream/mercadona_finalsc.csv\")"
   ]
  },
  {
   "cell_type": "markdown",
   "id": "c6c768f5",
   "metadata": {},
   "source": [
    "## DIA"
   ]
  },
  {
   "cell_type": "code",
   "execution_count": null,
   "id": "c3736862",
   "metadata": {},
   "outputs": [],
   "source": [
    "dia=pd.read_csv(\"limpieza_stream/dia_sinDEF.csv\",encoding = \"ISO-8859-1\")"
   ]
  },
  {
   "cell_type": "code",
   "execution_count": null,
   "id": "acc99c5b",
   "metadata": {},
   "outputs": [],
   "source": []
  }
 ],
 "metadata": {
  "kernelspec": {
   "display_name": "ironhack",
   "language": "python",
   "name": "ironhack"
  },
  "language_info": {
   "codemirror_mode": {
    "name": "ipython",
    "version": 3
   },
   "file_extension": ".py",
   "mimetype": "text/x-python",
   "name": "python",
   "nbconvert_exporter": "python",
   "pygments_lexer": "ipython3",
   "version": "3.8.5"
  }
 },
 "nbformat": 4,
 "nbformat_minor": 5
}
